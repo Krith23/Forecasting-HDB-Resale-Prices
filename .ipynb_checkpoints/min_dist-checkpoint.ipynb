{
 "cells": [
  {
   "cell_type": "code",
   "execution_count": 1,
   "metadata": {
    "id": "murJvtrRby8r"
   },
   "outputs": [],
   "source": [
    "import pandas as pd\n",
    "from geopy.distance import geodesic\n",
    "from tqdm import tqdm\n",
    "\n"
   ]
  },
  {
   "cell_type": "code",
   "execution_count": 3,
   "metadata": {
    "id": "Mb1r9utdb0BV"
   },
   "outputs": [],
   "source": [
    "hdb_df = pd.read_csv('/content/hdb_coordinates_final.csv', low_memory=False)"
   ]
  },
  {
   "cell_type": "code",
   "execution_count": 4,
   "metadata": {
    "id": "bTWTv_trtpgE"
   },
   "outputs": [],
   "source": [
    "hdb_df = hdb_df.drop(hdb_df.columns[0], axis=1)"
   ]
  },
  {
   "cell_type": "code",
   "execution_count": null,
   "metadata": {
    "colab": {
     "base_uri": "https://localhost:8080/"
    },
    "id": "_vrpzMvPb0E7",
    "outputId": "8f79fd3a-d620-4b15-a066-3a5491a53fdb"
   },
   "outputs": [
    {
     "name": "stdout",
     "output_type": "stream",
     "text": [
      "<class 'pandas.core.frame.DataFrame'>\n",
      "RangeIndex: 919408 entries, 0 to 919407\n",
      "Data columns (total 14 columns):\n",
      " #   Column               Non-Null Count   Dtype  \n",
      "---  ------               --------------   -----  \n",
      " 0   month                919408 non-null  object \n",
      " 1   town                 919408 non-null  object \n",
      " 2   flat_type            919408 non-null  object \n",
      " 3   block                919408 non-null  object \n",
      " 4   street_name          919408 non-null  object \n",
      " 5   storey_range         919408 non-null  object \n",
      " 6   floor_area_sqm       919408 non-null  float64\n",
      " 7   flat_model           919408 non-null  object \n",
      " 8   lease_commence_date  919408 non-null  int64  \n",
      " 9   resale_price         919408 non-null  float64\n",
      " 10  remaining_lease      210358 non-null  object \n",
      " 11  address              919408 non-null  object \n",
      " 12  latitude             919408 non-null  float64\n",
      " 13  longitude            919408 non-null  float64\n",
      "dtypes: float64(4), int64(1), object(9)\n",
      "memory usage: 98.2+ MB\n"
     ]
    }
   ],
   "source": [
    "hdb_df.info()"
   ]
  },
  {
   "cell_type": "code",
   "execution_count": null,
   "metadata": {
    "id": "OZAnkwVkb0KH"
   },
   "outputs": [],
   "source": [
    "# Amenities\n",
    "schools_df = pd.read_csv('/content/schools_address.csv')\n",
    "shops_df = pd.read_csv('/content/shops_address.csv')\n",
    "hawkers_df = pd.read_csv('/content/hawkers_address.csv')\n",
    "mrt_df = pd.read_csv('/content/mrt_address.csv')"
   ]
  },
  {
   "cell_type": "code",
   "execution_count": null,
   "metadata": {
    "colab": {
     "base_uri": "https://localhost:8080/"
    },
    "id": "eexN4IH0b0MP",
    "outputId": "2477838e-eaa1-45da-d2b8-0c9d8afdd3c8"
   },
   "outputs": [
    {
     "name": "stdout",
     "output_type": "stream",
     "text": [
      "<class 'pandas.core.frame.DataFrame'>\n",
      "RangeIndex: 346 entries, 0 to 345\n",
      "Data columns (total 7 columns):\n",
      " #   Column       Non-Null Count  Dtype  \n",
      "---  ------       --------------  -----  \n",
      " 0   school_name  346 non-null    object \n",
      " 1   address      346 non-null    object \n",
      " 2   postal_code  346 non-null    int64  \n",
      " 3   mrt_desc     346 non-null    object \n",
      " 4   bus_desc     346 non-null    object \n",
      " 5   latitude     346 non-null    float64\n",
      " 6   longitude    346 non-null    float64\n",
      "dtypes: float64(2), int64(1), object(4)\n",
      "memory usage: 19.0+ KB\n"
     ]
    }
   ],
   "source": [
    "schools_df.info()"
   ]
  },
  {
   "cell_type": "code",
   "execution_count": null,
   "metadata": {
    "id": "jd3Hq0WrdADv"
   },
   "outputs": [],
   "source": []
  },
  {
   "cell_type": "code",
   "execution_count": null,
   "metadata": {
    "id": "7kHcYti-dAGX"
   },
   "outputs": [],
   "source": []
  },
  {
   "cell_type": "code",
   "execution_count": null,
   "metadata": {
    "id": "kw4VcgGpdAIe"
   },
   "outputs": [],
   "source": []
  },
  {
   "cell_type": "code",
   "execution_count": null,
   "metadata": {
    "colab": {
     "base_uri": "https://localhost:8080/"
    },
    "id": "k4fX0OhbdAKl",
    "outputId": "6ece1553-ca18-4085-d49f-fc982b837f50"
   },
   "outputs": [
    {
     "name": "stdout",
     "output_type": "stream",
     "text": [
      "<class 'pandas.core.frame.DataFrame'>\n",
      "RangeIndex: 9730 entries, 0 to 9729\n",
      "Data columns (total 2 columns):\n",
      " #   Column     Non-Null Count  Dtype  \n",
      "---  ------     --------------  -----  \n",
      " 0   latitude   9730 non-null   float64\n",
      " 1   longitude  9730 non-null   float64\n",
      "dtypes: float64(2)\n",
      "memory usage: 152.2 KB\n"
     ]
    }
   ],
   "source": [
    "# Extract unique HDB coordinates\n",
    "min_dist_df = hdb_df[['latitude', 'longitude']].drop_duplicates().reset_index(drop=True)\n",
    "min_dist_df.info()"
   ]
  },
  {
   "cell_type": "code",
   "execution_count": null,
   "metadata": {
    "id": "R9Sw99zwZK8R"
   },
   "outputs": [],
   "source": [
    "def calculate_nearest_amenity_distances(min_dist_df, amenity_df, amenity_lat_col, amenity_lon_col, prefix):\n",
    "    \"\"\"\n",
    "    Calculate the distance to the nearest amenity for each unique coordinate.\n",
    "\n",
    "    :param min_dist_df: DataFrame with unique HDB coordinates.\n",
    "    :param amenity_df: DataFrame with amenity locations.\n",
    "    :param amenity_lat_col: Column name for the latitude of the amenity.\n",
    "    :param amenity_lon_col: Column name for the longitude of the amenity.\n",
    "    :param prefix: Prefix for the column name to store results.\n",
    "    \"\"\"\n",
    "    # Initialize column to store the nearest amenity distance\n",
    "    min_dist_df[f'nearest_{prefix}_distance'] = 0.0\n",
    "\n",
    "    # Calculate distance for each unique coordinate\n",
    "    for index, coord_row in tqdm(min_dist_df.iterrows(), total=min_dist_df.shape[0], desc=f\"Processing nearest {prefix} distance\"):\n",
    "        coord = (coord_row['latitude'], coord_row['longitude'])\n",
    "\n",
    "        # Calculate distance to each amenity\n",
    "        min_distance = min(\n",
    "            geodesic(coord, (amenity_row[amenity_lat_col], amenity_row[amenity_lon_col])).meters\n",
    "            for _, amenity_row in amenity_df.iterrows()\n",
    "        )\n",
    "\n",
    "        # Update the DataFrame with the nearest amenity distance\n",
    "        min_dist_df.at[index, f'nearest_{prefix}_distance'] = min_distance\n",
    "\n",
    "    return min_dist_df\n",
    "\n"
   ]
  },
  {
   "cell_type": "code",
   "execution_count": null,
   "metadata": {
    "colab": {
     "base_uri": "https://localhost:8080/"
    },
    "id": "MZzprBg-f_27",
    "outputId": "befca8bd-652a-4205-d223-e5c6c4a6129a"
   },
   "outputs": [
    {
     "name": "stderr",
     "output_type": "stream",
     "text": [
      "Processing nearest supermarket distance: 100%|██████████| 9730/9730 [28:32<00:00,  5.68it/s]\n"
     ]
    }
   ],
   "source": [
    "# Example usage:\n",
    "# Calculate nearest amenity distances for unique coordinates\n",
    "min_dist_df = calculate_nearest_amenity_distances(min_dist_df, shops_df, 'latitude', 'longitude', 'supermarket')\n"
   ]
  },
  {
   "cell_type": "code",
   "execution_count": null,
   "metadata": {
    "colab": {
     "base_uri": "https://localhost:8080/"
    },
    "id": "Dkkfu5Ulf_5J",
    "outputId": "048f1985-6bd6-4960-e411-cfb5db2b40cc"
   },
   "outputs": [
    {
     "name": "stderr",
     "output_type": "stream",
     "text": [
      "Processing nearest school distance: 100%|██████████| 9730/9730 [16:16<00:00,  9.97it/s]\n"
     ]
    }
   ],
   "source": [
    "min_dist_df = calculate_nearest_amenity_distances(min_dist_df, schools_df, 'latitude', 'longitude', 'school')"
   ]
  },
  {
   "cell_type": "code",
   "execution_count": null,
   "metadata": {
    "colab": {
     "base_uri": "https://localhost:8080/"
    },
    "id": "OSlEq2uef_71",
    "outputId": "79d5da05-fe77-4e7c-b5db-e16916d8d196"
   },
   "outputs": [
    {
     "name": "stderr",
     "output_type": "stream",
     "text": [
      "Processing nearest mrt distance: 100%|██████████| 9730/9730 [07:31<00:00, 21.54it/s]\n"
     ]
    }
   ],
   "source": [
    "min_dist_df = calculate_nearest_amenity_distances(min_dist_df, mrt_df, 'latitude', 'longitude', 'mrt')"
   ]
  },
  {
   "cell_type": "code",
   "execution_count": null,
   "metadata": {
    "colab": {
     "base_uri": "https://localhost:8080/"
    },
    "id": "yr8t1dFXgW1T",
    "outputId": "207c35e7-8023-4e87-a851-1e399dce070a"
   },
   "outputs": [
    {
     "name": "stderr",
     "output_type": "stream",
     "text": [
      "Processing nearest hawkers distance: 100%|██████████| 9730/9730 [05:09<00:00, 31.40it/s]\n"
     ]
    }
   ],
   "source": [
    "min_dist_df = calculate_nearest_amenity_distances(min_dist_df, hawkers_df, 'latitude', 'longitude', 'hawkers')"
   ]
  },
  {
   "cell_type": "code",
   "execution_count": null,
   "metadata": {
    "colab": {
     "base_uri": "https://localhost:8080/"
    },
    "id": "ULyyOuDtgW3y",
    "outputId": "4c487963-e7d9-439a-9882-0f15a7c27b7e"
   },
   "outputs": [
    {
     "name": "stdout",
     "output_type": "stream",
     "text": [
      "<class 'pandas.core.frame.DataFrame'>\n",
      "RangeIndex: 9730 entries, 0 to 9729\n",
      "Data columns (total 6 columns):\n",
      " #   Column                        Non-Null Count  Dtype  \n",
      "---  ------                        --------------  -----  \n",
      " 0   latitude                      9730 non-null   float64\n",
      " 1   longitude                     9730 non-null   float64\n",
      " 2   nearest_supermarket_distance  9730 non-null   float64\n",
      " 3   nearest_school_distance       9730 non-null   float64\n",
      " 4   nearest_mrt_distance          9730 non-null   float64\n",
      " 5   nearest_hawkers_distance      9730 non-null   float64\n",
      "dtypes: float64(6)\n",
      "memory usage: 456.2 KB\n"
     ]
    }
   ],
   "source": [
    "min_dist_df.info()"
   ]
  },
  {
   "cell_type": "code",
   "execution_count": null,
   "metadata": {
    "id": "HheZRHYbgW6I"
   },
   "outputs": [],
   "source": []
  },
  {
   "cell_type": "code",
   "execution_count": null,
   "metadata": {
    "id": "pTjZTs6kgW8v"
   },
   "outputs": [],
   "source": []
  },
  {
   "cell_type": "code",
   "execution_count": null,
   "metadata": {
    "id": "nRxZtlvPaTMP"
   },
   "outputs": [],
   "source": [
    "hdb_df = hdb_df.merge(min_dist_df, on=['latitude', 'longitude'], how='left')"
   ]
  },
  {
   "cell_type": "code",
   "execution_count": null,
   "metadata": {
    "colab": {
     "base_uri": "https://localhost:8080/"
    },
    "id": "QDqFHvN7dhOV",
    "outputId": "c73983e6-a538-4946-92db-071b2f781b40"
   },
   "outputs": [
    {
     "name": "stdout",
     "output_type": "stream",
     "text": [
      "<class 'pandas.core.frame.DataFrame'>\n",
      "RangeIndex: 919408 entries, 0 to 919407\n",
      "Data columns (total 18 columns):\n",
      " #   Column                        Non-Null Count   Dtype  \n",
      "---  ------                        --------------   -----  \n",
      " 0   month                         919408 non-null  object \n",
      " 1   town                          919408 non-null  object \n",
      " 2   flat_type                     919408 non-null  object \n",
      " 3   block                         919408 non-null  object \n",
      " 4   street_name                   919408 non-null  object \n",
      " 5   storey_range                  919408 non-null  object \n",
      " 6   floor_area_sqm                919408 non-null  float64\n",
      " 7   flat_model                    919408 non-null  object \n",
      " 8   lease_commence_date           919408 non-null  int64  \n",
      " 9   resale_price                  919408 non-null  float64\n",
      " 10  remaining_lease               210358 non-null  object \n",
      " 11  address                       919408 non-null  object \n",
      " 12  latitude                      919408 non-null  float64\n",
      " 13  longitude                     919408 non-null  float64\n",
      " 14  nearest_supermarket_distance  919408 non-null  float64\n",
      " 15  nearest_school_distance       919408 non-null  float64\n",
      " 16  nearest_mrt_distance          919408 non-null  float64\n",
      " 17  nearest_hawkers_distance      919408 non-null  float64\n",
      "dtypes: float64(8), int64(1), object(9)\n",
      "memory usage: 126.3+ MB\n"
     ]
    }
   ],
   "source": [
    "hdb_df.info()"
   ]
  },
  {
   "cell_type": "code",
   "execution_count": null,
   "metadata": {
    "id": "npwoTAPltkK0"
   },
   "outputs": [],
   "source": [
    "hdb_df.to_csv('/content/drive/My Drive/hdb_df_min_dist.csv', index=False)"
   ]
  },
  {
   "cell_type": "code",
   "execution_count": null,
   "metadata": {
    "id": "AIWNC9A0t35C"
   },
   "outputs": [],
   "source": []
  },
  {
   "cell_type": "code",
   "execution_count": null,
   "metadata": {
    "colab": {
     "base_uri": "https://localhost:8080/"
    },
    "id": "W_HmvpBCvFZY",
    "outputId": "931fe8f1-8db1-4760-a858-2ae715279967"
   },
   "outputs": [
    {
     "name": "stdout",
     "output_type": "stream",
     "text": [
      "Mounted at /content/drive\n"
     ]
    }
   ],
   "source": [
    "from google.colab import drive\n",
    "drive.mount('/content/drive')"
   ]
  },
  {
   "cell_type": "code",
   "execution_count": null,
   "metadata": {
    "id": "5YIE9ozGt38d"
   },
   "outputs": [],
   "source": []
  }
 ],
 "metadata": {
  "accelerator": "GPU",
  "colab": {
   "gpuType": "T4",
   "provenance": []
  },
  "kernelspec": {
   "display_name": "Python 3 (ipykernel)",
   "language": "python",
   "name": "python3"
  },
  "language_info": {
   "codemirror_mode": {
    "name": "ipython",
    "version": 3
   },
   "file_extension": ".py",
   "mimetype": "text/x-python",
   "name": "python",
   "nbconvert_exporter": "python",
   "pygments_lexer": "ipython3",
   "version": "3.9.12"
  }
 },
 "nbformat": 4,
 "nbformat_minor": 1
}
