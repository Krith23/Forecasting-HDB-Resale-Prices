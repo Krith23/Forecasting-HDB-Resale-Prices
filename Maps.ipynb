{
 "cells": [
  {
   "cell_type": "code",
   "execution_count": 3,
   "id": "043f3a0a",
   "metadata": {},
   "outputs": [
    {
     "name": "stdout",
     "output_type": "stream",
     "text": [
      "Defaulting to user installation because normal site-packages is not writeable\n",
      "Collecting streamlit\n",
      "  Downloading streamlit-1.38.0-py2.py3-none-any.whl (8.7 MB)\n",
      "Requirement already satisfied: folium in c:\\users\\krithika jk\\appdata\\roaming\\python\\python39\\site-packages (0.16.0)\n",
      "Requirement already satisfied: geopandas in c:\\users\\krithika jk\\appdata\\roaming\\python\\python39\\site-packages (0.14.3)\n",
      "Requirement already satisfied: branca in c:\\users\\krithika jk\\appdata\\roaming\\python\\python39\\site-packages (0.7.1)\n",
      "Requirement already satisfied: typing-extensions<5,>=4.3.0 in c:\\users\\krithika jk\\appdata\\roaming\\python\\python39\\site-packages (from streamlit) (4.10.0)\n",
      "Collecting gitpython!=3.1.19,<4,>=3.0.7\n",
      "  Downloading GitPython-3.1.43-py3-none-any.whl (207 kB)\n",
      "Requirement already satisfied: watchdog<5,>=2.1.5 in c:\\programdata\\anaconda3\\lib\\site-packages (from streamlit) (2.1.6)\n",
      "Requirement already satisfied: cachetools<6,>=4.0 in c:\\programdata\\anaconda3\\lib\\site-packages (from streamlit) (4.2.2)\n",
      "Requirement already satisfied: numpy<3,>=1.20 in c:\\users\\krithika jk\\appdata\\roaming\\python\\python39\\site-packages (from streamlit) (1.26.4)\n",
      "Requirement already satisfied: packaging<25,>=20 in c:\\programdata\\anaconda3\\lib\\site-packages (from streamlit) (21.3)\n",
      "Requirement already satisfied: pandas<3,>=1.3.0 in c:\\programdata\\anaconda3\\lib\\site-packages (from streamlit) (1.4.2)\n",
      "Requirement already satisfied: pyarrow>=7.0 in c:\\users\\krithika jk\\appdata\\roaming\\python\\python39\\site-packages (from streamlit) (15.0.2)\n",
      "Collecting pydeck<1,>=0.8.0b4\n",
      "  Downloading pydeck-0.9.1-py2.py3-none-any.whl (6.9 MB)\n",
      "Requirement already satisfied: pillow<11,>=7.1.0 in c:\\programdata\\anaconda3\\lib\\site-packages (from streamlit) (9.0.1)\n",
      "Collecting blinker<2,>=1.0.0\n",
      "  Downloading blinker-1.8.2-py3-none-any.whl (9.5 kB)\n",
      "Requirement already satisfied: protobuf<6,>=3.20 in c:\\users\\krithika jk\\appdata\\roaming\\python\\python39\\site-packages (from streamlit) (3.20.0)\n",
      "Requirement already satisfied: toml<2,>=0.10.1 in c:\\programdata\\anaconda3\\lib\\site-packages (from streamlit) (0.10.2)\n",
      "Requirement already satisfied: requests<3,>=2.27 in c:\\users\\krithika jk\\appdata\\roaming\\python\\python39\\site-packages (from streamlit) (2.31.0)\n",
      "Note: you may need to restart the kernel to use updated packages.\n"
     ]
    },
    {
     "name": "stderr",
     "output_type": "stream",
     "text": [
      "WARNING: Ignoring invalid distribution -rotobuf (c:\\users\\krithika jk\\appdata\\roaming\\python\\python39\\site-packages)\n",
      "WARNING: Ignoring invalid distribution -rotobuf (c:\\users\\krithika jk\\appdata\\roaming\\python\\python39\\site-packages)\n",
      "WARNING: Ignoring invalid distribution -rotobuf (c:\\users\\krithika jk\\appdata\\roaming\\python\\python39\\site-packages)\n",
      "  WARNING: The script pygmentize.exe is installed in 'C:\\Users\\Krithika JK\\AppData\\Roaming\\Python\\Python39\\Scripts' which is not on PATH.\n",
      "  Consider adding this directory to PATH or, if you prefer to suppress this warning, use --no-warn-script-location.\n",
      "  WARNING: The script markdown-it.exe is installed in 'C:\\Users\\Krithika JK\\AppData\\Roaming\\Python\\Python39\\Scripts' which is not on PATH.\n",
      "  Consider adding this directory to PATH or, if you prefer to suppress this warning, use --no-warn-script-location.\n",
      "  WARNING: The script streamlit.exe is installed in 'C:\\Users\\Krithika JK\\AppData\\Roaming\\Python\\Python39\\Scripts' which is not on PATH.\n",
      "  Consider adding this directory to PATH or, if you prefer to suppress this warning, use --no-warn-script-location.\n",
      "WARNING: Ignoring invalid distribution -rotobuf (c:\\users\\krithika jk\\appdata\\roaming\\python\\python39\\site-packages)\n",
      "WARNING: Ignoring invalid distribution -rotobuf (c:\\users\\krithika jk\\appdata\\roaming\\python\\python39\\site-packages)\n",
      "WARNING: Ignoring invalid distribution -rotobuf (c:\\users\\krithika jk\\appdata\\roaming\\python\\python39\\site-packages)\n",
      "WARNING: Ignoring invalid distribution -rotobuf (c:\\users\\krithika jk\\appdata\\roaming\\python\\python39\\site-packages)\n",
      "WARNING: Ignoring invalid distribution -rotobuf (c:\\users\\krithika jk\\appdata\\roaming\\python\\python39\\site-packages)\n",
      "WARNING: Ignoring invalid distribution -rotobuf (c:\\users\\krithika jk\\appdata\\roaming\\python\\python39\\site-packages)\n",
      "WARNING: Ignoring invalid distribution -rotobuf (c:\\users\\krithika jk\\appdata\\roaming\\python\\python39\\site-packages)\n",
      "WARNING: Ignoring invalid distribution -rotobuf (c:\\users\\krithika jk\\appdata\\roaming\\python\\python39\\site-packages)\n",
      "WARNING: Ignoring invalid distribution -rotobuf (c:\\users\\krithika jk\\appdata\\roaming\\python\\python39\\site-packages)\n",
      "WARNING: Ignoring invalid distribution -rotobuf (c:\\users\\krithika jk\\appdata\\roaming\\python\\python39\\site-packages)\n",
      "WARNING: Ignoring invalid distribution -rotobuf (c:\\users\\krithika jk\\appdata\\roaming\\python\\python39\\site-packages)\n",
      "WARNING: Ignoring invalid distribution -rotobuf (c:\\users\\krithika jk\\appdata\\roaming\\python\\python39\\site-packages)\n",
      "WARNING: Ignoring invalid distribution -rotobuf (c:\\users\\krithika jk\\appdata\\roaming\\python\\python39\\site-packages)"
     ]
    },
    {
     "name": "stdout",
     "output_type": "stream",
     "text": [
      "Collecting altair<6,>=4.0\n",
      "  Downloading altair-5.4.1-py3-none-any.whl (658 kB)\n",
      "Requirement already satisfied: tornado<7,>=6.0.3 in c:\\programdata\\anaconda3\\lib\\site-packages (from streamlit) (6.1)\n",
      "Collecting rich<14,>=10.14.0\n",
      "  Downloading rich-13.8.1-py3-none-any.whl (241 kB)\n",
      "Collecting tenacity<9,>=8.1.0\n",
      "  Downloading tenacity-8.5.0-py3-none-any.whl (28 kB)\n",
      "Requirement already satisfied: click<9,>=7.0 in c:\\programdata\\anaconda3\\lib\\site-packages (from streamlit) (8.0.4)\n",
      "Requirement already satisfied: xyzservices in c:\\users\\krithika jk\\appdata\\roaming\\python\\python39\\site-packages (from folium) (2023.10.1)\n",
      "Requirement already satisfied: jinja2>=2.9 in c:\\users\\krithika jk\\appdata\\roaming\\python\\python39\\site-packages (from folium) (3.1.3)\n",
      "Requirement already satisfied: shapely>=1.8.0 in c:\\users\\krithika jk\\appdata\\roaming\\python\\python39\\site-packages (from geopandas) (2.0.3)\n",
      "Requirement already satisfied: fiona>=1.8.21 in c:\\users\\krithika jk\\appdata\\roaming\\python\\python39\\site-packages (from geopandas) (1.9.6)\n",
      "Requirement already satisfied: pyproj>=3.3.0 in c:\\users\\krithika jk\\appdata\\roaming\\python\\python39\\site-packages (from geopandas) (3.6.1)\n",
      "Collecting narwhals>=1.5.2\n",
      "  Downloading narwhals-1.8.1-py3-none-any.whl (166 kB)\n",
      "Requirement already satisfied: jsonschema>=3.0 in c:\\programdata\\anaconda3\\lib\\site-packages (from altair<6,>=4.0->streamlit) (4.4.0)\n",
      "Requirement already satisfied: colorama in c:\\users\\krithika jk\\appdata\\roaming\\python\\python39\\site-packages (from click<9,>=7.0->streamlit) (0.4.6)\n",
      "Requirement already satisfied: attrs>=19.2.0 in c:\\programdata\\anaconda3\\lib\\site-packages (from fiona>=1.8.21->geopandas) (21.4.0)\n",
      "Requirement already satisfied: six in c:\\programdata\\anaconda3\\lib\\site-packages (from fiona>=1.8.21->geopandas) (1.16.0)\n",
      "Requirement already satisfied: importlib-metadata in c:\\programdata\\anaconda3\\lib\\site-packages (from fiona>=1.8.21->geopandas) (4.11.3)\n",
      "Requirement already satisfied: click-plugins>=1.0 in c:\\users\\krithika jk\\appdata\\roaming\\python\\python39\\site-packages (from fiona>=1.8.21->geopandas) (1.1.1)\n",
      "Requirement already satisfied: cligj>=0.5 in c:\\users\\krithika jk\\appdata\\roaming\\python\\python39\\site-packages (from fiona>=1.8.21->geopandas) (0.7.2)\n",
      "Requirement already satisfied: certifi in c:\\programdata\\anaconda3\\lib\\site-packages (from fiona>=1.8.21->geopandas) (2021.10.8)\n",
      "Collecting gitdb<5,>=4.0.1\n",
      "  Downloading gitdb-4.0.11-py3-none-any.whl (62 kB)\n",
      "Collecting smmap<6,>=3.0.1\n",
      "  Downloading smmap-5.0.1-py3-none-any.whl (24 kB)\n",
      "Requirement already satisfied: MarkupSafe>=2.0 in c:\\programdata\\anaconda3\\lib\\site-packages (from jinja2>=2.9->folium) (2.0.1)\n",
      "Requirement already satisfied: pyrsistent!=0.17.0,!=0.17.1,!=0.17.2,>=0.14.0 in c:\\programdata\\anaconda3\\lib\\site-packages (from jsonschema>=3.0->altair<6,>=4.0->streamlit) (0.18.0)\n",
      "Requirement already satisfied: pyparsing!=3.0.5,>=2.0.2 in c:\\programdata\\anaconda3\\lib\\site-packages (from packaging<25,>=20->streamlit) (3.0.4)\n",
      "Requirement already satisfied: pytz>=2020.1 in c:\\programdata\\anaconda3\\lib\\site-packages (from pandas<3,>=1.3.0->streamlit) (2021.3)\n",
      "Requirement already satisfied: python-dateutil>=2.8.1 in c:\\programdata\\anaconda3\\lib\\site-packages (from pandas<3,>=1.3.0->streamlit) (2.8.2)\n",
      "Requirement already satisfied: idna<4,>=2.5 in c:\\programdata\\anaconda3\\lib\\site-packages (from requests<3,>=2.27->streamlit) (3.3)\n",
      "Requirement already satisfied: urllib3<3,>=1.21.1 in c:\\programdata\\anaconda3\\lib\\site-packages (from requests<3,>=2.27->streamlit) (1.26.9)\n",
      "Requirement already satisfied: charset-normalizer<4,>=2 in c:\\programdata\\anaconda3\\lib\\site-packages (from requests<3,>=2.27->streamlit) (2.0.4)\n",
      "Collecting pygments<3.0.0,>=2.13.0\n",
      "  Downloading pygments-2.18.0-py3-none-any.whl (1.2 MB)\n",
      "Collecting markdown-it-py>=2.2.0\n",
      "  Downloading markdown_it_py-3.0.0-py3-none-any.whl (87 kB)\n",
      "Collecting mdurl~=0.1\n",
      "  Downloading mdurl-0.1.2-py3-none-any.whl (10.0 kB)\n",
      "Requirement already satisfied: zipp>=0.5 in c:\\programdata\\anaconda3\\lib\\site-packages (from importlib-metadata->fiona>=1.8.21->geopandas) (3.7.0)\n",
      "Installing collected packages: smmap, mdurl, pygments, narwhals, markdown-it-py, gitdb, tenacity, rich, pydeck, gitpython, blinker, altair, streamlit\n",
      "Successfully installed altair-5.4.1 blinker-1.8.2 gitdb-4.0.11 gitpython-3.1.43 markdown-it-py-3.0.0 mdurl-0.1.2 narwhals-1.8.1 pydeck-0.9.1 pygments-2.18.0 rich-13.8.1 smmap-5.0.1 streamlit-1.38.0 tenacity-8.5.0\n"
     ]
    },
    {
     "name": "stderr",
     "output_type": "stream",
     "text": [
      "\n",
      "ERROR: pip's dependency resolver does not currently take into account all the packages that are installed. This behaviour is the source of the following dependency conflicts.\n",
      "spyder 5.1.5 requires pyqt5<5.13, which is not installed.\n",
      "spyder 5.1.5 requires pyqtwebengine<5.13, which is not installed.\n",
      "jupyter-server 1.13.5 requires pywinpty<2; os_name == \"nt\", but you have pywinpty 2.0.2 which is incompatible.\n",
      "WARNING: Ignoring invalid distribution -rotobuf (c:\\users\\krithika jk\\appdata\\roaming\\python\\python39\\site-packages)\n",
      "WARNING: Ignoring invalid distribution -rotobuf (c:\\users\\krithika jk\\appdata\\roaming\\python\\python39\\site-packages)\n",
      "WARNING: Ignoring invalid distribution -rotobuf (c:\\users\\krithika jk\\appdata\\roaming\\python\\python39\\site-packages)\n"
     ]
    }
   ],
   "source": [
    "pip install streamlit folium geopandas branca"
   ]
  },
  {
   "cell_type": "code",
   "execution_count": 5,
   "id": "d08896ac",
   "metadata": {},
   "outputs": [
    {
     "name": "stdout",
     "output_type": "stream",
     "text": [
      "Defaulting to user installation because normal site-packages is not writeableNote: you may need to restart the kernel to use updated packages.\n",
      "Collecting streamlit-folium\n",
      "  Downloading streamlit_folium-0.22.1-py3-none-any.whl (327 kB)\n",
      "\n"
     ]
    },
    {
     "name": "stderr",
     "output_type": "stream",
     "text": [
      "WARNING: Ignoring invalid distribution -rotobuf (c:\\users\\krithika jk\\appdata\\roaming\\python\\python39\\site-packages)\n",
      "WARNING: Ignoring invalid distribution -rotobuf (c:\\users\\krithika jk\\appdata\\roaming\\python\\python39\\site-packages)\n",
      "WARNING: Ignoring invalid distribution -rotobuf (c:\\users\\krithika jk\\appdata\\roaming\\python\\python39\\site-packages)\n",
      "WARNING: Ignoring invalid distribution -rotobuf (c:\\users\\krithika jk\\appdata\\roaming\\python\\python39\\site-packages)\n",
      "WARNING: Ignoring invalid distribution -rotobuf (c:\\users\\krithika jk\\appdata\\roaming\\python\\python39\\site-packages)\n",
      "WARNING: Ignoring invalid distribution -rotobuf (c:\\users\\krithika jk\\appdata\\roaming\\python\\python39\\site-packages)\n",
      "WARNING: Ignoring invalid distribution -rotobuf (c:\\users\\krithika jk\\appdata\\roaming\\python\\python39\\site-packages)\n"
     ]
    },
    {
     "name": "stdout",
     "output_type": "stream",
     "text": [
      "Requirement already satisfied: folium!=0.15.0,>=0.13 in c:\\users\\krithika jk\\appdata\\roaming\\python\\python39\\site-packages (from streamlit-folium) (0.16.0)\n",
      "Requirement already satisfied: streamlit>=1.13.0 in c:\\users\\krithika jk\\appdata\\roaming\\python\\python39\\site-packages (from streamlit-folium) (1.38.0)\n",
      "Requirement already satisfied: jinja2 in c:\\users\\krithika jk\\appdata\\roaming\\python\\python39\\site-packages (from streamlit-folium) (3.1.3)\n",
      "Requirement already satisfied: branca in c:\\users\\krithika jk\\appdata\\roaming\\python\\python39\\site-packages (from streamlit-folium) (0.7.1)\n",
      "Requirement already satisfied: requests in c:\\users\\krithika jk\\appdata\\roaming\\python\\python39\\site-packages (from folium!=0.15.0,>=0.13->streamlit-folium) (2.31.0)\n",
      "Requirement already satisfied: numpy in c:\\users\\krithika jk\\appdata\\roaming\\python\\python39\\site-packages (from folium!=0.15.0,>=0.13->streamlit-folium) (1.26.4)\n",
      "Requirement already satisfied: xyzservices in c:\\users\\krithika jk\\appdata\\roaming\\python\\python39\\site-packages (from folium!=0.15.0,>=0.13->streamlit-folium) (2023.10.1)\n",
      "Requirement already satisfied: MarkupSafe>=2.0 in c:\\programdata\\anaconda3\\lib\\site-packages (from jinja2->streamlit-folium) (2.0.1)\n",
      "Requirement already satisfied: typing-extensions<5,>=4.3.0 in c:\\users\\krithika jk\\appdata\\roaming\\python\\python39\\site-packages (from streamlit>=1.13.0->streamlit-folium) (4.10.0)\n",
      "Requirement already satisfied: pydeck<1,>=0.8.0b4 in c:\\users\\krithika jk\\appdata\\roaming\\python\\python39\\site-packages (from streamlit>=1.13.0->streamlit-folium) (0.9.1)\n",
      "Requirement already satisfied: protobuf<6,>=3.20 in c:\\users\\krithika jk\\appdata\\roaming\\python\\python39\\site-packages (from streamlit>=1.13.0->streamlit-folium) (3.20.0)\n",
      "Requirement already satisfied: tornado<7,>=6.0.3 in c:\\programdata\\anaconda3\\lib\\site-packages (from streamlit>=1.13.0->streamlit-folium) (6.1)\n",
      "Requirement already satisfied: packaging<25,>=20 in c:\\programdata\\anaconda3\\lib\\site-packages (from streamlit>=1.13.0->streamlit-folium) (21.3)\n",
      "Requirement already satisfied: toml<2,>=0.10.1 in c:\\programdata\\anaconda3\\lib\\site-packages (from streamlit>=1.13.0->streamlit-folium) (0.10.2)\n",
      "Requirement already satisfied: gitpython!=3.1.19,<4,>=3.0.7 in c:\\users\\krithika jk\\appdata\\roaming\\python\\python39\\site-packages (from streamlit>=1.13.0->streamlit-folium) (3.1.43)\n",
      "Requirement already satisfied: altair<6,>=4.0 in c:\\users\\krithika jk\\appdata\\roaming\\python\\python39\\site-packages (from streamlit>=1.13.0->streamlit-folium) (5.4.1)\n",
      "Requirement already satisfied: watchdog<5,>=2.1.5 in c:\\programdata\\anaconda3\\lib\\site-packages (from streamlit>=1.13.0->streamlit-folium) (2.1.6)\n",
      "Requirement already satisfied: pandas<3,>=1.3.0 in c:\\programdata\\anaconda3\\lib\\site-packages (from streamlit>=1.13.0->streamlit-folium) (1.4.2)\n",
      "Requirement already satisfied: pyarrow>=7.0 in c:\\users\\krithika jk\\appdata\\roaming\\python\\python39\\site-packages (from streamlit>=1.13.0->streamlit-folium) (15.0.2)\n",
      "Requirement already satisfied: cachetools<6,>=4.0 in c:\\programdata\\anaconda3\\lib\\site-packages (from streamlit>=1.13.0->streamlit-folium) (4.2.2)\n",
      "Requirement already satisfied: click<9,>=7.0 in c:\\programdata\\anaconda3\\lib\\site-packages (from streamlit>=1.13.0->streamlit-folium) (8.0.4)\n",
      "Requirement already satisfied: pillow<11,>=7.1.0 in c:\\programdata\\anaconda3\\lib\\site-packages (from streamlit>=1.13.0->streamlit-folium) (9.0.1)\n",
      "Requirement already satisfied: tenacity<9,>=8.1.0 in c:\\users\\krithika jk\\appdata\\roaming\\python\\python39\\site-packages (from streamlit>=1.13.0->streamlit-folium) (8.5.0)\n",
      "Requirement already satisfied: blinker<2,>=1.0.0 in c:\\users\\krithika jk\\appdata\\roaming\\python\\python39\\site-packages (from streamlit>=1.13.0->streamlit-folium) (1.8.2)\n",
      "Requirement already satisfied: rich<14,>=10.14.0 in c:\\users\\krithika jk\\appdata\\roaming\\python\\python39\\site-packages (from streamlit>=1.13.0->streamlit-folium) (13.8.1)\n",
      "Requirement already satisfied: jsonschema>=3.0 in c:\\programdata\\anaconda3\\lib\\site-packages (from altair<6,>=4.0->streamlit>=1.13.0->streamlit-folium) (4.4.0)\n",
      "Requirement already satisfied: narwhals>=1.5.2 in c:\\users\\krithika jk\\appdata\\roaming\\python\\python39\\site-packages (from altair<6,>=4.0->streamlit>=1.13.0->streamlit-folium) (1.8.1)\n",
      "Requirement already satisfied: colorama in c:\\users\\krithika jk\\appdata\\roaming\\python\\python39\\site-packages (from click<9,>=7.0->streamlit>=1.13.0->streamlit-folium) (0.4.6)\n",
      "Requirement already satisfied: gitdb<5,>=4.0.1 in c:\\users\\krithika jk\\appdata\\roaming\\python\\python39\\site-packages (from gitpython!=3.1.19,<4,>=3.0.7->streamlit>=1.13.0->streamlit-folium) (4.0.11)\n",
      "Requirement already satisfied: smmap<6,>=3.0.1 in c:\\users\\krithika jk\\appdata\\roaming\\python\\python39\\site-packages (from gitdb<5,>=4.0.1->gitpython!=3.1.19,<4,>=3.0.7->streamlit>=1.13.0->streamlit-folium) (5.0.1)\n",
      "Requirement already satisfied: pyrsistent!=0.17.0,!=0.17.1,!=0.17.2,>=0.14.0 in c:\\programdata\\anaconda3\\lib\\site-packages (from jsonschema>=3.0->altair<6,>=4.0->streamlit>=1.13.0->streamlit-folium) (0.18.0)\n",
      "Requirement already satisfied: attrs>=17.4.0 in c:\\programdata\\anaconda3\\lib\\site-packages (from jsonschema>=3.0->altair<6,>=4.0->streamlit>=1.13.0->streamlit-folium) (21.4.0)\n",
      "Requirement already satisfied: pyparsing!=3.0.5,>=2.0.2 in c:\\programdata\\anaconda3\\lib\\site-packages (from packaging<25,>=20->streamlit>=1.13.0->streamlit-folium) (3.0.4)\n",
      "Requirement already satisfied: python-dateutil>=2.8.1 in c:\\programdata\\anaconda3\\lib\\site-packages (from pandas<3,>=1.3.0->streamlit>=1.13.0->streamlit-folium) (2.8.2)\n",
      "Requirement already satisfied: pytz>=2020.1 in c:\\programdata\\anaconda3\\lib\\site-packages (from pandas<3,>=1.3.0->streamlit>=1.13.0->streamlit-folium) (2021.3)\n",
      "Requirement already satisfied: six>=1.5 in c:\\programdata\\anaconda3\\lib\\site-packages (from python-dateutil>=2.8.1->pandas<3,>=1.3.0->streamlit>=1.13.0->streamlit-folium) (1.16.0)\n",
      "Requirement already satisfied: idna<4,>=2.5 in c:\\programdata\\anaconda3\\lib\\site-packages (from requests->folium!=0.15.0,>=0.13->streamlit-folium) (3.3)\n",
      "Requirement already satisfied: urllib3<3,>=1.21.1 in c:\\programdata\\anaconda3\\lib\\site-packages (from requests->folium!=0.15.0,>=0.13->streamlit-folium) (1.26.9)\n",
      "Requirement already satisfied: certifi>=2017.4.17 in c:\\programdata\\anaconda3\\lib\\site-packages (from requests->folium!=0.15.0,>=0.13->streamlit-folium) (2021.10.8)\n",
      "Requirement already satisfied: charset-normalizer<4,>=2 in c:\\programdata\\anaconda3\\lib\\site-packages (from requests->folium!=0.15.0,>=0.13->streamlit-folium) (2.0.4)\n",
      "Requirement already satisfied: pygments<3.0.0,>=2.13.0 in c:\\users\\krithika jk\\appdata\\roaming\\python\\python39\\site-packages (from rich<14,>=10.14.0->streamlit>=1.13.0->streamlit-folium) (2.18.0)\n",
      "Requirement already satisfied: markdown-it-py>=2.2.0 in c:\\users\\krithika jk\\appdata\\roaming\\python\\python39\\site-packages (from rich<14,>=10.14.0->streamlit>=1.13.0->streamlit-folium) (3.0.0)\n",
      "Requirement already satisfied: mdurl~=0.1 in c:\\users\\krithika jk\\appdata\\roaming\\python\\python39\\site-packages (from markdown-it-py>=2.2.0->rich<14,>=10.14.0->streamlit>=1.13.0->streamlit-folium) (0.1.2)\n",
      "Installing collected packages: streamlit-folium\n",
      "Successfully installed streamlit-folium-0.22.1\n"
     ]
    }
   ],
   "source": [
    "pip install streamlit-folium"
   ]
  },
  {
   "cell_type": "code",
   "execution_count": 6,
   "id": "fc40e7a8",
   "metadata": {},
   "outputs": [
    {
     "name": "stderr",
     "output_type": "stream",
     "text": [
      "2024-09-18 16:23:54.179 WARNING streamlit.runtime.scriptrunner_utils.script_run_context: Thread 'MainThread': missing ScriptRunContext! This warning can be ignored when running in bare mode.\n"
     ]
    }
   ],
   "source": [
    "import streamlit as st\n",
    "import folium\n",
    "import pandas as pd\n",
    "import geopandas as gpd\n",
    "from folium.plugins import TimeSliderChoropleth\n",
    "from branca.colormap import linear\n",
    "from streamlit_folium import folium_static"
   ]
  },
  {
   "cell_type": "code",
   "execution_count": null,
   "id": "d50d8c31",
   "metadata": {},
   "outputs": [],
   "source": []
  },
  {
   "cell_type": "code",
   "execution_count": 10,
   "id": "65146825",
   "metadata": {},
   "outputs": [],
   "source": [
    "data = pd.read_csv('data/hdb_combined_clean.csv', low_memory=False)"
   ]
  },
  {
   "cell_type": "code",
   "execution_count": 11,
   "id": "416af7ec",
   "metadata": {},
   "outputs": [
    {
     "name": "stderr",
     "output_type": "stream",
     "text": [
      "2024-09-18 16:38:25.055 Thread 'MainThread': missing ScriptRunContext! This warning can be ignored when running in bare mode.\n",
      "2024-09-18 16:38:25.055 Thread 'MainThread': missing ScriptRunContext! This warning can be ignored when running in bare mode.\n",
      "2024-09-18 16:38:25.066 Thread 'MainThread': missing ScriptRunContext! This warning can be ignored when running in bare mode.\n",
      "2024-09-18 16:38:25.067 Thread 'MainThread': missing ScriptRunContext! This warning can be ignored when running in bare mode.\n",
      "2024-09-18 16:38:25.068 Thread 'MainThread': missing ScriptRunContext! This warning can be ignored when running in bare mode.\n",
      "2024-09-18 16:38:25.070 Thread 'MainThread': missing ScriptRunContext! This warning can be ignored when running in bare mode.\n",
      "2024-09-18 16:38:25.074 Thread 'MainThread': missing ScriptRunContext! This warning can be ignored when running in bare mode.\n",
      "2024-09-18 16:38:25.120 Thread 'MainThread': missing ScriptRunContext! This warning can be ignored when running in bare mode.\n",
      "2024-09-18 16:38:25.121 Thread 'MainThread': missing ScriptRunContext! This warning can be ignored when running in bare mode.\n",
      "2024-09-18 16:38:25.122 Thread 'MainThread': missing ScriptRunContext! This warning can be ignored when running in bare mode.\n",
      "2024-09-18 16:38:25.122 Thread 'MainThread': missing ScriptRunContext! This warning can be ignored when running in bare mode.\n",
      "2024-09-18 16:38:25.123 Thread 'MainThread': missing ScriptRunContext! This warning can be ignored when running in bare mode.\n",
      "2024-09-18 16:38:25.175 Thread 'MainThread': missing ScriptRunContext! This warning can be ignored when running in bare mode.\n",
      "2024-09-18 16:38:25.176 Thread 'MainThread': missing ScriptRunContext! This warning can be ignored when running in bare mode.\n",
      "2024-09-18 16:38:25.176 Thread 'MainThread': missing ScriptRunContext! This warning can be ignored when running in bare mode.\n",
      "2024-09-18 16:38:25.176 Thread 'MainThread': missing ScriptRunContext! This warning can be ignored when running in bare mode.\n",
      "2024-09-18 16:38:25.177 Thread 'MainThread': missing ScriptRunContext! This warning can be ignored when running in bare mode.\n",
      "2024-09-18 16:38:25.298 Thread 'MainThread': missing ScriptRunContext! This warning can be ignored when running in bare mode.\n",
      "2024-09-18 16:38:25.299 Thread 'MainThread': missing ScriptRunContext! This warning can be ignored when running in bare mode.\n"
     ]
    },
    {
     "data": {
      "text/plain": [
       "DeltaGenerator()"
      ]
     },
     "execution_count": 11,
     "metadata": {},
     "output_type": "execute_result"
    }
   ],
   "source": [
    "import streamlit as st\n",
    "import folium\n",
    "import pandas as pd\n",
    "import geopandas as gpd\n",
    "from branca.colormap import linear\n",
    "from streamlit_folium import folium_static\n",
    "\n",
    "# Convert DataFrame to a GeoDataFrame with the correct CRS (WGS84)\n",
    "gdf = gpd.GeoDataFrame(data, geometry=gpd.points_from_xy(data.longitude, data.latitude))\n",
    "gdf.set_crs(epsg=4326, inplace=True)  # Set CRS to EPSG:4326 (WGS84)\n",
    "\n",
    "# Sidebar filters in Streamlit\n",
    "st.sidebar.title(\"Filters\")\n",
    "selected_year = st.sidebar.selectbox(\"Select Year\", sorted(data['year_of_sale'].unique()))\n",
    "selected_flat_type = st.sidebar.selectbox(\"Select Flat Type\", sorted(data['flat_type'].unique()))\n",
    "selected_flat_model = st.sidebar.selectbox(\"Select Flat Model\", sorted(data['flat_model'].unique()))\n",
    "\n",
    "# Filter data based on user selection\n",
    "filtered_data = gdf[(gdf['year_of_sale'] == selected_year) & \n",
    "                    (gdf['flat_type'] == selected_flat_type) & \n",
    "                    (gdf['flat_model'] == selected_flat_model)]\n",
    "\n",
    "# Create a base map\n",
    "m = folium.Map(location=[1.3521, 103.8198], zoom_start=11)\n",
    "\n",
    "# Create a color scale based on predicted prices\n",
    "colormap = linear.YlGnBu_09.scale(data['resale_price'].min(), data['resale_price'].max())\n",
    "colormap.caption = \"Predicted Resale Prices\"\n",
    "m.add_child(colormap)\n",
    "\n",
    "# Convert filtered data to GeoJSON format for the choropleth layer\n",
    "filtered_geojson = filtered_data.__geo_interface__\n",
    "\n",
    "# Function to add a choropleth layer based on filtered data\n",
    "def add_choropleth_layer(filtered_geojson):\n",
    "    folium.Choropleth(\n",
    "        geo_data=filtered_geojson,\n",
    "        data=filtered_data,\n",
    "        columns=['town', 'resale_price'],\n",
    "        key_on='properties.town',  # Use the 'properties' key for the GeoJSON format\n",
    "        fill_color='YlGnBu',\n",
    "        fill_opacity=0.7,\n",
    "        line_opacity=0.2,\n",
    "        legend_name=f'Resale Prices for {selected_flat_type}, {selected_flat_model} in {selected_year}',\n",
    "    ).add_to(m)\n",
    "\n",
    "# Add the filtered data to the map\n",
    "add_choropleth_layer(filtered_geojson)\n",
    "\n",
    "# Display the map in Streamlit\n",
    "folium_static(m)\n"
   ]
  },
  {
   "cell_type": "code",
   "execution_count": null,
   "id": "ba792b84",
   "metadata": {},
   "outputs": [],
   "source": []
  }
 ],
 "metadata": {
  "kernelspec": {
   "display_name": "Python 3 (ipykernel)",
   "language": "python",
   "name": "python3"
  },
  "language_info": {
   "codemirror_mode": {
    "name": "ipython",
    "version": 3
   },
   "file_extension": ".py",
   "mimetype": "text/x-python",
   "name": "python",
   "nbconvert_exporter": "python",
   "pygments_lexer": "ipython3",
   "version": "3.9.12"
  }
 },
 "nbformat": 4,
 "nbformat_minor": 5
}
