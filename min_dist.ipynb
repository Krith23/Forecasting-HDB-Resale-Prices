{
 "cells": [
  {
   "cell_type": "code",
   "execution_count": 10,
   "metadata": {
    "id": "murJvtrRby8r"
   },
   "outputs": [],
   "source": [
    "import pandas as pd\n",
    "from geopy.distance import geodesic\n",
    "from tqdm import tqdm\n",
    "\n"
   ]
  },
  {
   "cell_type": "code",
   "execution_count": 11,
   "metadata": {
    "id": "Mb1r9utdb0BV"
   },
   "outputs": [],
   "source": [
    "hdb_df = pd.read_csv('/content/drive/MyDrive/FYP docs/data/hdb_coordinates_final.csv', low_memory=False)"
   ]
  },
  {
   "cell_type": "code",
   "execution_count": 12,
   "metadata": {
    "id": "bTWTv_trtpgE"
   },
   "outputs": [],
   "source": [
    "hdb_df = hdb_df.drop(hdb_df.columns[0], axis=1)"
   ]
  },
  {
   "cell_type": "code",
   "execution_count": 13,
   "metadata": {
    "colab": {
     "base_uri": "https://localhost:8080/"
    },
    "id": "_vrpzMvPb0E7",
    "outputId": "a951bad3-4027-4cf1-9ece-352d586db352"
   },
   "outputs": [
    {
     "name": "stdout",
     "output_type": "stream",
     "text": [
      "<class 'pandas.core.frame.DataFrame'>\n",
      "RangeIndex: 919408 entries, 0 to 919407\n",
      "Data columns (total 14 columns):\n",
      " #   Column               Non-Null Count   Dtype  \n",
      "---  ------               --------------   -----  \n",
      " 0   month                919408 non-null  object \n",
      " 1   town                 919408 non-null  object \n",
      " 2   flat_type            919408 non-null  object \n",
      " 3   block                919408 non-null  object \n",
      " 4   street_name          919408 non-null  object \n",
      " 5   storey_range         919408 non-null  object \n",
      " 6   floor_area_sqm       919408 non-null  float64\n",
      " 7   flat_model           919408 non-null  object \n",
      " 8   lease_commence_date  919408 non-null  int64  \n",
      " 9   resale_price         919408 non-null  float64\n",
      " 10  remaining_lease      210358 non-null  object \n",
      " 11  address              919408 non-null  object \n",
      " 12  latitude             919408 non-null  float64\n",
      " 13  longitude            919408 non-null  float64\n",
      "dtypes: float64(4), int64(1), object(9)\n",
      "memory usage: 98.2+ MB\n"
     ]
    }
   ],
   "source": [
    "hdb_df.info()"
   ]
  },
  {
   "cell_type": "code",
   "execution_count": 13,
   "metadata": {
    "id": "K6i4pXFbj4G0"
   },
   "outputs": [],
   "source": []
  },
  {
   "cell_type": "code",
   "execution_count": 14,
   "metadata": {
    "id": "HheZRHYbgW6I"
   },
   "outputs": [],
   "source": [
    "cbd_lat = '1.287953'\n",
    "cbd_long = '103.851784'"
   ]
  },
  {
   "cell_type": "code",
   "execution_count": 15,
   "metadata": {
    "id": "OZAnkwVkb0KH"
   },
   "outputs": [],
   "source": [
    "# Amenities\n",
    "schools_df = pd.read_csv('/content/drive/MyDrive/FYP docs/data/schools_address.csv')\n",
    "shops_df = pd.read_csv('/content/drive/MyDrive/FYP docs/data/shops_address.csv')\n",
    "hawkers_df = pd.read_csv('/content/drive/MyDrive/FYP docs/data/hawkers_address.csv')\n",
    "mrt_df = pd.read_csv('/content/drive/MyDrive/FYP docs/data/mrt_address.csv')"
   ]
  },
  {
   "cell_type": "code",
   "execution_count": 16,
   "metadata": {
    "colab": {
     "base_uri": "https://localhost:8080/"
    },
    "id": "eexN4IH0b0MP",
    "outputId": "507a2d2b-a018-4427-fedc-4178b1012830"
   },
   "outputs": [
    {
     "name": "stdout",
     "output_type": "stream",
     "text": [
      "<class 'pandas.core.frame.DataFrame'>\n",
      "RangeIndex: 144 entries, 0 to 143\n",
      "Data columns (total 4 columns):\n",
      " #   Column        Non-Null Count  Dtype  \n",
      "---  ------        --------------  -----  \n",
      " 0   station_code  144 non-null    object \n",
      " 1   latitude      144 non-null    float64\n",
      " 2   longitude     144 non-null    float64\n",
      " 3   station_name  144 non-null    object \n",
      "dtypes: float64(2), object(2)\n",
      "memory usage: 4.6+ KB\n"
     ]
    }
   ],
   "source": [
    "mrt_df.info()"
   ]
  },
  {
   "cell_type": "code",
   "execution_count": 16,
   "metadata": {
    "id": "jd3Hq0WrdADv"
   },
   "outputs": [],
   "source": []
  },
  {
   "cell_type": "code",
   "execution_count": 16,
   "metadata": {
    "id": "7kHcYti-dAGX"
   },
   "outputs": [],
   "source": []
  },
  {
   "cell_type": "code",
   "execution_count": 16,
   "metadata": {
    "id": "kw4VcgGpdAIe"
   },
   "outputs": [],
   "source": []
  },
  {
   "cell_type": "code",
   "execution_count": 17,
   "metadata": {
    "colab": {
     "base_uri": "https://localhost:8080/"
    },
    "id": "k4fX0OhbdAKl",
    "outputId": "2279a2e9-1eb5-471e-aa13-e1c4b7109c71"
   },
   "outputs": [
    {
     "name": "stdout",
     "output_type": "stream",
     "text": [
      "<class 'pandas.core.frame.DataFrame'>\n",
      "RangeIndex: 9730 entries, 0 to 9729\n",
      "Data columns (total 2 columns):\n",
      " #   Column     Non-Null Count  Dtype  \n",
      "---  ------     --------------  -----  \n",
      " 0   latitude   9730 non-null   float64\n",
      " 1   longitude  9730 non-null   float64\n",
      "dtypes: float64(2)\n",
      "memory usage: 152.2 KB\n"
     ]
    }
   ],
   "source": [
    "# Extract unique HDB coordinates\n",
    "min_dist_df = hdb_df[['latitude', 'longitude']].drop_duplicates().reset_index(drop=True)\n",
    "min_dist_df.info()"
   ]
  },
  {
   "cell_type": "code",
   "execution_count": 18,
   "metadata": {
    "id": "R9Sw99zwZK8R"
   },
   "outputs": [],
   "source": [
    "def calculate_nearest_amenity_distances(min_dist_df, amenity_df, amenity_lat_col, amenity_lon_col, prefix):\n",
    "    \"\"\"\n",
    "    Calculate the distance to the nearest amenity for each unique coordinate.\n",
    "\n",
    "    :param min_dist_df: DataFrame with unique HDB coordinates.\n",
    "    :param amenity_df: DataFrame with amenity locations.\n",
    "    :param amenity_lat_col: Column name for the latitude of the amenity.\n",
    "    :param amenity_lon_col: Column name for the longitude of the amenity.\n",
    "    :param prefix: Prefix for the column name to store results.\n",
    "    \"\"\"\n",
    "    # Initialize column to store the nearest amenity distance\n",
    "    min_dist_df[f'nearest_{prefix}_distance'] = 0.0\n",
    "\n",
    "    # Calculate distance for each unique coordinate\n",
    "    for index, coord_row in tqdm(min_dist_df.iterrows(), total=min_dist_df.shape[0], desc=f\"Processing nearest {prefix} distance\"):\n",
    "        coord = (coord_row['latitude'], coord_row['longitude'])\n",
    "\n",
    "        # Calculate distance to each amenity\n",
    "        min_distance = min(\n",
    "            geodesic(coord, (amenity_row[amenity_lat_col], amenity_row[amenity_lon_col])).meters\n",
    "            for _, amenity_row in amenity_df.iterrows()\n",
    "        )\n",
    "\n",
    "        # Update the DataFrame with the nearest amenity distance\n",
    "        min_dist_df.at[index, f'nearest_{prefix}_distance'] = min_distance\n",
    "\n",
    "    return min_dist_df\n",
    "\n"
   ]
  },
  {
   "cell_type": "code",
   "execution_count": 19,
   "metadata": {
    "colab": {
     "base_uri": "https://localhost:8080/"
    },
    "id": "MZzprBg-f_27",
    "outputId": "0eda1913-e9b0-414a-c117-b282f09393f1"
   },
   "outputs": [
    {
     "name": "stderr",
     "output_type": "stream",
     "text": [
      "Processing nearest supermarket distance: 100%|██████████| 9730/9730 [27:37<00:00,  5.87it/s]\n"
     ]
    }
   ],
   "source": [
    "# Calculate nearest distances to Supermarket\n",
    "min_dist_df = calculate_nearest_amenity_distances(min_dist_df, shops_df, 'latitude', 'longitude', 'supermarket')\n"
   ]
  },
  {
   "cell_type": "code",
   "execution_count": 20,
   "metadata": {
    "colab": {
     "base_uri": "https://localhost:8080/"
    },
    "id": "Dkkfu5Ulf_5J",
    "outputId": "35246701-f86c-48c3-9212-ac1da56ec518"
   },
   "outputs": [
    {
     "name": "stderr",
     "output_type": "stream",
     "text": [
      "Processing nearest school distance: 100%|██████████| 9730/9730 [15:46<00:00, 10.28it/s]\n"
     ]
    }
   ],
   "source": [
    "# Calculate nearest distances to School\n",
    "min_dist_df = calculate_nearest_amenity_distances(min_dist_df, schools_df, 'latitude', 'longitude', 'school')"
   ]
  },
  {
   "cell_type": "code",
   "execution_count": 21,
   "metadata": {
    "colab": {
     "base_uri": "https://localhost:8080/"
    },
    "id": "OSlEq2uef_71",
    "outputId": "23534462-8446-4eb3-dcff-47f89f3a0d52"
   },
   "outputs": [
    {
     "name": "stderr",
     "output_type": "stream",
     "text": [
      "Processing nearest mrt distance: 100%|██████████| 9730/9730 [06:43<00:00, 24.10it/s]\n"
     ]
    }
   ],
   "source": [
    "# Calculate nearest distances to MRT\n",
    "min_dist_df = calculate_nearest_amenity_distances(min_dist_df, mrt_df, 'latitude', 'longitude', 'mrt')"
   ]
  },
  {
   "cell_type": "code",
   "execution_count": 22,
   "metadata": {
    "colab": {
     "base_uri": "https://localhost:8080/"
    },
    "id": "yr8t1dFXgW1T",
    "outputId": "85468e4e-96eb-4079-9d28-893608082f37"
   },
   "outputs": [
    {
     "name": "stderr",
     "output_type": "stream",
     "text": [
      "Processing nearest hawkers distance: 100%|██████████| 9730/9730 [04:58<00:00, 32.63it/s]\n"
     ]
    }
   ],
   "source": [
    "# Calculate nearest distances to Hawker Centre\n",
    "min_dist_df = calculate_nearest_amenity_distances(min_dist_df, hawkers_df, 'latitude', 'longitude', 'hawkers')"
   ]
  },
  {
   "cell_type": "code",
   "execution_count": 23,
   "metadata": {
    "id": "656_uu6jicdq"
   },
   "outputs": [],
   "source": [
    "# Calculate nearest distances to CBD\n",
    "cbd_coord = (float(cbd_lat), float(cbd_long))\n",
    "min_dist_df['cbd_distance'] = min_dist_df.apply(\n",
    "    lambda row: geodesic((row['latitude'], row['longitude']), cbd_coord).meters, axis=1\n",
    ")"
   ]
  },
  {
   "cell_type": "code",
   "execution_count": 24,
   "metadata": {
    "colab": {
     "base_uri": "https://localhost:8080/"
    },
    "id": "ULyyOuDtgW3y",
    "outputId": "905e00a9-a17c-40e7-bd37-2a6bf75ebb05"
   },
   "outputs": [
    {
     "name": "stdout",
     "output_type": "stream",
     "text": [
      "<class 'pandas.core.frame.DataFrame'>\n",
      "RangeIndex: 9730 entries, 0 to 9729\n",
      "Data columns (total 7 columns):\n",
      " #   Column                        Non-Null Count  Dtype  \n",
      "---  ------                        --------------  -----  \n",
      " 0   latitude                      9730 non-null   float64\n",
      " 1   longitude                     9730 non-null   float64\n",
      " 2   nearest_supermarket_distance  9730 non-null   float64\n",
      " 3   nearest_school_distance       9730 non-null   float64\n",
      " 4   nearest_mrt_distance          9730 non-null   float64\n",
      " 5   nearest_hawkers_distance      9730 non-null   float64\n",
      " 6   cbd_distance                  9730 non-null   float64\n",
      "dtypes: float64(7)\n",
      "memory usage: 532.2 KB\n"
     ]
    }
   ],
   "source": [
    "min_dist_df.info()"
   ]
  },
  {
   "cell_type": "code",
   "execution_count": 25,
   "metadata": {
    "colab": {
     "base_uri": "https://localhost:8080/",
     "height": 226
    },
    "id": "lYpBhlRGhq7y",
    "outputId": "024560f8-f44e-42f5-ab06-091c29505b77"
   },
   "outputs": [
    {
     "data": {
      "application/vnd.google.colaboratory.intrinsic+json": {
       "summary": "{\n  \"name\": \"min_dist_df\",\n  \"rows\": 9730,\n  \"fields\": [\n    {\n      \"column\": \"latitude\",\n      \"properties\": {\n        \"dtype\": \"number\",\n        \"std\": 0.041628823760876246,\n        \"min\": 1.24147032344329,\n        \"max\": 1.45707121613828,\n        \"num_unique_values\": 9729,\n        \"samples\": [\n          1.33184129947186,\n          1.44438611303635,\n          1.37695171842745\n        ],\n        \"semantic_type\": \"\",\n        \"description\": \"\"\n      }\n    },\n    {\n      \"column\": \"longitude\",\n      \"properties\": {\n        \"dtype\": \"number\",\n        \"std\": 0.0739875646133896,\n        \"min\": 103.685228417825,\n        \"max\": 103.987804503483,\n        \"num_unique_values\": 9730,\n        \"samples\": [\n          103.913196235939,\n          103.832077558585,\n          103.893530769461\n        ],\n        \"semantic_type\": \"\",\n        \"description\": \"\"\n      }\n    },\n    {\n      \"column\": \"nearest_supermarket_distance\",\n      \"properties\": {\n        \"dtype\": \"number\",\n        \"std\": 161.54284513628065,\n        \"min\": 0.0,\n        \"max\": 4470.303249560157,\n        \"num_unique_values\": 9637,\n        \"samples\": [\n          452.6540170060791,\n          349.96357713995263,\n          450.8550740700857\n        ],\n        \"semantic_type\": \"\",\n        \"description\": \"\"\n      }\n    },\n    {\n      \"column\": \"nearest_school_distance\",\n      \"properties\": {\n        \"dtype\": \"number\",\n        \"std\": 219.6304663157474,\n        \"min\": 42.554860982613604,\n        \"max\": 5144.585151961924,\n        \"num_unique_values\": 9730,\n        \"samples\": [\n          266.6842363036231,\n          957.3785854403994,\n          163.09241577299917\n        ],\n        \"semantic_type\": \"\",\n        \"description\": \"\"\n      }\n    },\n    {\n      \"column\": \"nearest_mrt_distance\",\n      \"properties\": {\n        \"dtype\": \"number\",\n        \"std\": 447.9844331670225,\n        \"min\": 0.0,\n        \"max\": 5466.706998709164,\n        \"num_unique_values\": 9727,\n        \"samples\": [\n          929.7617248136971,\n          810.5771589414218,\n          363.39102176616\n        ],\n        \"semantic_type\": \"\",\n        \"description\": \"\"\n      }\n    },\n    {\n      \"column\": \"nearest_hawkers_distance\",\n      \"properties\": {\n        \"dtype\": \"number\",\n        \"std\": 1474.89634405399,\n        \"min\": 0.0,\n        \"max\": 7505.5386029596,\n        \"num_unique_values\": 9716,\n        \"samples\": [\n          1736.3770397727521,\n          2769.972636237968,\n          379.2520089965366\n        ],\n        \"semantic_type\": \"\",\n        \"description\": \"\"\n      }\n    },\n    {\n      \"column\": \"cbd_distance\",\n      \"properties\": {\n        \"dtype\": \"number\",\n        \"std\": 4377.214738085679,\n        \"min\": 721.9585960528765,\n        \"max\": 22074.073155654412,\n        \"num_unique_values\": 9730,\n        \"samples\": [\n          8382.294628975595,\n          17436.04940893423,\n          11101.07728984554\n        ],\n        \"semantic_type\": \"\",\n        \"description\": \"\"\n      }\n    }\n  ]\n}",
       "type": "dataframe",
       "variable_name": "min_dist_df"
      },
      "text/html": [
       "\n",
       "  <div id=\"df-554971c8-5f3f-4158-84b5-d82661d570ad\" class=\"colab-df-container\">\n",
       "    <div>\n",
       "<style scoped>\n",
       "    .dataframe tbody tr th:only-of-type {\n",
       "        vertical-align: middle;\n",
       "    }\n",
       "\n",
       "    .dataframe tbody tr th {\n",
       "        vertical-align: top;\n",
       "    }\n",
       "\n",
       "    .dataframe thead th {\n",
       "        text-align: right;\n",
       "    }\n",
       "</style>\n",
       "<table border=\"1\" class=\"dataframe\">\n",
       "  <thead>\n",
       "    <tr style=\"text-align: right;\">\n",
       "      <th></th>\n",
       "      <th>latitude</th>\n",
       "      <th>longitude</th>\n",
       "      <th>nearest_supermarket_distance</th>\n",
       "      <th>nearest_school_distance</th>\n",
       "      <th>nearest_mrt_distance</th>\n",
       "      <th>nearest_hawkers_distance</th>\n",
       "      <th>cbd_distance</th>\n",
       "    </tr>\n",
       "  </thead>\n",
       "  <tbody>\n",
       "    <tr>\n",
       "      <th>0</th>\n",
       "      <td>1.366558</td>\n",
       "      <td>103.841624</td>\n",
       "      <td>0.000000</td>\n",
       "      <td>104.434561</td>\n",
       "      <td>781.530960</td>\n",
       "      <td>0.000000</td>\n",
       "      <td>8765.007560</td>\n",
       "    </tr>\n",
       "    <tr>\n",
       "      <th>1</th>\n",
       "      <td>1.366197</td>\n",
       "      <td>103.841505</td>\n",
       "      <td>42.113407</td>\n",
       "      <td>145.364227</td>\n",
       "      <td>800.632183</td>\n",
       "      <td>42.113407</td>\n",
       "      <td>8727.095898</td>\n",
       "    </tr>\n",
       "    <tr>\n",
       "      <th>2</th>\n",
       "      <td>1.369197</td>\n",
       "      <td>103.841667</td>\n",
       "      <td>223.170055</td>\n",
       "      <td>212.713849</td>\n",
       "      <td>620.310216</td>\n",
       "      <td>161.753049</td>\n",
       "      <td>9053.827676</td>\n",
       "    </tr>\n",
       "    <tr>\n",
       "      <th>3</th>\n",
       "      <td>1.368446</td>\n",
       "      <td>103.844516</td>\n",
       "      <td>228.426423</td>\n",
       "      <td>290.002626</td>\n",
       "      <td>584.672255</td>\n",
       "      <td>383.648599</td>\n",
       "      <td>8937.226741</td>\n",
       "    </tr>\n",
       "    <tr>\n",
       "      <th>4</th>\n",
       "      <td>1.366824</td>\n",
       "      <td>103.836491</td>\n",
       "      <td>84.902350</td>\n",
       "      <td>203.720220</td>\n",
       "      <td>513.091791</td>\n",
       "      <td>473.219425</td>\n",
       "      <td>8885.621966</td>\n",
       "    </tr>\n",
       "  </tbody>\n",
       "</table>\n",
       "</div>\n",
       "    <div class=\"colab-df-buttons\">\n",
       "\n",
       "  <div class=\"colab-df-container\">\n",
       "    <button class=\"colab-df-convert\" onclick=\"convertToInteractive('df-554971c8-5f3f-4158-84b5-d82661d570ad')\"\n",
       "            title=\"Convert this dataframe to an interactive table.\"\n",
       "            style=\"display:none;\">\n",
       "\n",
       "  <svg xmlns=\"http://www.w3.org/2000/svg\" height=\"24px\" viewBox=\"0 -960 960 960\">\n",
       "    <path d=\"M120-120v-720h720v720H120Zm60-500h600v-160H180v160Zm220 220h160v-160H400v160Zm0 220h160v-160H400v160ZM180-400h160v-160H180v160Zm440 0h160v-160H620v160ZM180-180h160v-160H180v160Zm440 0h160v-160H620v160Z\"/>\n",
       "  </svg>\n",
       "    </button>\n",
       "\n",
       "  <style>\n",
       "    .colab-df-container {\n",
       "      display:flex;\n",
       "      gap: 12px;\n",
       "    }\n",
       "\n",
       "    .colab-df-convert {\n",
       "      background-color: #E8F0FE;\n",
       "      border: none;\n",
       "      border-radius: 50%;\n",
       "      cursor: pointer;\n",
       "      display: none;\n",
       "      fill: #1967D2;\n",
       "      height: 32px;\n",
       "      padding: 0 0 0 0;\n",
       "      width: 32px;\n",
       "    }\n",
       "\n",
       "    .colab-df-convert:hover {\n",
       "      background-color: #E2EBFA;\n",
       "      box-shadow: 0px 1px 2px rgba(60, 64, 67, 0.3), 0px 1px 3px 1px rgba(60, 64, 67, 0.15);\n",
       "      fill: #174EA6;\n",
       "    }\n",
       "\n",
       "    .colab-df-buttons div {\n",
       "      margin-bottom: 4px;\n",
       "    }\n",
       "\n",
       "    [theme=dark] .colab-df-convert {\n",
       "      background-color: #3B4455;\n",
       "      fill: #D2E3FC;\n",
       "    }\n",
       "\n",
       "    [theme=dark] .colab-df-convert:hover {\n",
       "      background-color: #434B5C;\n",
       "      box-shadow: 0px 1px 3px 1px rgba(0, 0, 0, 0.15);\n",
       "      filter: drop-shadow(0px 1px 2px rgba(0, 0, 0, 0.3));\n",
       "      fill: #FFFFFF;\n",
       "    }\n",
       "  </style>\n",
       "\n",
       "    <script>\n",
       "      const buttonEl =\n",
       "        document.querySelector('#df-554971c8-5f3f-4158-84b5-d82661d570ad button.colab-df-convert');\n",
       "      buttonEl.style.display =\n",
       "        google.colab.kernel.accessAllowed ? 'block' : 'none';\n",
       "\n",
       "      async function convertToInteractive(key) {\n",
       "        const element = document.querySelector('#df-554971c8-5f3f-4158-84b5-d82661d570ad');\n",
       "        const dataTable =\n",
       "          await google.colab.kernel.invokeFunction('convertToInteractive',\n",
       "                                                    [key], {});\n",
       "        if (!dataTable) return;\n",
       "\n",
       "        const docLinkHtml = 'Like what you see? Visit the ' +\n",
       "          '<a target=\"_blank\" href=https://colab.research.google.com/notebooks/data_table.ipynb>data table notebook</a>'\n",
       "          + ' to learn more about interactive tables.';\n",
       "        element.innerHTML = '';\n",
       "        dataTable['output_type'] = 'display_data';\n",
       "        await google.colab.output.renderOutput(dataTable, element);\n",
       "        const docLink = document.createElement('div');\n",
       "        docLink.innerHTML = docLinkHtml;\n",
       "        element.appendChild(docLink);\n",
       "      }\n",
       "    </script>\n",
       "  </div>\n",
       "\n",
       "\n",
       "<div id=\"df-08bbb9a4-ed38-4aa0-9838-7cb056801379\">\n",
       "  <button class=\"colab-df-quickchart\" onclick=\"quickchart('df-08bbb9a4-ed38-4aa0-9838-7cb056801379')\"\n",
       "            title=\"Suggest charts\"\n",
       "            style=\"display:none;\">\n",
       "\n",
       "<svg xmlns=\"http://www.w3.org/2000/svg\" height=\"24px\"viewBox=\"0 0 24 24\"\n",
       "     width=\"24px\">\n",
       "    <g>\n",
       "        <path d=\"M19 3H5c-1.1 0-2 .9-2 2v14c0 1.1.9 2 2 2h14c1.1 0 2-.9 2-2V5c0-1.1-.9-2-2-2zM9 17H7v-7h2v7zm4 0h-2V7h2v10zm4 0h-2v-4h2v4z\"/>\n",
       "    </g>\n",
       "</svg>\n",
       "  </button>\n",
       "\n",
       "<style>\n",
       "  .colab-df-quickchart {\n",
       "      --bg-color: #E8F0FE;\n",
       "      --fill-color: #1967D2;\n",
       "      --hover-bg-color: #E2EBFA;\n",
       "      --hover-fill-color: #174EA6;\n",
       "      --disabled-fill-color: #AAA;\n",
       "      --disabled-bg-color: #DDD;\n",
       "  }\n",
       "\n",
       "  [theme=dark] .colab-df-quickchart {\n",
       "      --bg-color: #3B4455;\n",
       "      --fill-color: #D2E3FC;\n",
       "      --hover-bg-color: #434B5C;\n",
       "      --hover-fill-color: #FFFFFF;\n",
       "      --disabled-bg-color: #3B4455;\n",
       "      --disabled-fill-color: #666;\n",
       "  }\n",
       "\n",
       "  .colab-df-quickchart {\n",
       "    background-color: var(--bg-color);\n",
       "    border: none;\n",
       "    border-radius: 50%;\n",
       "    cursor: pointer;\n",
       "    display: none;\n",
       "    fill: var(--fill-color);\n",
       "    height: 32px;\n",
       "    padding: 0;\n",
       "    width: 32px;\n",
       "  }\n",
       "\n",
       "  .colab-df-quickchart:hover {\n",
       "    background-color: var(--hover-bg-color);\n",
       "    box-shadow: 0 1px 2px rgba(60, 64, 67, 0.3), 0 1px 3px 1px rgba(60, 64, 67, 0.15);\n",
       "    fill: var(--button-hover-fill-color);\n",
       "  }\n",
       "\n",
       "  .colab-df-quickchart-complete:disabled,\n",
       "  .colab-df-quickchart-complete:disabled:hover {\n",
       "    background-color: var(--disabled-bg-color);\n",
       "    fill: var(--disabled-fill-color);\n",
       "    box-shadow: none;\n",
       "  }\n",
       "\n",
       "  .colab-df-spinner {\n",
       "    border: 2px solid var(--fill-color);\n",
       "    border-color: transparent;\n",
       "    border-bottom-color: var(--fill-color);\n",
       "    animation:\n",
       "      spin 1s steps(1) infinite;\n",
       "  }\n",
       "\n",
       "  @keyframes spin {\n",
       "    0% {\n",
       "      border-color: transparent;\n",
       "      border-bottom-color: var(--fill-color);\n",
       "      border-left-color: var(--fill-color);\n",
       "    }\n",
       "    20% {\n",
       "      border-color: transparent;\n",
       "      border-left-color: var(--fill-color);\n",
       "      border-top-color: var(--fill-color);\n",
       "    }\n",
       "    30% {\n",
       "      border-color: transparent;\n",
       "      border-left-color: var(--fill-color);\n",
       "      border-top-color: var(--fill-color);\n",
       "      border-right-color: var(--fill-color);\n",
       "    }\n",
       "    40% {\n",
       "      border-color: transparent;\n",
       "      border-right-color: var(--fill-color);\n",
       "      border-top-color: var(--fill-color);\n",
       "    }\n",
       "    60% {\n",
       "      border-color: transparent;\n",
       "      border-right-color: var(--fill-color);\n",
       "    }\n",
       "    80% {\n",
       "      border-color: transparent;\n",
       "      border-right-color: var(--fill-color);\n",
       "      border-bottom-color: var(--fill-color);\n",
       "    }\n",
       "    90% {\n",
       "      border-color: transparent;\n",
       "      border-bottom-color: var(--fill-color);\n",
       "    }\n",
       "  }\n",
       "</style>\n",
       "\n",
       "  <script>\n",
       "    async function quickchart(key) {\n",
       "      const quickchartButtonEl =\n",
       "        document.querySelector('#' + key + ' button');\n",
       "      quickchartButtonEl.disabled = true;  // To prevent multiple clicks.\n",
       "      quickchartButtonEl.classList.add('colab-df-spinner');\n",
       "      try {\n",
       "        const charts = await google.colab.kernel.invokeFunction(\n",
       "            'suggestCharts', [key], {});\n",
       "      } catch (error) {\n",
       "        console.error('Error during call to suggestCharts:', error);\n",
       "      }\n",
       "      quickchartButtonEl.classList.remove('colab-df-spinner');\n",
       "      quickchartButtonEl.classList.add('colab-df-quickchart-complete');\n",
       "    }\n",
       "    (() => {\n",
       "      let quickchartButtonEl =\n",
       "        document.querySelector('#df-08bbb9a4-ed38-4aa0-9838-7cb056801379 button');\n",
       "      quickchartButtonEl.style.display =\n",
       "        google.colab.kernel.accessAllowed ? 'block' : 'none';\n",
       "    })();\n",
       "  </script>\n",
       "</div>\n",
       "\n",
       "    </div>\n",
       "  </div>\n"
      ],
      "text/plain": [
       "   latitude   longitude  nearest_supermarket_distance  \\\n",
       "0  1.366558  103.841624                      0.000000   \n",
       "1  1.366197  103.841505                     42.113407   \n",
       "2  1.369197  103.841667                    223.170055   \n",
       "3  1.368446  103.844516                    228.426423   \n",
       "4  1.366824  103.836491                     84.902350   \n",
       "\n",
       "   nearest_school_distance  nearest_mrt_distance  nearest_hawkers_distance  \\\n",
       "0               104.434561            781.530960                  0.000000   \n",
       "1               145.364227            800.632183                 42.113407   \n",
       "2               212.713849            620.310216                161.753049   \n",
       "3               290.002626            584.672255                383.648599   \n",
       "4               203.720220            513.091791                473.219425   \n",
       "\n",
       "   cbd_distance  \n",
       "0   8765.007560  \n",
       "1   8727.095898  \n",
       "2   9053.827676  \n",
       "3   8937.226741  \n",
       "4   8885.621966  "
      ]
     },
     "execution_count": 25,
     "metadata": {},
     "output_type": "execute_result"
    }
   ],
   "source": [
    "min_dist_df.head()"
   ]
  },
  {
   "cell_type": "code",
   "execution_count": 25,
   "metadata": {
    "id": "4Wp9F4pjhq-G"
   },
   "outputs": [],
   "source": []
  },
  {
   "cell_type": "code",
   "execution_count": 25,
   "metadata": {
    "id": "2VAA-CtzhrAU"
   },
   "outputs": [],
   "source": []
  },
  {
   "cell_type": "code",
   "execution_count": 25,
   "metadata": {
    "id": "pTjZTs6kgW8v"
   },
   "outputs": [],
   "source": []
  },
  {
   "cell_type": "code",
   "execution_count": 26,
   "metadata": {
    "id": "nRxZtlvPaTMP"
   },
   "outputs": [],
   "source": [
    "hdb_df = hdb_df.merge(min_dist_df, on=['latitude', 'longitude'], how='left')"
   ]
  },
  {
   "cell_type": "code",
   "execution_count": 27,
   "metadata": {
    "colab": {
     "base_uri": "https://localhost:8080/"
    },
    "id": "QDqFHvN7dhOV",
    "outputId": "1f8529d4-e583-416a-85d2-2be301b9cf3b"
   },
   "outputs": [
    {
     "name": "stdout",
     "output_type": "stream",
     "text": [
      "<class 'pandas.core.frame.DataFrame'>\n",
      "RangeIndex: 919408 entries, 0 to 919407\n",
      "Data columns (total 19 columns):\n",
      " #   Column                        Non-Null Count   Dtype  \n",
      "---  ------                        --------------   -----  \n",
      " 0   month                         919408 non-null  object \n",
      " 1   town                          919408 non-null  object \n",
      " 2   flat_type                     919408 non-null  object \n",
      " 3   block                         919408 non-null  object \n",
      " 4   street_name                   919408 non-null  object \n",
      " 5   storey_range                  919408 non-null  object \n",
      " 6   floor_area_sqm                919408 non-null  float64\n",
      " 7   flat_model                    919408 non-null  object \n",
      " 8   lease_commence_date           919408 non-null  int64  \n",
      " 9   resale_price                  919408 non-null  float64\n",
      " 10  remaining_lease               210358 non-null  object \n",
      " 11  address                       919408 non-null  object \n",
      " 12  latitude                      919408 non-null  float64\n",
      " 13  longitude                     919408 non-null  float64\n",
      " 14  nearest_supermarket_distance  919408 non-null  float64\n",
      " 15  nearest_school_distance       919408 non-null  float64\n",
      " 16  nearest_mrt_distance          919408 non-null  float64\n",
      " 17  nearest_hawkers_distance      919408 non-null  float64\n",
      " 18  cbd_distance                  919408 non-null  float64\n",
      "dtypes: float64(9), int64(1), object(9)\n",
      "memory usage: 133.3+ MB\n"
     ]
    }
   ],
   "source": [
    "hdb_df.info()"
   ]
  },
  {
   "cell_type": "code",
   "execution_count": 28,
   "metadata": {
    "id": "1LNV_YsQkoqa"
   },
   "outputs": [],
   "source": [
    "hdb_df.to_csv('hdb_df_min_dist.csv', index=False)"
   ]
  },
  {
   "cell_type": "code",
   "execution_count": 29,
   "metadata": {
    "id": "npwoTAPltkK0"
   },
   "outputs": [],
   "source": [
    "hdb_df.to_csv('/content/drive/My Drive/hdb_df_min_dist.csv', index=False)"
   ]
  },
  {
   "cell_type": "code",
   "execution_count": 29,
   "metadata": {
    "id": "AIWNC9A0t35C"
   },
   "outputs": [],
   "source": []
  },
  {
   "cell_type": "code",
   "execution_count": 30,
   "metadata": {
    "colab": {
     "base_uri": "https://localhost:8080/"
    },
    "id": "W_HmvpBCvFZY",
    "outputId": "eabc3b96-49b8-4312-b425-5ae9cb8796a0"
   },
   "outputs": [
    {
     "name": "stdout",
     "output_type": "stream",
     "text": [
      "Drive already mounted at /content/drive; to attempt to forcibly remount, call drive.mount(\"/content/drive\", force_remount=True).\n"
     ]
    }
   ],
   "source": [
    "from google.colab import drive\n",
    "drive.mount('/content/drive')"
   ]
  },
  {
   "cell_type": "code",
   "execution_count": 30,
   "metadata": {
    "id": "5YIE9ozGt38d"
   },
   "outputs": [],
   "source": []
  }
 ],
 "metadata": {
  "accelerator": "GPU",
  "colab": {
   "gpuType": "T4",
   "provenance": []
  },
  "kernelspec": {
   "display_name": "Python 3 (ipykernel)",
   "language": "python",
   "name": "python3"
  },
  "language_info": {
   "codemirror_mode": {
    "name": "ipython",
    "version": 3
   },
   "file_extension": ".py",
   "mimetype": "text/x-python",
   "name": "python",
   "nbconvert_exporter": "python",
   "pygments_lexer": "ipython3",
   "version": "3.9.12"
  }
 },
 "nbformat": 4,
 "nbformat_minor": 1
}
