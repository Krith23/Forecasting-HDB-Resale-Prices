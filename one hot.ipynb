{
 "cells": [
  {
   "cell_type": "markdown",
   "id": "d1a3b7e5",
   "metadata": {},
   "source": [
    "### Regression on the whole dataset all variables"
   ]
  },
  {
   "cell_type": "code",
   "execution_count": 1,
   "id": "627317d5",
   "metadata": {},
   "outputs": [],
   "source": [
    "import pandas as pd\n",
    "import numpy as np\n",
    "import matplotlib.pyplot as plt\n",
    "from sklearn.linear_model import LinearRegression\n",
    "from sklearn.model_selection import train_test_split\n",
    "from sklearn.preprocessing import StandardScaler, LabelEncoder\n",
    "from sklearn.metrics import mean_absolute_error, mean_squared_error, r2_score\n",
    "\n",
    "\n",
    "from sklearn.tree import DecisionTreeRegressor\n",
    "from sklearn.ensemble import RandomForestRegressor, GradientBoostingRegressor\n",
    "from xgboost import XGBRegressor\n",
    "from sklearn.neighbors import KNeighborsRegressor\n",
    "from sklearn.linear_model import LinearRegression, Lasso, Ridge\n",
    "from sklearn.metrics import mean_squared_error, r2_score, mean_absolute_error"
   ]
  },
  {
   "cell_type": "code",
   "execution_count": 6,
   "id": "5738c0cc",
   "metadata": {},
   "outputs": [],
   "source": [
    "hdb_df = pd.read_csv('data/hdb_combined_clean.csv', low_memory=False)"
   ]
  },
  {
   "cell_type": "code",
   "execution_count": 7,
   "id": "2474ad7f",
   "metadata": {},
   "outputs": [],
   "source": [
    "# Convert categorical columns to numerical\n",
    "categorical_cols = ['town', 'flat_type', 'flat_model']  # Replace with relevant column names\n",
    "df_encoded = pd.get_dummies(hdb_df, columns=categorical_cols, drop_first=True)\n",
    "\n",
    "df_encoded.drop(['month_of_sale', 'block', 'street_name', 'storey_range', 'lease_commence_date', 'address',\n",
    "             'latitude', 'longitude','price_per_sqm'],\n",
    "            axis=1, inplace=True)\n",
    "\n",
    "df_encoded = df_encoded.drop_duplicates()"
   ]
  },
  {
   "cell_type": "code",
   "execution_count": 8,
   "id": "05dba031",
   "metadata": {},
   "outputs": [
    {
     "name": "stdout",
     "output_type": "stream",
     "text": [
      "<class 'pandas.core.frame.DataFrame'>\n",
      "Int64Index: 906790 entries, 0 to 917392\n",
      "Data columns (total 62 columns):\n",
      " #   Column                             Non-Null Count   Dtype  \n",
      "---  ------                             --------------   -----  \n",
      " 0   floor_area_sqm                     906790 non-null  float64\n",
      " 1   resale_price                       906790 non-null  float64\n",
      " 2   nearest_supermarket_distance       906790 non-null  float64\n",
      " 3   nearest_school_distance            906790 non-null  float64\n",
      " 4   nearest_mrt_distance               906790 non-null  float64\n",
      " 5   nearest_hawkers_distance           906790 non-null  float64\n",
      " 6   cbd_distance                       906790 non-null  float64\n",
      " 7   year_of_sale                       906790 non-null  int64  \n",
      " 8   calculated_remaining_lease         906790 non-null  float64\n",
      " 9   storey_median                      906790 non-null  int64  \n",
      " 10  town_BEDOK                         906790 non-null  uint8  \n",
      " 11  town_BISHAN                        906790 non-null  uint8  \n",
      " 12  town_BUKIT BATOK                   906790 non-null  uint8  \n",
      " 13  town_BUKIT MERAH                   906790 non-null  uint8  \n",
      " 14  town_BUKIT PANJANG                 906790 non-null  uint8  \n",
      " 15  town_BUKIT TIMAH                   906790 non-null  uint8  \n",
      " 16  town_CENTRAL AREA                  906790 non-null  uint8  \n",
      " 17  town_CHOA CHU KANG                 906790 non-null  uint8  \n",
      " 18  town_CLEMENTI                      906790 non-null  uint8  \n",
      " 19  town_GEYLANG                       906790 non-null  uint8  \n",
      " 20  town_HOUGANG                       906790 non-null  uint8  \n",
      " 21  town_JURONG EAST                   906790 non-null  uint8  \n",
      " 22  town_JURONG WEST                   906790 non-null  uint8  \n",
      " 23  town_KALLANG/WHAMPOA               906790 non-null  uint8  \n",
      " 24  town_LIM CHU KANG                  906790 non-null  uint8  \n",
      " 25  town_MARINE PARADE                 906790 non-null  uint8  \n",
      " 26  town_PASIR RIS                     906790 non-null  uint8  \n",
      " 27  town_PUNGGOL                       906790 non-null  uint8  \n",
      " 28  town_QUEENSTOWN                    906790 non-null  uint8  \n",
      " 29  town_SEMBAWANG                     906790 non-null  uint8  \n",
      " 30  town_SENGKANG                      906790 non-null  uint8  \n",
      " 31  town_SERANGOON                     906790 non-null  uint8  \n",
      " 32  town_TAMPINES                      906790 non-null  uint8  \n",
      " 33  town_TOA PAYOH                     906790 non-null  uint8  \n",
      " 34  town_WOODLANDS                     906790 non-null  uint8  \n",
      " 35  town_YISHUN                        906790 non-null  uint8  \n",
      " 36  flat_type_2 ROOM                   906790 non-null  uint8  \n",
      " 37  flat_type_3 ROOM                   906790 non-null  uint8  \n",
      " 38  flat_type_4 ROOM                   906790 non-null  uint8  \n",
      " 39  flat_type_5 ROOM                   906790 non-null  uint8  \n",
      " 40  flat_type_EXECUTIVE                906790 non-null  uint8  \n",
      " 41  flat_type_MULTI GENERATION         906790 non-null  uint8  \n",
      " 42  flat_model_3Gen                    906790 non-null  uint8  \n",
      " 43  flat_model_Adjoined flat           906790 non-null  uint8  \n",
      " 44  flat_model_Apartment               906790 non-null  uint8  \n",
      " 45  flat_model_DBSS                    906790 non-null  uint8  \n",
      " 46  flat_model_Improved                906790 non-null  uint8  \n",
      " 47  flat_model_Improved-Maisonette     906790 non-null  uint8  \n",
      " 48  flat_model_Maisonette              906790 non-null  uint8  \n",
      " 49  flat_model_Model A                 906790 non-null  uint8  \n",
      " 50  flat_model_Model A-Maisonette      906790 non-null  uint8  \n",
      " 51  flat_model_Model A2                906790 non-null  uint8  \n",
      " 52  flat_model_Multi Generation        906790 non-null  uint8  \n",
      " 53  flat_model_New Generation          906790 non-null  uint8  \n",
      " 54  flat_model_Premium Apartment       906790 non-null  uint8  \n",
      " 55  flat_model_Premium Apartment Loft  906790 non-null  uint8  \n",
      " 56  flat_model_Premium Maisonette      906790 non-null  uint8  \n",
      " 57  flat_model_Simplified              906790 non-null  uint8  \n",
      " 58  flat_model_Standard                906790 non-null  uint8  \n",
      " 59  flat_model_Terrace                 906790 non-null  uint8  \n",
      " 60  flat_model_Type S1                 906790 non-null  uint8  \n",
      " 61  flat_model_Type S2                 906790 non-null  uint8  \n",
      "dtypes: float64(8), int64(2), uint8(52)\n",
      "memory usage: 121.1 MB\n"
     ]
    }
   ],
   "source": [
    "df_encoded.info()"
   ]
  },
  {
   "cell_type": "code",
   "execution_count": 9,
   "id": "23194b08",
   "metadata": {},
   "outputs": [],
   "source": [
    "# Split features and target (assuming 'resale_price' is the target)\n",
    "X = df_encoded.drop(columns=['resale_price'])\n",
    "y = df_encoded['resale_price']\n",
    "\n",
    "# Train-test split (80-20)\n",
    "X_train, X_test, y_train, y_test = train_test_split(X, y, test_size=0.2, random_state=42)\n",
    "\n",
    "# Scaling features (only for models sensitive to scale like linear regression or neural networks)\n",
    "scaler = StandardScaler()\n",
    "X_train_scaled = scaler.fit_transform(X_train)\n",
    "X_test_scaled = scaler.transform(X_test)\n"
   ]
  },
  {
   "cell_type": "code",
   "execution_count": 16,
   "id": "8159c9c1",
   "metadata": {},
   "outputs": [
    {
     "name": "stdout",
     "output_type": "stream",
     "text": [
      "Decision Tree:\n",
      "  R²: 0.9668\n",
      "  RMSE: 30565.6249\n",
      "  MAE: 21166.4380\n",
      "\n"
     ]
    }
   ],
   "source": [
    "# Decision Tree Regressor\n",
    "dt = DecisionTreeRegressor(random_state=0, ccp_alpha=0.01)\n",
    "dt.fit(X_train_scaled, y_train)\n",
    "dt_pred = dt.predict(X_test_scaled)\n",
    "print(\"Decision Tree:\")\n",
    "print(f\"  R²: {r2_score(y_test, dt_pred):.4f}\")\n",
    "print(f\"  RMSE: {np.sqrt(mean_squared_error(y_test, dt_pred)):.4f}\")\n",
    "print(f\"  MAE: {mean_absolute_error(y_test, dt_pred):.4f}\\n\")"
   ]
  },
  {
   "cell_type": "code",
   "execution_count": 21,
   "id": "28a8fa90",
   "metadata": {},
   "outputs": [
    {
     "name": "stdout",
     "output_type": "stream",
     "text": [
      "Cross-validated RMSE: 31409.88606549861\n"
     ]
    }
   ],
   "source": [
    "from sklearn.model_selection import cross_val_score\n",
    "scores = cross_val_score(dt, X_train, y_train, cv=5, scoring='neg_mean_squared_error')\n",
    "print(\"Cross-validated RMSE:\", np.sqrt(-scores.mean()))\n"
   ]
  },
  {
   "cell_type": "code",
   "execution_count": 20,
   "id": "e182e438",
   "metadata": {},
   "outputs": [
    {
     "name": "stdout",
     "output_type": "stream",
     "text": [
      "Tree Depth: 55\n",
      "Number of Leaves: 559322\n"
     ]
    }
   ],
   "source": [
    "print(f\"Tree Depth: {dt.get_depth()}\")\n",
    "print(f\"Number of Leaves: {dt.get_n_leaves()}\")\n",
    "# print(f\"State: {dt.get_random_state()}\")"
   ]
  },
  {
   "cell_type": "code",
   "execution_count": null,
   "id": "ad167ac7",
   "metadata": {},
   "outputs": [],
   "source": []
  },
  {
   "cell_type": "code",
   "execution_count": 24,
   "id": "f7215d0c",
   "metadata": {},
   "outputs": [
    {
     "name": "stdout",
     "output_type": "stream",
     "text": [
      "R²: 0.8425\n",
      "RMSE: 66542.8408\n"
     ]
    }
   ],
   "source": [
    "from sklearn.decomposition import PCA\n",
    "\n",
    "# Step 2: Apply PCA (choosing 55 components as an example)\n",
    "pca = PCA(n_components=60)\n",
    "X_train_pca = pca.fit_transform(X_train_scaled)\n",
    "X_test_pca = pca.transform(X_test_scaled)\n",
    "\n",
    "# Step 3: Fit a regression model\n",
    "reg = LinearRegression()\n",
    "reg.fit(X_train_pca, y_train)\n",
    "\n",
    "# Step 4: Make predictions and evaluate performance\n",
    "y_pred = reg.predict(X_test_pca)\n",
    "print(f\"R²: {r2_score(y_test, y_pred):.4f}\")\n",
    "print(f\"RMSE: {np.sqrt(mean_squared_error(y_test, y_pred)):.4f}\")\n"
   ]
  },
  {
   "cell_type": "code",
   "execution_count": 25,
   "id": "6d79ed82",
   "metadata": {},
   "outputs": [
    {
     "name": "stdout",
     "output_type": "stream",
     "text": [
      "[0.06844144 0.11099715 0.1487042  0.18167696 0.21192549 0.23990325\n",
      " 0.26503897 0.28923775 0.31206299 0.33466604 0.35675097 0.37782149\n",
      " 0.39812193 0.41769476 0.43684841 0.45563681 0.47421164 0.49225453\n",
      " 0.51014843 0.52778618 0.54524704 0.56267363 0.58001925 0.59718376\n",
      " 0.61419874 0.63116474 0.64805052 0.66489482 0.68163866 0.69819008\n",
      " 0.71467393 0.73107176 0.74744782 0.76380073 0.78003536 0.79612625\n",
      " 0.81191723 0.82759675 0.8430509  0.85798836 0.87279035 0.88723757\n",
      " 0.90068919 0.9139951  0.92642545 0.9385135  0.94987267 0.96105557\n",
      " 0.97163403 0.98059619 0.98819577 0.99382489 0.9964825  0.99794274\n",
      " 0.99870756 0.99931555 0.9997391  0.99997391 0.99999726 1.\n",
      " 1.        ]\n"
     ]
    }
   ],
   "source": [
    "pca = PCA().fit(X_train_scaled)\n",
    "print(np.cumsum(pca.explained_variance_ratio_))  # Cumulative variance explained\n"
   ]
  },
  {
   "cell_type": "code",
   "execution_count": 32,
   "id": "d1cb00d6",
   "metadata": {},
   "outputs": [
    {
     "data": {
      "image/png": "[encoded data removed]",
      "text/plain": [
       "<Figure size 576x360 with 1 Axes>"
      ]
     },
     "metadata": {
      "needs_background": "light"
     },
     "output_type": "display_data"
    },
    {
     "name": "stdout",
     "output_type": "stream",
     "text": [
      "Number of components to keep for 99.0% variance: 52\n",
      "Transformed shape with high variance features: (725432, 52)\n"
     ]
    }
   ],
   "source": [
    "import numpy as np\n",
    "import pandas as pd\n",
    "import matplotlib.pyplot as plt\n",
    "from sklearn.decomposition import PCA\n",
    "from sklearn.preprocessing import StandardScaler\n",
    "\n",
    "\n",
    "# Step 2: Fit PCA\n",
    "pca = PCA()\n",
    "pca.fit(X_train_scaled)\n",
    "\n",
    "# Step 3: Get explained variance ratio\n",
    "explained_variance = pca.explained_variance_ratio_\n",
    "\n",
    "# Step 4: Plot cumulative explained variance\n",
    "plt.figure(figsize=(8, 5))\n",
    "plt.plot(np.cumsum(explained_variance), marker='o')\n",
    "plt.title('Cumulative Explained Variance by Principal Components')\n",
    "plt.xlabel('Number of Components')\n",
    "plt.ylabel('Cumulative Explained Variance')\n",
    "plt.grid()\n",
    "plt.axhline(y=0.99, color='r', linestyle='--', label='95% Variance Threshold')\n",
    "plt.legend()\n",
    "plt.show()\n",
    "\n",
    "# Step 5: Identify high variance components (based on cumulative variance threshold)\n",
    "threshold = 0.99  # Change this threshold if needed\n",
    "n_components_to_keep = np.argmax(np.cumsum(explained_variance) >= threshold) + 1\n",
    "print(f\"Number of components to keep for {threshold*100}% variance: {n_components_to_keep}\")\n",
    "\n",
    "# Step 6: Apply PCA again, keeping only the selected number of components\n",
    "pca_high_var = PCA(n_components=n_components_to_keep)\n",
    "X_high_var = pca_high_var.fit_transform(X_train_scaled)\n",
    "\n",
    "# Output the shape of the transformed data\n",
    "print(f\"Transformed shape with high variance features: {X_high_var.shape}\")\n"
   ]
  },
  {
   "cell_type": "code",
   "execution_count": null,
   "id": "7192ebbf",
   "metadata": {},
   "outputs": [],
   "source": []
  },
  {
   "cell_type": "code",
   "execution_count": null,
   "id": "5c734e62",
   "metadata": {},
   "outputs": [],
   "source": []
  },
  {
   "cell_type": "code",
   "execution_count": null,
   "id": "3f69be4e",
   "metadata": {},
   "outputs": [],
   "source": []
  },
  {
   "cell_type": "code",
   "execution_count": null,
   "id": "4be9b5df",
   "metadata": {},
   "outputs": [],
   "source": []
  }
 ],
 "metadata": {
  "kernelspec": {
   "display_name": "Python 3 (ipykernel)",
   "language": "python",
   "name": "python3"
  },
  "language_info": {
   "codemirror_mode": {
    "name": "ipython",
    "version": 3
   },
   "file_extension": ".py",
   "mimetype": "text/x-python",
   "name": "python",
   "nbconvert_exporter": "python",
   "pygments_lexer": "ipython3",
   "version": "3.9.12"
  }
 },
 "nbformat": 4,
 "nbformat_minor": 5
}
