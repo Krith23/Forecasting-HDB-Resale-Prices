{
 "cells": [
  {
   "cell_type": "code",
   "execution_count": 3,
   "id": "19c7496c",
   "metadata": {},
   "outputs": [
    {
     "name": "stderr",
     "output_type": "stream",
     "text": [
      "2024-10-02 15:32:50.859 WARNING streamlit.runtime.scriptrunner_utils.script_run_context: Thread 'MainThread': missing ScriptRunContext! This warning can be ignored when running in bare mode.\n",
      "2024-10-02 15:32:53.078 \n",
      "  \u001b[33m\u001b[1mWarning:\u001b[0m to view this Streamlit app on a browser, run it with the following\n",
      "  command:\n",
      "\n",
      "    streamlit run C:\\ProgramData\\Anaconda3\\lib\\site-packages\\ipykernel_launcher.py [ARGUMENTS]\n",
      "2024-10-02 15:32:53.081 Thread 'MainThread': missing ScriptRunContext! This warning can be ignored when running in bare mode.\n",
      "2024-10-02 15:32:53.083 Thread 'MainThread': missing ScriptRunContext! This warning can be ignored when running in bare mode.\n",
      "2024-10-02 15:32:53.085 Thread 'MainThread': missing ScriptRunContext! This warning can be ignored when running in bare mode.\n",
      "2024-10-02 15:32:53.087 Thread 'MainThread': missing ScriptRunContext! This warning can be ignored when running in bare mode.\n",
      "2024-10-02 15:32:53.089 Thread 'MainThread': missing ScriptRunContext! This warning can be ignored when running in bare mode.\n",
      "2024-10-02 15:32:53.091 Thread 'MainThread': missing ScriptRunContext! This warning can be ignored when running in bare mode.\n",
      "2024-10-02 15:32:53.093 Thread 'MainThread': missing ScriptRunContext! This warning can be ignored when running in bare mode.\n",
      "2024-10-02 15:32:53.095 Thread 'MainThread': missing ScriptRunContext! This warning can be ignored when running in bare mode.\n",
      "2024-10-02 15:32:53.099 Session state does not function when running a script without `streamlit run`\n",
      "2024-10-02 15:32:53.104 Thread 'MainThread': missing ScriptRunContext! This warning can be ignored when running in bare mode.\n",
      "2024-10-02 15:32:53.107 Thread 'MainThread': missing ScriptRunContext! This warning can be ignored when running in bare mode.\n",
      "2024-10-02 15:32:53.111 Thread 'MainThread': missing ScriptRunContext! This warning can be ignored when running in bare mode.\n",
      "2024-10-02 15:32:53.112 Thread 'MainThread': missing ScriptRunContext! This warning can be ignored when running in bare mode.\n",
      "2024-10-02 15:32:53.115 Thread 'MainThread': missing ScriptRunContext! This warning can be ignored when running in bare mode.\n",
      "2024-10-02 15:32:53.116 Thread 'MainThread': missing ScriptRunContext! This warning can be ignored when running in bare mode.\n",
      "2024-10-02 15:32:53.118 Thread 'MainThread': missing ScriptRunContext! This warning can be ignored when running in bare mode.\n",
      "2024-10-02 15:32:53.119 Thread 'MainThread': missing ScriptRunContext! This warning can be ignored when running in bare mode.\n",
      "2024-10-02 15:32:53.121 Thread 'MainThread': missing ScriptRunContext! This warning can be ignored when running in bare mode.\n",
      "2024-10-02 15:32:53.122 Thread 'MainThread': missing ScriptRunContext! This warning can be ignored when running in bare mode.\n",
      "2024-10-02 15:32:53.123 Thread 'MainThread': missing ScriptRunContext! This warning can be ignored when running in bare mode.\n",
      "2024-10-02 15:32:53.127 Thread 'MainThread': missing ScriptRunContext! This warning can be ignored when running in bare mode.\n",
      "2024-10-02 15:32:53.131 Thread 'MainThread': missing ScriptRunContext! This warning can be ignored when running in bare mode.\n",
      "2024-10-02 15:32:53.133 Thread 'MainThread': missing ScriptRunContext! This warning can be ignored when running in bare mode.\n",
      "2024-10-02 15:32:53.135 Thread 'MainThread': missing ScriptRunContext! This warning can be ignored when running in bare mode.\n",
      "2024-10-02 15:32:53.137 Thread 'MainThread': missing ScriptRunContext! This warning can be ignored when running in bare mode.\n",
      "2024-10-02 15:32:53.138 Thread 'MainThread': missing ScriptRunContext! This warning can be ignored when running in bare mode.\n",
      "2024-10-02 15:32:53.140 Thread 'MainThread': missing ScriptRunContext! This warning can be ignored when running in bare mode.\n",
      "2024-10-02 15:32:53.250 Thread 'MainThread': missing ScriptRunContext! This warning can be ignored when running in bare mode.\n",
      "2024-10-02 15:32:53.989 Thread 'MainThread': missing ScriptRunContext! This warning can be ignored when running in bare mode.\n",
      "2024-10-02 15:32:53.992 Thread 'MainThread': missing ScriptRunContext! This warning can be ignored when running in bare mode.\n"
     ]
    },
    {
     "data": {
      "text/plain": [
       "DeltaGenerator()"
      ]
     },
     "execution_count": 3,
     "metadata": {},
     "output_type": "execute_result"
    }
   ],
   "source": [
    "import streamlit as st\n",
    "import numpy as np\n",
    "import matplotlib.pyplot as plt\n",
    "\n",
    "# Title of the app\n",
    "st.title(\"HDB Resale Price Prediction\")\n",
    "\n",
    "# Description\n",
    "st.write(\"\"\"\n",
    "This app allows users to select details of an HDB flat, such as **Town**, **Flat Type**, and **Floor Area**. \n",
    "The prediction feature will return the estimated resale price based on the inputs (no actual prediction logic here).\n",
    "\"\"\")\n",
    "\n",
    "# User input for the town\n",
    "town = st.selectbox('Select Town:', \n",
    "                    ['Ang Mo Kio', 'Bedok', 'Bukit Batok', 'Bukit Merah', 'Bukit Panjang', \n",
    "                     'Bukit Timah', 'Central Area', 'Choa Chu Kang', 'Clementi', 'Geylang', \n",
    "                     'Hougang', 'Jurong East', 'Jurong West', 'Kallang/Whampoa', 'Marine Parade', \n",
    "                     'Pasir Ris', 'Punggol', 'Queenstown', 'Sembawang', 'Sengkang', \n",
    "                     'Serangoon', 'Tampines', 'Toa Payoh', 'Woodlands', 'Yishun'])\n",
    "\n",
    "# User input for flat type\n",
    "flat_type = st.selectbox('Select Flat Type:', \n",
    "                         ['1-room', '2-room', '3-room', '4-room', '5-room', 'Executive'])\n",
    "\n",
    "# User input for floor area\n",
    "floor_area = st.number_input('Floor Area (in square meters):', \n",
    "                             min_value=20, max_value=150, value=90, step=1)\n",
    "\n",
    "# Predict button (no actual model prediction)\n",
    "if st.button('Predict Resale Price'):\n",
    "    st.write(f\"Selected Town: {town}\")\n",
    "    st.write(f\"Selected Flat Type: {flat_type}\")\n",
    "    st.write(f\"Entered Floor Area: {floor_area} square meters\")\n",
    "    st.write(\"The predicted resale price would be displayed here.\")\n",
    "\n",
    "# Add an optional section for graphing resale price trends (Example Chart)\n",
    "st.subheader(\"Resale Price Trends (Example)\")\n",
    "\n",
    "# Example chart with dummy data\n",
    "years = np.arange(2010, 2024)\n",
    "prices = np.random.randint(200000, 800000, size=len(years))\n",
    "\n",
    "fig, ax = plt.subplots()\n",
    "ax.plot(years, prices, marker='o')\n",
    "ax.set_title(f\"Resale Price Trend in {town}\")\n",
    "ax.set_xlabel(\"Year\")\n",
    "ax.set_ylabel(\"Price ($)\")\n",
    "st.pyplot(fig)\n"
   ]
  },
  {
   "cell_type": "code",
   "execution_count": null,
   "id": "e6a5d493",
   "metadata": {},
   "outputs": [],
   "source": []
  }
 ],
 "metadata": {
  "kernelspec": {
   "display_name": "Python 3 (ipykernel)",
   "language": "python",
   "name": "python3"
  },
  "language_info": {
   "codemirror_mode": {
    "name": "ipython",
    "version": 3
   },
   "file_extension": ".py",
   "mimetype": "text/x-python",
   "name": "python",
   "nbconvert_exporter": "python",
   "pygments_lexer": "ipython3",
   "version": "3.9.12"
  }
 },
 "nbformat": 4,
 "nbformat_minor": 5
}
