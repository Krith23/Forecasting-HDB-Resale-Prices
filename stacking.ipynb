{
 "cells": [
  {
   "cell_type": "code",
   "execution_count": 1,
   "metadata": {
    "execution": {
     "iopub.execute_input": "2024-10-14T09:39:10.170729Z",
     "iopub.status.busy": "2024-10-14T09:39:10.170306Z",
     "iopub.status.idle": "2024-10-14T09:39:28.723149Z",
     "shell.execute_reply": "2024-10-14T09:39:28.721835Z",
     "shell.execute_reply.started": "2024-10-14T09:39:10.170678Z"
    }
   },
   "outputs": [
    {
     "name": "stdout",
     "output_type": "stream",
     "text": [
      "Collecting scikit-learn==1.5.2\n",
      "  Downloading scikit_learn-1.5.2-cp310-cp310-manylinux_2_17_x86_64.manylinux2014_x86_64.whl.metadata (13 kB)\n",
      "Requirement already satisfied: numpy>=1.19.5 in /opt/conda/lib/python3.10/site-packages (from scikit-learn==1.5.2) (1.26.4)\n",
      "Requirement already satisfied: scipy>=1.6.0 in /opt/conda/lib/python3.10/site-packages (from scikit-learn==1.5.2) (1.14.1)\n",
      "Requirement already satisfied: joblib>=1.2.0 in /opt/conda/lib/python3.10/site-packages (from scikit-learn==1.5.2) (1.4.2)\n",
      "Requirement already satisfied: threadpoolctl>=3.1.0 in /opt/conda/lib/python3.10/site-packages (from scikit-learn==1.5.2) (3.5.0)\n",
      "Downloading scikit_learn-1.5.2-cp310-cp310-manylinux_2_17_x86_64.manylinux2014_x86_64.whl (13.3 MB)\n",
      "\u001b[2K   \u001b[90m━━━━━━━━━━━━━━━━━━━━━━━━━━━━━━━━━━━━━━━━\u001b[0m \u001b[32m13.3/13.3 MB\u001b[0m \u001b[31m75.6 MB/s\u001b[0m eta \u001b[36m0:00:00\u001b[0m:00:01\u001b[0m00:01\u001b[0m\n",
      "\u001b[?25hInstalling collected packages: scikit-learn\n",
      "  Attempting uninstall: scikit-learn\n",
      "    Found existing installation: scikit-learn 1.2.2\n",
      "    Uninstalling scikit-learn-1.2.2:\n",
      "      Successfully uninstalled scikit-learn-1.2.2\n",
      "\u001b[31mERROR: pip's dependency resolver does not currently take into account all the packages that are installed. This behaviour is the source of the following dependency conflicts.\n",
      "bigframes 0.22.0 requires google-cloud-bigquery[bqstorage,pandas]>=3.10.0, but you have google-cloud-bigquery 2.34.4 which is incompatible.\n",
      "bigframes 0.22.0 requires google-cloud-storage>=2.0.0, but you have google-cloud-storage 1.44.0 which is incompatible.\n",
      "bigframes 0.22.0 requires pandas<2.1.4,>=1.5.0, but you have pandas 2.2.3 which is incompatible.\n",
      "cesium 0.12.3 requires numpy<3.0,>=2.0, but you have numpy 1.26.4 which is incompatible.\n",
      "dataproc-jupyter-plugin 0.1.79 requires pydantic~=1.10.0, but you have pydantic 2.9.2 which is incompatible.\u001b[0m\u001b[31m\n",
      "\u001b[0mSuccessfully installed scikit-learn-1.5.2\n",
      "Note: you may need to restart the kernel to use updated packages.\n"
     ]
    }
   ],
   "source": [
    "pip install scikit-learn==1.5.2"
   ]
  },
  {
   "cell_type": "code",
   "execution_count": 2,
   "metadata": {
    "execution": {
     "iopub.execute_input": "2024-10-14T09:39:28.725643Z",
     "iopub.status.busy": "2024-10-14T09:39:28.725248Z",
     "iopub.status.idle": "2024-10-14T09:39:39.575516Z",
     "shell.execute_reply": "2024-10-14T09:39:39.574120Z",
     "shell.execute_reply.started": "2024-10-14T09:39:28.725599Z"
    }
   },
   "outputs": [
    {
     "name": "stdout",
     "output_type": "stream",
     "text": [
      "Name: scikit-learn\n",
      "Version: 1.5.2\n",
      "Summary: A set of python modules for machine learning and data mining\n",
      "Home-page: https://scikit-learn.org\n",
      "Author: \n",
      "Author-email: \n",
      "License: BSD 3-Clause License\n",
      "        \n",
      "        Copyright (c) 2007-2024 The scikit-learn developers.\n",
      "        All rights reserved.\n",
      "        \n",
      "        Redistribution and use in source and binary forms, with or without\n",
      "        modification, are permitted provided that the following conditions are met:\n",
      "        \n",
      "        * Redistributions of source code must retain the above copyright notice, this\n",
      "          list of conditions and the following disclaimer.\n",
      "        \n",
      "        * Redistributions in binary form must reproduce the above copyright notice,\n",
      "          this list of conditions and the following disclaimer in the documentation\n",
      "          and/or other materials provided with the distribution.\n",
      "        \n",
      "        * Neither the name of the copyright holder nor the names of its\n",
      "          contributors may be used to endorse or promote products derived from\n",
      "          this software without specific prior written permission.\n",
      "        \n",
      "        THIS SOFTWARE IS PROVIDED BY THE COPYRIGHT HOLDERS AND CONTRIBUTORS \"AS IS\"\n",
      "        AND ANY EXPRESS OR IMPLIED WARRANTIES, INCLUDING, BUT NOT LIMITED TO, THE\n",
      "        IMPLIED WARRANTIES OF MERCHANTABILITY AND FITNESS FOR A PARTICULAR PURPOSE ARE\n",
      "        DISCLAIMED. IN NO EVENT SHALL THE COPYRIGHT HOLDER OR CONTRIBUTORS BE LIABLE\n",
      "        FOR ANY DIRECT, INDIRECT, INCIDENTAL, SPECIAL, EXEMPLARY, OR CONSEQUENTIAL\n",
      "        DAMAGES (INCLUDING, BUT NOT LIMITED TO, PROCUREMENT OF SUBSTITUTE GOODS OR\n",
      "        SERVICES; LOSS OF USE, DATA, OR PROFITS; OR BUSINESS INTERRUPTION) HOWEVER\n",
      "        CAUSED AND ON ANY THEORY OF LIABILITY, WHETHER IN CONTRACT, STRICT LIABILITY,\n",
      "        OR TORT (INCLUDING NEGLIGENCE OR OTHERWISE) ARISING IN ANY WAY OUT OF THE USE\n",
      "        OF THIS SOFTWARE, EVEN IF ADVISED OF THE POSSIBILITY OF SUCH DAMAGE.\n",
      "Location: /opt/conda/lib/python3.10/site-packages\n",
      "Requires: joblib, numpy, scipy, threadpoolctl\n",
      "Required-by: bayesian-optimization, bigframes, Boruta, category-encoders, cesium, eli5, fastai, hep-ml, imbalanced-learn, librosa, lime, mlxtend, nilearn, pyLDAvis, rgf-python, scikit-learn-intelex, scikit-optimize, scikit-plot, shap, sklearn-pandas, TPOT, tsfresh, woodwork, yellowbrick\n",
      "Note: you may need to restart the kernel to use updated packages.\n"
     ]
    }
   ],
   "source": [
    "pip show scikit-learn"
   ]
  },
  {
   "cell_type": "code",
   "execution_count": 3,
   "metadata": {
    "execution": {
     "iopub.execute_input": "2024-10-14T09:39:39.577844Z",
     "iopub.status.busy": "2024-10-14T09:39:39.577339Z",
     "iopub.status.idle": "2024-10-14T09:39:40.934906Z",
     "shell.execute_reply": "2024-10-14T09:39:40.933756Z",
     "shell.execute_reply.started": "2024-10-14T09:39:39.577769Z"
    }
   },
   "outputs": [],
   "source": [
    "import pandas as pd\n",
    "import numpy as np\n",
    "from sklearn.linear_model import LinearRegression\n",
    "from sklearn.model_selection import train_test_split\n",
    "from sklearn.preprocessing import StandardScaler, LabelEncoder\n",
    "from sklearn.metrics import mean_absolute_error, mean_squared_error, r2_score\n",
    "\n",
    "\n",
    "from sklearn.tree import DecisionTreeRegressor\n",
    "from sklearn.ensemble import RandomForestRegressor, GradientBoostingRegressor\n",
    "from xgboost import XGBRegressor\n",
    "from sklearn.neighbors import KNeighborsRegressor\n",
    "from sklearn.linear_model import LinearRegression, Lasso, Ridge\n",
    "from sklearn.metrics import mean_squared_error, r2_score, mean_absolute_error"
   ]
  },
  {
   "cell_type": "code",
   "execution_count": 4,
   "metadata": {
    "execution": {
     "iopub.execute_input": "2024-10-14T09:39:40.937631Z",
     "iopub.status.busy": "2024-10-14T09:39:40.937098Z",
     "iopub.status.idle": "2024-10-14T09:39:51.185990Z",
     "shell.execute_reply": "2024-10-14T09:39:51.184875Z",
     "shell.execute_reply.started": "2024-10-14T09:39:40.937589Z"
    }
   },
   "outputs": [],
   "source": [
    "hdb_df = pd.read_csv('/kaggle/input/hdb-dataset/hdb_combined_clean.csv', low_memory=False)"
   ]
  },
  {
   "cell_type": "code",
   "execution_count": 3,
   "metadata": {
    "execution": {
     "iopub.execute_input": "2024-10-10T18:07:07.173045Z",
     "iopub.status.busy": "2024-10-10T18:07:07.172495Z",
     "iopub.status.idle": "2024-10-10T18:07:07.243768Z",
     "shell.execute_reply": "2024-10-10T18:07:07.242276Z",
     "shell.execute_reply.started": "2024-10-10T18:07:07.172991Z"
    }
   },
   "outputs": [
    {
     "data": {
      "text/plain": [
       "count    9.173930e+05\n",
       "mean     3.185476e+05\n",
       "std      1.684311e+05\n",
       "min      5.000000e+03\n",
       "25%      1.920000e+05\n",
       "50%      2.950000e+05\n",
       "75%      4.150000e+05\n",
       "max      1.568888e+06\n",
       "Name: resale_price, dtype: float64"
      ]
     },
     "execution_count": 3,
     "metadata": {},
     "output_type": "execute_result"
    }
   ],
   "source": [
    "hdb_df['resale_price'].describe()"
   ]
  },
  {
   "cell_type": "code",
   "execution_count": 5,
   "metadata": {
    "execution": {
     "iopub.execute_input": "2024-10-14T09:39:51.188135Z",
     "iopub.status.busy": "2024-10-14T09:39:51.187741Z",
     "iopub.status.idle": "2024-10-14T09:39:51.745472Z",
     "shell.execute_reply": "2024-10-14T09:39:51.744426Z",
     "shell.execute_reply.started": "2024-10-14T09:39:51.188096Z"
    }
   },
   "outputs": [],
   "source": [
    "# Convert categorical columns to numerical\n",
    "categorical_cols = ['town', 'flat_model', 'flat_type']  # Replace with relevant column names\n",
    "df_encoded = pd.get_dummies(hdb_df, columns=categorical_cols, drop_first=True)"
   ]
  },
  {
   "cell_type": "code",
   "execution_count": 6,
   "metadata": {
    "execution": {
     "iopub.execute_input": "2024-10-14T09:39:51.747302Z",
     "iopub.status.busy": "2024-10-14T09:39:51.746846Z",
     "iopub.status.idle": "2024-10-14T09:39:51.839325Z",
     "shell.execute_reply": "2024-10-14T09:39:51.838357Z",
     "shell.execute_reply.started": "2024-10-14T09:39:51.747256Z"
    }
   },
   "outputs": [],
   "source": [
    "df_encoded.drop(['month_of_sale', 'block', 'street_name', 'storey_range', 'lease_commence_date', 'address',\n",
    "             'latitude', 'longitude','price_per_sqm'],\n",
    "            axis=1, inplace=True)"
   ]
  },
  {
   "cell_type": "code",
   "execution_count": 7,
   "metadata": {
    "execution": {
     "iopub.execute_input": "2024-10-14T09:39:51.841455Z",
     "iopub.status.busy": "2024-10-14T09:39:51.841110Z",
     "iopub.status.idle": "2024-10-14T09:39:53.127427Z",
     "shell.execute_reply": "2024-10-14T09:39:53.126276Z",
     "shell.execute_reply.started": "2024-10-14T09:39:51.841420Z"
    }
   },
   "outputs": [],
   "source": [
    "df_encoded = df_encoded.drop_duplicates()"
   ]
  },
  {
   "cell_type": "code",
   "execution_count": 8,
   "metadata": {
    "execution": {
     "iopub.execute_input": "2024-10-14T09:39:53.129349Z",
     "iopub.status.busy": "2024-10-14T09:39:53.128890Z",
     "iopub.status.idle": "2024-10-14T09:39:53.211051Z",
     "shell.execute_reply": "2024-10-14T09:39:53.209863Z",
     "shell.execute_reply.started": "2024-10-14T09:39:53.129299Z"
    }
   },
   "outputs": [
    {
     "name": "stdout",
     "output_type": "stream",
     "text": [
      "<class 'pandas.core.frame.DataFrame'>\n",
      "Index: 906790 entries, 0 to 917392\n",
      "Data columns (total 62 columns):\n",
      " #   Column                             Non-Null Count   Dtype  \n",
      "---  ------                             --------------   -----  \n",
      " 0   floor_area_sqm                     906790 non-null  float64\n",
      " 1   resale_price                       906790 non-null  float64\n",
      " 2   nearest_supermarket_distance       906790 non-null  float64\n",
      " 3   nearest_school_distance            906790 non-null  float64\n",
      " 4   nearest_mrt_distance               906790 non-null  float64\n",
      " 5   nearest_hawkers_distance           906790 non-null  float64\n",
      " 6   cbd_distance                       906790 non-null  float64\n",
      " 7   year_of_sale                       906790 non-null  int64  \n",
      " 8   calculated_remaining_lease         906790 non-null  float64\n",
      " 9   storey_median                      906790 non-null  int64  \n",
      " 10  town_BEDOK                         906790 non-null  bool   \n",
      " 11  town_BISHAN                        906790 non-null  bool   \n",
      " 12  town_BUKIT BATOK                   906790 non-null  bool   \n",
      " 13  town_BUKIT MERAH                   906790 non-null  bool   \n",
      " 14  town_BUKIT PANJANG                 906790 non-null  bool   \n",
      " 15  town_BUKIT TIMAH                   906790 non-null  bool   \n",
      " 16  town_CENTRAL AREA                  906790 non-null  bool   \n",
      " 17  town_CHOA CHU KANG                 906790 non-null  bool   \n",
      " 18  town_CLEMENTI                      906790 non-null  bool   \n",
      " 19  town_GEYLANG                       906790 non-null  bool   \n",
      " 20  town_HOUGANG                       906790 non-null  bool   \n",
      " 21  town_JURONG EAST                   906790 non-null  bool   \n",
      " 22  town_JURONG WEST                   906790 non-null  bool   \n",
      " 23  town_KALLANG/WHAMPOA               906790 non-null  bool   \n",
      " 24  town_LIM CHU KANG                  906790 non-null  bool   \n",
      " 25  town_MARINE PARADE                 906790 non-null  bool   \n",
      " 26  town_PASIR RIS                     906790 non-null  bool   \n",
      " 27  town_PUNGGOL                       906790 non-null  bool   \n",
      " 28  town_QUEENSTOWN                    906790 non-null  bool   \n",
      " 29  town_SEMBAWANG                     906790 non-null  bool   \n",
      " 30  town_SENGKANG                      906790 non-null  bool   \n",
      " 31  town_SERANGOON                     906790 non-null  bool   \n",
      " 32  town_TAMPINES                      906790 non-null  bool   \n",
      " 33  town_TOA PAYOH                     906790 non-null  bool   \n",
      " 34  town_WOODLANDS                     906790 non-null  bool   \n",
      " 35  town_YISHUN                        906790 non-null  bool   \n",
      " 36  flat_model_3Gen                    906790 non-null  bool   \n",
      " 37  flat_model_Adjoined flat           906790 non-null  bool   \n",
      " 38  flat_model_Apartment               906790 non-null  bool   \n",
      " 39  flat_model_DBSS                    906790 non-null  bool   \n",
      " 40  flat_model_Improved                906790 non-null  bool   \n",
      " 41  flat_model_Improved-Maisonette     906790 non-null  bool   \n",
      " 42  flat_model_Maisonette              906790 non-null  bool   \n",
      " 43  flat_model_Model A                 906790 non-null  bool   \n",
      " 44  flat_model_Model A-Maisonette      906790 non-null  bool   \n",
      " 45  flat_model_Model A2                906790 non-null  bool   \n",
      " 46  flat_model_Multi Generation        906790 non-null  bool   \n",
      " 47  flat_model_New Generation          906790 non-null  bool   \n",
      " 48  flat_model_Premium Apartment       906790 non-null  bool   \n",
      " 49  flat_model_Premium Apartment Loft  906790 non-null  bool   \n",
      " 50  flat_model_Premium Maisonette      906790 non-null  bool   \n",
      " 51  flat_model_Simplified              906790 non-null  bool   \n",
      " 52  flat_model_Standard                906790 non-null  bool   \n",
      " 53  flat_model_Terrace                 906790 non-null  bool   \n",
      " 54  flat_model_Type S1                 906790 non-null  bool   \n",
      " 55  flat_model_Type S2                 906790 non-null  bool   \n",
      " 56  flat_type_2 ROOM                   906790 non-null  bool   \n",
      " 57  flat_type_3 ROOM                   906790 non-null  bool   \n",
      " 58  flat_type_4 ROOM                   906790 non-null  bool   \n",
      " 59  flat_type_5 ROOM                   906790 non-null  bool   \n",
      " 60  flat_type_EXECUTIVE                906790 non-null  bool   \n",
      " 61  flat_type_MULTI GENERATION         906790 non-null  bool   \n",
      "dtypes: bool(52), float64(8), int64(2)\n",
      "memory usage: 121.1 MB\n"
     ]
    }
   ],
   "source": [
    "df_encoded.info()"
   ]
  },
  {
   "cell_type": "code",
   "execution_count": 48,
   "metadata": {
    "execution": {
     "iopub.execute_input": "2024-10-10T16:28:47.945154Z",
     "iopub.status.busy": "2024-10-10T16:28:47.943949Z",
     "iopub.status.idle": "2024-10-10T16:28:47.952239Z",
     "shell.execute_reply": "2024-10-10T16:28:47.950455Z",
     "shell.execute_reply.started": "2024-10-10T16:28:47.945101Z"
    }
   },
   "outputs": [
    {
     "name": "stdout",
     "output_type": "stream",
     "text": [
      "['floor_area_sqm', 'resale_price', 'nearest_supermarket_distance', 'nearest_school_distance', 'nearest_mrt_distance', 'nearest_hawkers_distance', 'cbd_distance', 'year_of_sale', 'calculated_remaining_lease', 'storey_median', 'town_BEDOK', 'town_BISHAN', 'town_BUKIT BATOK', 'town_BUKIT MERAH', 'town_BUKIT PANJANG', 'town_BUKIT TIMAH', 'town_CENTRAL AREA', 'town_CHOA CHU KANG', 'town_CLEMENTI', 'town_GEYLANG', 'town_HOUGANG', 'town_JURONG EAST', 'town_JURONG WEST', 'town_KALLANG/WHAMPOA', 'town_LIM CHU KANG', 'town_MARINE PARADE', 'town_PASIR RIS', 'town_PUNGGOL', 'town_QUEENSTOWN', 'town_SEMBAWANG', 'town_SENGKANG', 'town_SERANGOON', 'town_TAMPINES', 'town_TOA PAYOH', 'town_WOODLANDS', 'town_YISHUN', 'flat_model_3Gen', 'flat_model_Adjoined flat', 'flat_model_Apartment', 'flat_model_DBSS', 'flat_model_Improved', 'flat_model_Improved-Maisonette', 'flat_model_Maisonette', 'flat_model_Model A', 'flat_model_Model A-Maisonette', 'flat_model_Model A2', 'flat_model_Multi Generation', 'flat_model_New Generation', 'flat_model_Premium Apartment', 'flat_model_Premium Apartment Loft', 'flat_model_Premium Maisonette', 'flat_model_Simplified', 'flat_model_Standard', 'flat_model_Terrace', 'flat_model_Type S1', 'flat_model_Type S2', 'flat_type_2 ROOM', 'flat_type_3 ROOM', 'flat_type_4 ROOM', 'flat_type_5 ROOM', 'flat_type_EXECUTIVE', 'flat_type_MULTI GENERATION']\n"
     ]
    }
   ],
   "source": [
    "column_names = df_encoded.columns.tolist()\n",
    "print(column_names)"
   ]
  },
  {
   "cell_type": "code",
   "execution_count": 11,
   "metadata": {
    "execution": {
     "iopub.execute_input": "2024-10-10T14:07:17.641495Z",
     "iopub.status.busy": "2024-10-10T14:07:17.640824Z",
     "iopub.status.idle": "2024-10-10T14:07:17.650900Z",
     "shell.execute_reply": "2024-10-10T14:07:17.648964Z",
     "shell.execute_reply.started": "2024-10-10T14:07:17.641445Z"
    }
   },
   "outputs": [],
   "source": [
    "# # Create a dictionary to assign specific weights to each town\n",
    "# town_encoding = {\n",
    "#     'TAMPINES': 1, 'YISHUN': 2, 'BEDOK': 3, 'JURONG WEST': 4, \n",
    "#     'WOODLANDS': 5, 'ANG MO KIO': 6, 'HOUGANG': 7, 'BUKIT BATOK': 8, \n",
    "#     'CHOA CHU KANG': 9, 'BUKIT MERAH': 10, 'PASIR RIS': 11, \n",
    "#     'SENGKANG': 12, 'TOA PAYOH': 13, 'QUEENSTOWN': 14, \n",
    "#     'GEYLANG': 15, 'CLEMENTI': 16, 'BUKIT PANJANG': 17, 'KALLANG/WHAMPOA': 18,\n",
    "#     'JURONG EAST': 19, 'SERANGOON': 20, 'BISHAN': 21, \n",
    "#     'PUNGGOL': 22, 'SEMBAWANG': 23, 'MARINE PARADE': 24, \n",
    "#     'CENTRAL AREA': 25, 'BUKIT TIMAH': 26, 'LIM CHU KANG': 27\n",
    "# }\n",
    "\n",
    "# # Create a dictionary to assign specific weights to each flat type\n",
    "# flat_type_encoding = {\n",
    "#     '1 ROOM': 1,\n",
    "#     '2 ROOM': 2,\n",
    "#     '3 ROOM': 3,\n",
    "#     '4 ROOM': 4,\n",
    "#     '5 ROOM': 5,\n",
    "#     'EXECUTIVE': 6,\n",
    "#     'MULTI GENERATION': 7,\n",
    "# }\n",
    "\n",
    "# # Create a dictionary to assign specific weights to each flat model\n",
    "# flat_model_encoding = {\n",
    "#     'Model A': 1,\n",
    "#     'Improved': 2,\n",
    "#     'New Generation': 3,\n",
    "#     'Simplified': 4,\n",
    "#     'Premium Apartment': 5,\n",
    "#     'Standard': 6,\n",
    "#     'Apartment': 7,\n",
    "#     'Maisonette': 8,\n",
    "#     'Model A2': 9,\n",
    "#     'DBSS': 10,\n",
    "#     'Model A-Maisonette': 11,\n",
    "#     'Adjoined flat': 12,\n",
    "#     'Terrace': 13,\n",
    "#     'Multi Generation': 14,\n",
    "#     'Type S1': 15,\n",
    "#     'Type S2': 16,\n",
    "#     'Improved-Maisonette': 17,\n",
    "#     '2-Room': 18,\n",
    "#     'Premium Apartment Loft': 19,\n",
    "#     'Premium Maisonette': 20,\n",
    "#     '3Gen': 21,\n",
    "# }\n",
    "\n",
    "# # Apply encoding to the DataFrame using the created dictionaries\n",
    "# hdb_df['town'] = hdb_df['town'].map(town_encoding)\n",
    "# hdb_df['flat_type'] = hdb_df['flat_type'].map(flat_type_encoding)\n",
    "# hdb_df['flat_model'] = hdb_df['flat_model'].map(flat_model_encoding)\n"
   ]
  },
  {
   "cell_type": "code",
   "execution_count": 12,
   "metadata": {
    "execution": {
     "iopub.execute_input": "2024-10-10T14:07:17.653247Z",
     "iopub.status.busy": "2024-10-10T14:07:17.652664Z",
     "iopub.status.idle": "2024-10-10T14:07:17.674556Z",
     "shell.execute_reply": "2024-10-10T14:07:17.672713Z",
     "shell.execute_reply.started": "2024-10-10T14:07:17.653188Z"
    }
   },
   "outputs": [],
   "source": [
    "# hdb_df.drop(['month_of_sale', 'block', 'street_name', 'storey_range', 'lease_commence_date', 'address',\n",
    "#              'latitude', 'longitude', 'price_per_sqm'],\n",
    "#             axis=1, inplace=True)"
   ]
  },
  {
   "cell_type": "code",
   "execution_count": 13,
   "metadata": {
    "execution": {
     "iopub.execute_input": "2024-10-10T14:07:17.676874Z",
     "iopub.status.busy": "2024-10-10T14:07:17.676423Z",
     "iopub.status.idle": "2024-10-10T14:07:17.696454Z",
     "shell.execute_reply": "2024-10-10T14:07:17.694194Z",
     "shell.execute_reply.started": "2024-10-10T14:07:17.676831Z"
    }
   },
   "outputs": [],
   "source": [
    "# hdb_df = hdb_df.drop_duplicates()"
   ]
  },
  {
   "cell_type": "code",
   "execution_count": 14,
   "metadata": {
    "execution": {
     "iopub.execute_input": "2024-10-10T14:07:17.699917Z",
     "iopub.status.busy": "2024-10-10T14:07:17.698553Z",
     "iopub.status.idle": "2024-10-10T14:07:17.719462Z",
     "shell.execute_reply": "2024-10-10T14:07:17.718018Z",
     "shell.execute_reply.started": "2024-10-10T14:07:17.699864Z"
    }
   },
   "outputs": [],
   "source": [
    "# hdb_df.head()"
   ]
  },
  {
   "cell_type": "code",
   "execution_count": 9,
   "metadata": {
    "execution": {
     "iopub.execute_input": "2024-10-14T09:39:55.675928Z",
     "iopub.status.busy": "2024-10-14T09:39:55.675485Z",
     "iopub.status.idle": "2024-10-14T09:39:59.060951Z",
     "shell.execute_reply": "2024-10-14T09:39:59.059539Z",
     "shell.execute_reply.started": "2024-10-14T09:39:55.675889Z"
    }
   },
   "outputs": [],
   "source": [
    "# Split features and target \n",
    "X = df_encoded.drop(columns=['resale_price'])\n",
    "y = df_encoded['resale_price']\n",
    "\n",
    "# Train-test split (80-20)\n",
    "X_train, X_test, y_train, y_test = train_test_split(X, y, test_size=0.2, random_state=42)\n",
    "\n",
    "# Scaling features \n",
    "scaler = StandardScaler()\n",
    "X_train_scaled = scaler.fit_transform(X_train)\n",
    "X_test_scaled = scaler.transform(X_test)\n"
   ]
  },
  {
   "cell_type": "code",
   "execution_count": 10,
   "metadata": {
    "execution": {
     "iopub.execute_input": "2024-10-14T09:39:59.737757Z",
     "iopub.status.busy": "2024-10-14T09:39:59.737338Z",
     "iopub.status.idle": "2024-10-14T09:39:59.748693Z",
     "shell.execute_reply": "2024-10-14T09:39:59.747398Z",
     "shell.execute_reply.started": "2024-10-14T09:39:59.737718Z"
    }
   },
   "outputs": [
    {
     "data": {
      "text/plain": [
       "['scaler.pkl']"
      ]
     },
     "execution_count": 10,
     "metadata": {},
     "output_type": "execute_result"
    }
   ],
   "source": [
    "import joblib \n",
    "joblib.dump(scaler, 'scaler.pkl')"
   ]
  },
  {
   "cell_type": "code",
   "execution_count": 16,
   "metadata": {
    "execution": {
     "iopub.execute_input": "2024-10-10T14:07:22.101878Z",
     "iopub.status.busy": "2024-10-10T14:07:22.101307Z",
     "iopub.status.idle": "2024-10-10T14:07:22.108863Z",
     "shell.execute_reply": "2024-10-10T14:07:22.107323Z",
     "shell.execute_reply.started": "2024-10-10T14:07:22.101819Z"
    }
   },
   "outputs": [],
   "source": [
    "# from sklearn.tree import DecisionTreeRegressor\n",
    "# from sklearn.ensemble import RandomForestRegressor, GradientBoostingRegressor\n",
    "# from xgboost import XGBRegressor\n",
    "# from sklearn.neighbors import KNeighborsRegressor\n",
    "\n",
    "# # Train the base models\n",
    "# dt = DecisionTreeRegressor(random_state=42)\n",
    "# dt.fit(X_train_scaled, y_train)\n",
    "\n",
    "# rf = RandomForestRegressor(n_estimators=200, max_depth=10, random_state=42)\n",
    "# rf.fit(X_train_scaled, y_train)\n",
    "\n",
    "# gb = GradientBoostingRegressor(random_state=42)\n",
    "# gb.fit(X_train_scaled, y_train)\n",
    "\n",
    "# xgb = XGBRegressor(n_estimators=200, max_depth=10, random_state=42)\n",
    "# xgb.fit(X_train_scaled, y_train)\n",
    "\n",
    "# lr = LinearRegression()  \n",
    "# lr.fit(X_train_scaled, y_train)\n"
   ]
  },
  {
   "cell_type": "code",
   "execution_count": 17,
   "metadata": {
    "execution": {
     "iopub.execute_input": "2024-10-10T14:07:22.111307Z",
     "iopub.status.busy": "2024-10-10T14:07:22.110788Z",
     "iopub.status.idle": "2024-10-10T14:07:24.738898Z",
     "shell.execute_reply": "2024-10-10T14:07:24.736890Z",
     "shell.execute_reply.started": "2024-10-10T14:07:22.111253Z"
    }
   },
   "outputs": [
    {
     "name": "stdout",
     "output_type": "stream",
     "text": [
      "Linear Regression:\n",
      "  R²: 0.8425\n",
      "  RMSE: 66542.9542\n",
      "  MAE: 51333.8286\n",
      "\n"
     ]
    }
   ],
   "source": [
    "# Linear Regression\n",
    "lr = LinearRegression()\n",
    "lr.fit(X_train_scaled, y_train)\n",
    "lr_pred = lr.predict(X_test_scaled)\n",
    "print(\"Linear Regression:\")\n",
    "print(f\"  R²: {r2_score(y_test, lr_pred):.4f}\")\n",
    "print(f\"  RMSE: {np.sqrt(mean_squared_error(y_test, lr_pred)):.4f}\")\n",
    "print(f\"  MAE: {mean_absolute_error(y_test, lr_pred):.4f}\\n\")"
   ]
  },
  {
   "cell_type": "code",
   "execution_count": 18,
   "metadata": {
    "execution": {
     "iopub.execute_input": "2024-10-10T14:07:24.743990Z",
     "iopub.status.busy": "2024-10-10T14:07:24.742164Z",
     "iopub.status.idle": "2024-10-10T14:07:41.049820Z",
     "shell.execute_reply": "2024-10-10T14:07:41.048207Z",
     "shell.execute_reply.started": "2024-10-10T14:07:24.743934Z"
    }
   },
   "outputs": [
    {
     "name": "stdout",
     "output_type": "stream",
     "text": [
      "Decision Tree:\n",
      "  R²: 0.9666\n",
      "  RMSE: 30665.4512\n",
      "  MAE: 21211.6002\n",
      "\n"
     ]
    }
   ],
   "source": [
    "# Decision Tree Regressor\n",
    "dt = DecisionTreeRegressor(random_state=42)\n",
    "dt.fit(X_train_scaled, y_train)\n",
    "dt_pred = dt.predict(X_test_scaled)\n",
    "print(\"Decision Tree:\")\n",
    "print(f\"  R²: {r2_score(y_test, dt_pred):.4f}\")\n",
    "print(f\"  RMSE: {np.sqrt(mean_squared_error(y_test, dt_pred)):.4f}\")\n",
    "print(f\"  MAE: {mean_absolute_error(y_test, dt_pred):.4f}\\n\")"
   ]
  },
  {
   "cell_type": "code",
   "execution_count": 19,
   "metadata": {
    "execution": {
     "iopub.execute_input": "2024-10-10T14:07:41.052065Z",
     "iopub.status.busy": "2024-10-10T14:07:41.051632Z",
     "iopub.status.idle": "2024-10-10T14:26:24.579519Z",
     "shell.execute_reply": "2024-10-10T14:26:24.578157Z",
     "shell.execute_reply.started": "2024-10-10T14:07:41.052023Z"
    }
   },
   "outputs": [
    {
     "name": "stdout",
     "output_type": "stream",
     "text": [
      "Random Forest:\n",
      "  R²: 0.9439\n",
      "  RMSE: 39721.8921\n",
      "  MAE: 28399.5750\n",
      "\n"
     ]
    }
   ],
   "source": [
    "# Random Forest Regressor\n",
    "rf = RandomForestRegressor(n_estimators=200, max_depth=10, random_state=42)\n",
    "rf.fit(X_train_scaled, y_train)\n",
    "rf_pred = rf.predict(X_test_scaled)\n",
    "print(\"Random Forest:\")\n",
    "print(f\"  R²: {r2_score(y_test, rf_pred):.4f}\")\n",
    "print(f\"  RMSE: {np.sqrt(mean_squared_error(y_test, rf_pred)):.4f}\")\n",
    "print(f\"  MAE: {mean_absolute_error(y_test, rf_pred):.4f}\\n\")"
   ]
  },
  {
   "cell_type": "code",
   "execution_count": 20,
   "metadata": {
    "execution": {
     "iopub.execute_input": "2024-10-10T14:26:24.582868Z",
     "iopub.status.busy": "2024-10-10T14:26:24.581524Z",
     "iopub.status.idle": "2024-10-10T14:31:04.731054Z",
     "shell.execute_reply": "2024-10-10T14:31:04.729672Z",
     "shell.execute_reply.started": "2024-10-10T14:26:24.582808Z"
    }
   },
   "outputs": [
    {
     "name": "stdout",
     "output_type": "stream",
     "text": [
      "Gradient Boosting:\n",
      "  R²: 0.9422\n",
      "  RMSE: 40315.7797\n",
      "  MAE: 28810.7243\n",
      "\n"
     ]
    }
   ],
   "source": [
    "# Gradient Boosting Regressor\n",
    "gb = GradientBoostingRegressor(random_state=42)\n",
    "gb.fit(X_train_scaled, y_train)\n",
    "gb_pred = gb.predict(X_test_scaled)\n",
    "print(\"Gradient Boosting:\")\n",
    "print(f\"  R²: {r2_score(y_test, gb_pred):.4f}\")\n",
    "print(f\"  RMSE: {np.sqrt(mean_squared_error(y_test, gb_pred)):.4f}\")\n",
    "print(f\"  MAE: {mean_absolute_error(y_test, gb_pred):.4f}\\n\")"
   ]
  },
  {
   "cell_type": "code",
   "execution_count": 57,
   "metadata": {
    "execution": {
     "iopub.execute_input": "2024-10-10T16:54:36.593213Z",
     "iopub.status.busy": "2024-10-10T16:54:36.592730Z",
     "iopub.status.idle": "2024-10-10T16:55:13.766994Z",
     "shell.execute_reply": "2024-10-10T16:55:13.765812Z",
     "shell.execute_reply.started": "2024-10-10T16:54:36.593165Z"
    }
   },
   "outputs": [
    {
     "name": "stdout",
     "output_type": "stream",
     "text": [
      "XGBoost:\n",
      "  R²: 0.9823\n",
      "  RMSE: 22320.5990\n",
      "  MAE: 15880.0863\n",
      "\n"
     ]
    }
   ],
   "source": [
    "# XGBoost Regressor\n",
    "xgb = XGBRegressor(n_estimators=200, max_depth=10, random_state=42)\n",
    "xgb.fit(X_train_scaled, y_train)\n",
    "xgb_pred = xgb.predict(X_test_scaled)\n",
    "print(\"XGBoost:\")\n",
    "print(f\"  R²: {r2_score(y_test, xgb_pred):.4f}\")\n",
    "print(f\"  RMSE: {np.sqrt(mean_squared_error(y_test, xgb_pred)):.4f}\")\n",
    "print(f\"  MAE: {mean_absolute_error(y_test, xgb_pred):.4f}\\n\")"
   ]
  },
  {
   "cell_type": "code",
   "execution_count": 22,
   "metadata": {
    "execution": {
     "iopub.execute_input": "2024-10-10T14:31:38.596514Z",
     "iopub.status.busy": "2024-10-10T14:31:38.595344Z",
     "iopub.status.idle": "2024-10-10T14:41:51.766387Z",
     "shell.execute_reply": "2024-10-10T14:41:51.765119Z",
     "shell.execute_reply.started": "2024-10-10T14:31:38.596458Z"
    }
   },
   "outputs": [
    {
     "name": "stdout",
     "output_type": "stream",
     "text": [
      "K-Nearest Neighbors:\n",
      "  R²: 0.9485\n",
      "  RMSE: 38033.9708\n",
      "  MAE: 26798.0806\n",
      "\n"
     ]
    }
   ],
   "source": [
    "# K-Nearest Neighbors\n",
    "knn = KNeighborsRegressor()\n",
    "knn.fit(X_train_scaled, y_train)\n",
    "knn_pred = knn.predict(X_test_scaled)\n",
    "print(\"K-Nearest Neighbors:\")\n",
    "print(f\"  R²: {r2_score(y_test, knn_pred):.4f}\")\n",
    "print(f\"  RMSE: {np.sqrt(mean_squared_error(y_test, knn_pred)):.4f}\")\n",
    "print(f\"  MAE: {mean_absolute_error(y_test, knn_pred):.4f}\\n\")"
   ]
  },
  {
   "cell_type": "code",
   "execution_count": 23,
   "metadata": {
    "execution": {
     "iopub.execute_input": "2024-10-10T14:41:51.768335Z",
     "iopub.status.busy": "2024-10-10T14:41:51.767952Z",
     "iopub.status.idle": "2024-10-10T14:43:05.466848Z",
     "shell.execute_reply": "2024-10-10T14:43:05.465542Z",
     "shell.execute_reply.started": "2024-10-10T14:41:51.768297Z"
    }
   },
   "outputs": [
    {
     "name": "stdout",
     "output_type": "stream",
     "text": [
      "Lasso Regression:\n",
      "  R²: 0.8425\n",
      "  RMSE: 66543.8431\n",
      "  MAE: 51334.4002\n",
      "\n"
     ]
    },
    {
     "name": "stderr",
     "output_type": "stream",
     "text": [
      "/opt/conda/lib/python3.10/site-packages/sklearn/linear_model/_coordinate_descent.py:697: ConvergenceWarning: Objective did not converge. You might want to increase the number of iterations, check the scale of the features or consider increasing regularisation. Duality gap: 1.286e+15, tolerance: 2.059e+12\n",
      "  model = cd_fast.enet_coordinate_descent(\n"
     ]
    }
   ],
   "source": [
    "# Lasso Regression\n",
    "lasso = Lasso()\n",
    "lasso.fit(X_train_scaled, y_train)\n",
    "lasso_pred = lasso.predict(X_test_scaled)\n",
    "print(\"Lasso Regression:\")\n",
    "print(f\"  R²: {r2_score(y_test, lasso_pred):.4f}\")\n",
    "print(f\"  RMSE: {np.sqrt(mean_squared_error(y_test, lasso_pred)):.4f}\")\n",
    "print(f\"  MAE: {mean_absolute_error(y_test, lasso_pred):.4f}\\n\")"
   ]
  },
  {
   "cell_type": "code",
   "execution_count": 24,
   "metadata": {
    "execution": {
     "iopub.execute_input": "2024-10-10T14:43:05.471576Z",
     "iopub.status.busy": "2024-10-10T14:43:05.469537Z",
     "iopub.status.idle": "2024-10-10T14:43:06.032957Z",
     "shell.execute_reply": "2024-10-10T14:43:06.031312Z",
     "shell.execute_reply.started": "2024-10-10T14:43:05.471482Z"
    }
   },
   "outputs": [
    {
     "name": "stdout",
     "output_type": "stream",
     "text": [
      "Ridge Regression:\n",
      "  R²: 0.8425\n",
      "  RMSE: 66542.8425\n",
      "  MAE: 51333.9323\n",
      "\n"
     ]
    }
   ],
   "source": [
    "# Ridge Regression\n",
    "ridge = Ridge()\n",
    "ridge.fit(X_train_scaled, y_train)\n",
    "ridge_pred = ridge.predict(X_test_scaled)\n",
    "print(\"Ridge Regression:\")\n",
    "print(f\"  R²: {r2_score(y_test, ridge_pred):.4f}\")\n",
    "print(f\"  RMSE: {np.sqrt(mean_squared_error(y_test, ridge_pred)):.4f}\")\n",
    "print(f\"  MAE: {mean_absolute_error(y_test, ridge_pred):.4f}\\n\")"
   ]
  },
  {
   "cell_type": "code",
   "execution_count": 58,
   "metadata": {
    "execution": {
     "iopub.execute_input": "2024-10-10T16:58:10.821991Z",
     "iopub.status.busy": "2024-10-10T16:58:10.821495Z",
     "iopub.status.idle": "2024-10-10T16:58:17.384060Z",
     "shell.execute_reply": "2024-10-10T16:58:17.382509Z",
     "shell.execute_reply.started": "2024-10-10T16:58:10.821947Z"
    }
   },
   "outputs": [],
   "source": [
    "dt_pred = dt.predict(X_test_scaled)\n",
    "rf_pred = rf.predict(X_test_scaled)\n",
    "gb_pred = gb.predict(X_test_scaled)\n",
    "xgb_pred = xgb.predict(X_test_scaled)\n",
    "lr_pred = lr.predict(X_test_scaled)"
   ]
  },
  {
   "cell_type": "code",
   "execution_count": 59,
   "metadata": {
    "execution": {
     "iopub.execute_input": "2024-10-10T16:58:19.725965Z",
     "iopub.status.busy": "2024-10-10T16:58:19.725490Z",
     "iopub.status.idle": "2024-10-10T16:58:19.780984Z",
     "shell.execute_reply": "2024-10-10T16:58:19.779722Z",
     "shell.execute_reply.started": "2024-10-10T16:58:19.725922Z"
    }
   },
   "outputs": [
    {
     "data": {
      "text/html": [
       "<style>#sk-container-id-2 {\n",
       "  /* Definition of color scheme common for light and dark mode */\n",
       "  --sklearn-color-text: black;\n",
       "  --sklearn-color-line: gray;\n",
       "  /* Definition of color scheme for unfitted estimators */\n",
       "  --sklearn-color-unfitted-level-0: #fff5e6;\n",
       "  --sklearn-color-unfitted-level-1: #f6e4d2;\n",
       "  --sklearn-color-unfitted-level-2: #ffe0b3;\n",
       "  --sklearn-color-unfitted-level-3: chocolate;\n",
       "  /* Definition of color scheme for fitted estimators */\n",
       "  --sklearn-color-fitted-level-0: #f0f8ff;\n",
       "  --sklearn-color-fitted-level-1: #d4ebff;\n",
       "  --sklearn-color-fitted-level-2: #b3dbfd;\n",
       "  --sklearn-color-fitted-level-3: cornflowerblue;\n",
       "\n",
       "  /* Specific color for light theme */\n",
       "  --sklearn-color-text-on-default-background: var(--sg-text-color, var(--theme-code-foreground, var(--jp-content-font-color1, black)));\n",
       "  --sklearn-color-background: var(--sg-background-color, var(--theme-background, var(--jp-layout-color0, white)));\n",
       "  --sklearn-color-border-box: var(--sg-text-color, var(--theme-code-foreground, var(--jp-content-font-color1, black)));\n",
       "  --sklearn-color-icon: #696969;\n",
       "\n",
       "  @media (prefers-color-scheme: dark) {\n",
       "    /* Redefinition of color scheme for dark theme */\n",
       "    --sklearn-color-text-on-default-background: var(--sg-text-color, var(--theme-code-foreground, var(--jp-content-font-color1, white)));\n",
       "    --sklearn-color-background: var(--sg-background-color, var(--theme-background, var(--jp-layout-color0, #111)));\n",
       "    --sklearn-color-border-box: var(--sg-text-color, var(--theme-code-foreground, var(--jp-content-font-color1, white)));\n",
       "    --sklearn-color-icon: #878787;\n",
       "  }\n",
       "}\n",
       "\n",
       "#sk-container-id-2 {\n",
       "  color: var(--sklearn-color-text);\n",
       "}\n",
       "\n",
       "#sk-container-id-2 pre {\n",
       "  padding: 0;\n",
       "}\n",
       "\n",
       "#sk-container-id-2 input.sk-hidden--visually {\n",
       "  border: 0;\n",
       "  clip: rect(1px 1px 1px 1px);\n",
       "  clip: rect(1px, 1px, 1px, 1px);\n",
       "  height: 1px;\n",
       "  margin: -1px;\n",
       "  overflow: hidden;\n",
       "  padding: 0;\n",
       "  position: absolute;\n",
       "  width: 1px;\n",
       "}\n",
       "\n",
       "#sk-container-id-2 div.sk-dashed-wrapped {\n",
       "  border: 1px dashed var(--sklearn-color-line);\n",
       "  margin: 0 0.4em 0.5em 0.4em;\n",
       "  box-sizing: border-box;\n",
       "  padding-bottom: 0.4em;\n",
       "  background-color: var(--sklearn-color-background);\n",
       "}\n",
       "\n",
       "#sk-container-id-2 div.sk-container {\n",
       "  /* jupyter's `normalize.less` sets `[hidden] { display: none; }`\n",
       "     but bootstrap.min.css set `[hidden] { display: none !important; }`\n",
       "     so we also need the `!important` here to be able to override the\n",
       "     default hidden behavior on the sphinx rendered scikit-learn.org.\n",
       "     See: https://github.com/scikit-learn/scikit-learn/issues/21755 */\n",
       "  display: inline-block !important;\n",
       "  position: relative;\n",
       "}\n",
       "\n",
       "#sk-container-id-2 div.sk-text-repr-fallback {\n",
       "  display: none;\n",
       "}\n",
       "\n",
       "div.sk-parallel-item,\n",
       "div.sk-serial,\n",
       "div.sk-item {\n",
       "  /* draw centered vertical line to link estimators */\n",
       "  background-image: linear-gradient(var(--sklearn-color-text-on-default-background), var(--sklearn-color-text-on-default-background));\n",
       "  background-size: 2px 100%;\n",
       "  background-repeat: no-repeat;\n",
       "  background-position: center center;\n",
       "}\n",
       "\n",
       "/* Parallel-specific style estimator block */\n",
       "\n",
       "#sk-container-id-2 div.sk-parallel-item::after {\n",
       "  content: \"\";\n",
       "  width: 100%;\n",
       "  border-bottom: 2px solid var(--sklearn-color-text-on-default-background);\n",
       "  flex-grow: 1;\n",
       "}\n",
       "\n",
       "#sk-container-id-2 div.sk-parallel {\n",
       "  display: flex;\n",
       "  align-items: stretch;\n",
       "  justify-content: center;\n",
       "  background-color: var(--sklearn-color-background);\n",
       "  position: relative;\n",
       "}\n",
       "\n",
       "#sk-container-id-2 div.sk-parallel-item {\n",
       "  display: flex;\n",
       "  flex-direction: column;\n",
       "}\n",
       "\n",
       "#sk-container-id-2 div.sk-parallel-item:first-child::after {\n",
       "  align-self: flex-end;\n",
       "  width: 50%;\n",
       "}\n",
       "\n",
       "#sk-container-id-2 div.sk-parallel-item:last-child::after {\n",
       "  align-self: flex-start;\n",
       "  width: 50%;\n",
       "}\n",
       "\n",
       "#sk-container-id-2 div.sk-parallel-item:only-child::after {\n",
       "  width: 0;\n",
       "}\n",
       "\n",
       "/* Serial-specific style estimator block */\n",
       "\n",
       "#sk-container-id-2 div.sk-serial {\n",
       "  display: flex;\n",
       "  flex-direction: column;\n",
       "  align-items: center;\n",
       "  background-color: var(--sklearn-color-background);\n",
       "  padding-right: 1em;\n",
       "  padding-left: 1em;\n",
       "}\n",
       "\n",
       "\n",
       "/* Toggleable style: style used for estimator/Pipeline/ColumnTransformer box that is\n",
       "clickable and can be expanded/collapsed.\n",
       "- Pipeline and ColumnTransformer use this feature and define the default style\n",
       "- Estimators will overwrite some part of the style using the `sk-estimator` class\n",
       "*/\n",
       "\n",
       "/* Pipeline and ColumnTransformer style (default) */\n",
       "\n",
       "#sk-container-id-2 div.sk-toggleable {\n",
       "  /* Default theme specific background. It is overwritten whether we have a\n",
       "  specific estimator or a Pipeline/ColumnTransformer */\n",
       "  background-color: var(--sklearn-color-background);\n",
       "}\n",
       "\n",
       "/* Toggleable label */\n",
       "#sk-container-id-2 label.sk-toggleable__label {\n",
       "  cursor: pointer;\n",
       "  display: block;\n",
       "  width: 100%;\n",
       "  margin-bottom: 0;\n",
       "  padding: 0.5em;\n",
       "  box-sizing: border-box;\n",
       "  text-align: center;\n",
       "}\n",
       "\n",
       "#sk-container-id-2 label.sk-toggleable__label-arrow:before {\n",
       "  /* Arrow on the left of the label */\n",
       "  content: \"▸\";\n",
       "  float: left;\n",
       "  margin-right: 0.25em;\n",
       "  color: var(--sklearn-color-icon);\n",
       "}\n",
       "\n",
       "#sk-container-id-2 label.sk-toggleable__label-arrow:hover:before {\n",
       "  color: var(--sklearn-color-text);\n",
       "}\n",
       "\n",
       "/* Toggleable content - dropdown */\n",
       "\n",
       "#sk-container-id-2 div.sk-toggleable__content {\n",
       "  max-height: 0;\n",
       "  max-width: 0;\n",
       "  overflow: hidden;\n",
       "  text-align: left;\n",
       "  /* unfitted */\n",
       "  background-color: var(--sklearn-color-unfitted-level-0);\n",
       "}\n",
       "\n",
       "#sk-container-id-2 div.sk-toggleable__content.fitted {\n",
       "  /* fitted */\n",
       "  background-color: var(--sklearn-color-fitted-level-0);\n",
       "}\n",
       "\n",
       "#sk-container-id-2 div.sk-toggleable__content pre {\n",
       "  margin: 0.2em;\n",
       "  border-radius: 0.25em;\n",
       "  color: var(--sklearn-color-text);\n",
       "  /* unfitted */\n",
       "  background-color: var(--sklearn-color-unfitted-level-0);\n",
       "}\n",
       "\n",
       "#sk-container-id-2 div.sk-toggleable__content.fitted pre {\n",
       "  /* unfitted */\n",
       "  background-color: var(--sklearn-color-fitted-level-0);\n",
       "}\n",
       "\n",
       "#sk-container-id-2 input.sk-toggleable__control:checked~div.sk-toggleable__content {\n",
       "  /* Expand drop-down */\n",
       "  max-height: 200px;\n",
       "  max-width: 100%;\n",
       "  overflow: auto;\n",
       "}\n",
       "\n",
       "#sk-container-id-2 input.sk-toggleable__control:checked~label.sk-toggleable__label-arrow:before {\n",
       "  content: \"▾\";\n",
       "}\n",
       "\n",
       "/* Pipeline/ColumnTransformer-specific style */\n",
       "\n",
       "#sk-container-id-2 div.sk-label input.sk-toggleable__control:checked~label.sk-toggleable__label {\n",
       "  color: var(--sklearn-color-text);\n",
       "  background-color: var(--sklearn-color-unfitted-level-2);\n",
       "}\n",
       "\n",
       "#sk-container-id-2 div.sk-label.fitted input.sk-toggleable__control:checked~label.sk-toggleable__label {\n",
       "  background-color: var(--sklearn-color-fitted-level-2);\n",
       "}\n",
       "\n",
       "/* Estimator-specific style */\n",
       "\n",
       "/* Colorize estimator box */\n",
       "#sk-container-id-2 div.sk-estimator input.sk-toggleable__control:checked~label.sk-toggleable__label {\n",
       "  /* unfitted */\n",
       "  background-color: var(--sklearn-color-unfitted-level-2);\n",
       "}\n",
       "\n",
       "#sk-container-id-2 div.sk-estimator.fitted input.sk-toggleable__control:checked~label.sk-toggleable__label {\n",
       "  /* fitted */\n",
       "  background-color: var(--sklearn-color-fitted-level-2);\n",
       "}\n",
       "\n",
       "#sk-container-id-2 div.sk-label label.sk-toggleable__label,\n",
       "#sk-container-id-2 div.sk-label label {\n",
       "  /* The background is the default theme color */\n",
       "  color: var(--sklearn-color-text-on-default-background);\n",
       "}\n",
       "\n",
       "/* On hover, darken the color of the background */\n",
       "#sk-container-id-2 div.sk-label:hover label.sk-toggleable__label {\n",
       "  color: var(--sklearn-color-text);\n",
       "  background-color: var(--sklearn-color-unfitted-level-2);\n",
       "}\n",
       "\n",
       "/* Label box, darken color on hover, fitted */\n",
       "#sk-container-id-2 div.sk-label.fitted:hover label.sk-toggleable__label.fitted {\n",
       "  color: var(--sklearn-color-text);\n",
       "  background-color: var(--sklearn-color-fitted-level-2);\n",
       "}\n",
       "\n",
       "/* Estimator label */\n",
       "\n",
       "#sk-container-id-2 div.sk-label label {\n",
       "  font-family: monospace;\n",
       "  font-weight: bold;\n",
       "  display: inline-block;\n",
       "  line-height: 1.2em;\n",
       "}\n",
       "\n",
       "#sk-container-id-2 div.sk-label-container {\n",
       "  text-align: center;\n",
       "}\n",
       "\n",
       "/* Estimator-specific */\n",
       "#sk-container-id-2 div.sk-estimator {\n",
       "  font-family: monospace;\n",
       "  border: 1px dotted var(--sklearn-color-border-box);\n",
       "  border-radius: 0.25em;\n",
       "  box-sizing: border-box;\n",
       "  margin-bottom: 0.5em;\n",
       "  /* unfitted */\n",
       "  background-color: var(--sklearn-color-unfitted-level-0);\n",
       "}\n",
       "\n",
       "#sk-container-id-2 div.sk-estimator.fitted {\n",
       "  /* fitted */\n",
       "  background-color: var(--sklearn-color-fitted-level-0);\n",
       "}\n",
       "\n",
       "/* on hover */\n",
       "#sk-container-id-2 div.sk-estimator:hover {\n",
       "  /* unfitted */\n",
       "  background-color: var(--sklearn-color-unfitted-level-2);\n",
       "}\n",
       "\n",
       "#sk-container-id-2 div.sk-estimator.fitted:hover {\n",
       "  /* fitted */\n",
       "  background-color: var(--sklearn-color-fitted-level-2);\n",
       "}\n",
       "\n",
       "/* Specification for estimator info (e.g. \"i\" and \"?\") */\n",
       "\n",
       "/* Common style for \"i\" and \"?\" */\n",
       "\n",
       ".sk-estimator-doc-link,\n",
       "a:link.sk-estimator-doc-link,\n",
       "a:visited.sk-estimator-doc-link {\n",
       "  float: right;\n",
       "  font-size: smaller;\n",
       "  line-height: 1em;\n",
       "  font-family: monospace;\n",
       "  background-color: var(--sklearn-color-background);\n",
       "  border-radius: 1em;\n",
       "  height: 1em;\n",
       "  width: 1em;\n",
       "  text-decoration: none !important;\n",
       "  margin-left: 1ex;\n",
       "  /* unfitted */\n",
       "  border: var(--sklearn-color-unfitted-level-1) 1pt solid;\n",
       "  color: var(--sklearn-color-unfitted-level-1);\n",
       "}\n",
       "\n",
       ".sk-estimator-doc-link.fitted,\n",
       "a:link.sk-estimator-doc-link.fitted,\n",
       "a:visited.sk-estimator-doc-link.fitted {\n",
       "  /* fitted */\n",
       "  border: var(--sklearn-color-fitted-level-1) 1pt solid;\n",
       "  color: var(--sklearn-color-fitted-level-1);\n",
       "}\n",
       "\n",
       "/* On hover */\n",
       "div.sk-estimator:hover .sk-estimator-doc-link:hover,\n",
       ".sk-estimator-doc-link:hover,\n",
       "div.sk-label-container:hover .sk-estimator-doc-link:hover,\n",
       ".sk-estimator-doc-link:hover {\n",
       "  /* unfitted */\n",
       "  background-color: var(--sklearn-color-unfitted-level-3);\n",
       "  color: var(--sklearn-color-background);\n",
       "  text-decoration: none;\n",
       "}\n",
       "\n",
       "div.sk-estimator.fitted:hover .sk-estimator-doc-link.fitted:hover,\n",
       ".sk-estimator-doc-link.fitted:hover,\n",
       "div.sk-label-container:hover .sk-estimator-doc-link.fitted:hover,\n",
       ".sk-estimator-doc-link.fitted:hover {\n",
       "  /* fitted */\n",
       "  background-color: var(--sklearn-color-fitted-level-3);\n",
       "  color: var(--sklearn-color-background);\n",
       "  text-decoration: none;\n",
       "}\n",
       "\n",
       "/* Span, style for the box shown on hovering the info icon */\n",
       ".sk-estimator-doc-link span {\n",
       "  display: none;\n",
       "  z-index: 9999;\n",
       "  position: relative;\n",
       "  font-weight: normal;\n",
       "  right: .2ex;\n",
       "  padding: .5ex;\n",
       "  margin: .5ex;\n",
       "  width: min-content;\n",
       "  min-width: 20ex;\n",
       "  max-width: 50ex;\n",
       "  color: var(--sklearn-color-text);\n",
       "  box-shadow: 2pt 2pt 4pt #999;\n",
       "  /* unfitted */\n",
       "  background: var(--sklearn-color-unfitted-level-0);\n",
       "  border: .5pt solid var(--sklearn-color-unfitted-level-3);\n",
       "}\n",
       "\n",
       ".sk-estimator-doc-link.fitted span {\n",
       "  /* fitted */\n",
       "  background: var(--sklearn-color-fitted-level-0);\n",
       "  border: var(--sklearn-color-fitted-level-3);\n",
       "}\n",
       "\n",
       ".sk-estimator-doc-link:hover span {\n",
       "  display: block;\n",
       "}\n",
       "\n",
       "/* \"?\"-specific style due to the `<a>` HTML tag */\n",
       "\n",
       "#sk-container-id-2 a.estimator_doc_link {\n",
       "  float: right;\n",
       "  font-size: 1rem;\n",
       "  line-height: 1em;\n",
       "  font-family: monospace;\n",
       "  background-color: var(--sklearn-color-background);\n",
       "  border-radius: 1rem;\n",
       "  height: 1rem;\n",
       "  width: 1rem;\n",
       "  text-decoration: none;\n",
       "  /* unfitted */\n",
       "  color: var(--sklearn-color-unfitted-level-1);\n",
       "  border: var(--sklearn-color-unfitted-level-1) 1pt solid;\n",
       "}\n",
       "\n",
       "#sk-container-id-2 a.estimator_doc_link.fitted {\n",
       "  /* fitted */\n",
       "  border: var(--sklearn-color-fitted-level-1) 1pt solid;\n",
       "  color: var(--sklearn-color-fitted-level-1);\n",
       "}\n",
       "\n",
       "/* On hover */\n",
       "#sk-container-id-2 a.estimator_doc_link:hover {\n",
       "  /* unfitted */\n",
       "  background-color: var(--sklearn-color-unfitted-level-3);\n",
       "  color: var(--sklearn-color-background);\n",
       "  text-decoration: none;\n",
       "}\n",
       "\n",
       "#sk-container-id-2 a.estimator_doc_link.fitted:hover {\n",
       "  /* fitted */\n",
       "  background-color: var(--sklearn-color-fitted-level-3);\n",
       "}\n",
       "</style><div id=\"sk-container-id-2\" class=\"sk-top-container\"><div class=\"sk-text-repr-fallback\"><pre>LinearRegression()</pre><b>In a Jupyter environment, please rerun this cell to show the HTML representation or trust the notebook. <br />On GitHub, the HTML representation is unable to render, please try loading this page with nbviewer.org.</b></div><div class=\"sk-container\" hidden><div class=\"sk-item\"><div class=\"sk-estimator fitted sk-toggleable\"><input class=\"sk-toggleable__control sk-hidden--visually\" id=\"sk-estimator-id-2\" type=\"checkbox\" checked><label for=\"sk-estimator-id-2\" class=\"sk-toggleable__label fitted sk-toggleable__label-arrow fitted\">&nbsp;&nbsp;LinearRegression<a class=\"sk-estimator-doc-link fitted\" rel=\"noreferrer\" target=\"_blank\" href=\"https://scikit-learn.org/1.5/modules/generated/sklearn.linear_model.LinearRegression.html\">?<span>Documentation for LinearRegression</span></a><span class=\"sk-estimator-doc-link fitted\">i<span>Fitted</span></span></label><div class=\"sk-toggleable__content fitted\"><pre>LinearRegression()</pre></div> </div></div></div></div>"
      ],
      "text/plain": [
       "LinearRegression()"
      ]
     },
     "execution_count": 59,
     "metadata": {},
     "output_type": "execute_result"
    }
   ],
   "source": [
    "# Combine the predictions of the base models into a single feature matrix\n",
    "X_test_meta = np.column_stack((dt_pred, rf_pred, gb_pred, xgb_pred, lr_pred))\n",
    "\n",
    "# Train the meta-model on the combined feature matrix and the target values\n",
    "meta_model = LinearRegression()\n",
    "meta_model.fit(X_test_meta, y_test)"
   ]
  },
  {
   "cell_type": "code",
   "execution_count": 27,
   "metadata": {
    "execution": {
     "iopub.execute_input": "2024-10-10T14:43:12.168820Z",
     "iopub.status.busy": "2024-10-10T14:43:12.167474Z",
     "iopub.status.idle": "2024-10-10T14:43:12.216613Z",
     "shell.execute_reply": "2024-10-10T14:43:12.215284Z",
     "shell.execute_reply.started": "2024-10-10T14:43:12.168728Z"
    }
   },
   "outputs": [
    {
     "data": {
      "text/html": [
       "<div>\n",
       "<style scoped>\n",
       "    .dataframe tbody tr th:only-of-type {\n",
       "        vertical-align: middle;\n",
       "    }\n",
       "\n",
       "    .dataframe tbody tr th {\n",
       "        vertical-align: top;\n",
       "    }\n",
       "\n",
       "    .dataframe thead th {\n",
       "        text-align: right;\n",
       "    }\n",
       "</style>\n",
       "<table border=\"1\" class=\"dataframe\">\n",
       "  <thead>\n",
       "    <tr style=\"text-align: right;\">\n",
       "      <th></th>\n",
       "      <th>Feature</th>\n",
       "      <th>Importance</th>\n",
       "    </tr>\n",
       "  </thead>\n",
       "  <tbody>\n",
       "    <tr>\n",
       "      <th>6</th>\n",
       "      <td>year_of_sale</td>\n",
       "      <td>0.541912</td>\n",
       "    </tr>\n",
       "    <tr>\n",
       "      <th>0</th>\n",
       "      <td>floor_area_sqm</td>\n",
       "      <td>0.291468</td>\n",
       "    </tr>\n",
       "    <tr>\n",
       "      <th>5</th>\n",
       "      <td>cbd_distance</td>\n",
       "      <td>0.075642</td>\n",
       "    </tr>\n",
       "    <tr>\n",
       "      <th>57</th>\n",
       "      <td>flat_type_4 ROOM</td>\n",
       "      <td>0.044871</td>\n",
       "    </tr>\n",
       "    <tr>\n",
       "      <th>7</th>\n",
       "      <td>calculated_remaining_lease</td>\n",
       "      <td>0.019319</td>\n",
       "    </tr>\n",
       "  </tbody>\n",
       "</table>\n",
       "</div>"
      ],
      "text/plain": [
       "                       Feature  Importance\n",
       "6                 year_of_sale    0.541912\n",
       "0               floor_area_sqm    0.291468\n",
       "5                 cbd_distance    0.075642\n",
       "57            flat_type_4 ROOM    0.044871\n",
       "7   calculated_remaining_lease    0.019319"
      ]
     },
     "execution_count": 27,
     "metadata": {},
     "output_type": "execute_result"
    }
   ],
   "source": [
    "importances = rf.feature_importances_\n",
    "feature_importance_df = pd.DataFrame({\n",
    "    'Feature': X_train.columns,\n",
    "    'Importance': importances\n",
    "}).sort_values(by='Importance', ascending=False)\n",
    "feature_importance_df.head()"
   ]
  },
  {
   "cell_type": "code",
   "execution_count": null,
   "metadata": {},
   "outputs": [],
   "source": []
  },
  {
   "cell_type": "code",
   "execution_count": 50,
   "metadata": {
    "execution": {
     "iopub.execute_input": "2024-10-10T16:34:13.798466Z",
     "iopub.status.busy": "2024-10-10T16:34:13.797999Z",
     "iopub.status.idle": "2024-10-10T16:34:13.805759Z",
     "shell.execute_reply": "2024-10-10T16:34:13.804319Z",
     "shell.execute_reply.started": "2024-10-10T16:34:13.798424Z"
    }
   },
   "outputs": [],
   "source": [
    "# # Make predictions on new data\n",
    "# X_new = np.array([[4,4,108.0,1,188.717411,333.083147,1006.174695,388.215395,16447.015048,2022,62.0,5]])\n",
    "# dt_pred_new = dt.predict(X_new)\n",
    "# rf_pred_new = rf.predict(X_new)\n",
    "# gb_pred_new = gb.predict(X_new)\n",
    "# xgb_pred_new = xgb.predict(X_new)\n",
    "# lr_pred_new = lr.predict(X_new)\n",
    "\n",
    "# # Combine the predictions of the base models into a single feature matrix\n",
    "# X_new_meta = np.column_stack((dt_pred_new, rf_pred_new, gb_pred_new, xgb_pred_new, lr_pred_new))\n",
    "\n",
    "# # Make a prediction using the meta-model\n",
    "# y_new_pred = meta_model.predict(X_new_meta)\n",
    "\n",
    "# print(\"Predicted median value of owner-occupied homes: ${:.2f} thousand\".format(y_new_pred[0]))\n"
   ]
  },
  {
   "cell_type": "code",
   "execution_count": 60,
   "metadata": {
    "execution": {
     "iopub.execute_input": "2024-10-10T16:58:25.355737Z",
     "iopub.status.busy": "2024-10-10T16:58:25.355052Z",
     "iopub.status.idle": "2024-10-10T16:58:31.530126Z",
     "shell.execute_reply": "2024-10-10T16:58:31.528847Z",
     "shell.execute_reply.started": "2024-10-10T16:58:25.355660Z"
    }
   },
   "outputs": [
    {
     "name": "stdout",
     "output_type": "stream",
     "text": [
      "R² score: 0.9825\n",
      "RMSE: 22195.2242\n",
      "MAE: 15788.7420\n"
     ]
    }
   ],
   "source": [
    "# Make predictions on new data\n",
    "# X_new = np.array([[4,4,108.0,1,188.717411,333.083147,1006.174695,388.215395,16447.015048,2022,62.0,5]])\n",
    "dt_pred_new = dt.predict(X_test_scaled)\n",
    "rf_pred_new = rf.predict(X_test_scaled)\n",
    "gb_pred_new = gb.predict(X_test_scaled)\n",
    "xgb_pred_new = xgb.predict(X_test_scaled)\n",
    "lr_pred_new = lr.predict(X_test_scaled)\n",
    "\n",
    "# Combine the predictions of the base models into a single feature matrix\n",
    "X_new_meta = np.column_stack((dt_pred_new, rf_pred_new, gb_pred_new, xgb_pred_new, lr_pred_new))\n",
    "\n",
    "# Make a prediction using the meta-model\n",
    "y_new_pred = meta_model.predict(X_new_meta)\n",
    "\n",
    "r2 = r2_score(y_test, y_new_pred)\n",
    "rmse = np.sqrt(mean_squared_error(y_test, y_new_pred))\n",
    "mae = mean_absolute_error(y_test, y_new_pred)\n",
    "\n",
    "# Print performance metrics\n",
    "print(f\"R² score: {r2:.4f}\")\n",
    "print(f\"RMSE: {rmse:.4f}\")\n",
    "print(f\"MAE: {mae:.4f}\")"
   ]
  },
  {
   "cell_type": "code",
   "execution_count": 62,
   "metadata": {
    "execution": {
     "iopub.execute_input": "2024-10-10T17:02:05.464877Z",
     "iopub.status.busy": "2024-10-10T17:02:05.464267Z",
     "iopub.status.idle": "2024-10-10T17:02:05.886523Z",
     "shell.execute_reply": "2024-10-10T17:02:05.884851Z",
     "shell.execute_reply.started": "2024-10-10T17:02:05.464828Z"
    }
   },
   "outputs": [
    {
     "data": {
      "text/plain": [
       "['xgboost_model.sav']"
      ]
     },
     "execution_count": 62,
     "metadata": {},
     "output_type": "execute_result"
    }
   ],
   "source": [
    "xgb.save_model('xgb_model.json')  # You can also use .bin extension if preferred\n",
    "joblib.dump(xgb, 'xgboost_model.pkl')\n",
    "joblib.dump(xgb, 'xgboost_model.joblib')\n",
    "joblib.dump(xgb, 'xgboost_model.sav')"
   ]
  },
  {
   "cell_type": "code",
   "execution_count": 33,
   "metadata": {
    "execution": {
     "iopub.execute_input": "2024-10-10T14:52:23.190224Z",
     "iopub.status.busy": "2024-10-10T14:52:23.189722Z",
     "iopub.status.idle": "2024-10-10T14:52:23.555339Z",
     "shell.execute_reply": "2024-10-10T14:52:23.553991Z",
     "shell.execute_reply.started": "2024-10-10T14:52:23.190180Z"
    }
   },
   "outputs": [
    {
     "data": {
      "text/plain": [
       "['linear_regression_model.pkl']"
      ]
     },
     "execution_count": 33,
     "metadata": {},
     "output_type": "execute_result"
    }
   ],
   "source": [
    "import joblib\n",
    "\n",
    "# Save the meta-model\n",
    "joblib.dump(meta_model, 'meta_model.pkl')\n",
    "\n",
    "# Save the base models if needed\n",
    "joblib.dump(dt, 'decision_tree_model.pkl')\n",
    "joblib.dump(rf, 'random_forest_model.pkl')\n",
    "joblib.dump(gb, 'gradient_boosting_model.pkl')\n",
    "joblib.dump(xgb, 'xgboost_model.pkl')\n",
    "joblib.dump(lr, 'linear_regression_model.pkl')\n"
   ]
  },
  {
   "cell_type": "code",
   "execution_count": 31,
   "metadata": {
    "execution": {
     "iopub.execute_input": "2024-10-10T14:43:18.840606Z",
     "iopub.status.busy": "2024-10-10T14:43:18.840069Z",
     "iopub.status.idle": "2024-10-10T14:43:19.169058Z",
     "shell.execute_reply": "2024-10-10T14:43:19.167577Z",
     "shell.execute_reply.started": "2024-10-10T14:43:18.840549Z"
    }
   },
   "outputs": [
    {
     "data": {
      "text/plain": [
       "['linear_regression_model.joblib']"
      ]
     },
     "execution_count": 31,
     "metadata": {},
     "output_type": "execute_result"
    }
   ],
   "source": [
    "import joblib\n",
    "\n",
    "# Save the meta-model\n",
    "joblib.dump(meta_model, 'meta_model.joblib')\n",
    "\n",
    "# Save the base models if needed\n",
    "joblib.dump(dt, 'decision_tree_model.joblib')\n",
    "joblib.dump(rf, 'random_forest_model.joblib')\n",
    "joblib.dump(gb, 'gradient_boosting_model.joblib')\n",
    "joblib.dump(xgb, 'xgboost_model.joblib')\n",
    "joblib.dump(lr, 'linear_regression_model.joblib')\n"
   ]
  },
  {
   "cell_type": "code",
   "execution_count": 51,
   "metadata": {
    "execution": {
     "iopub.execute_input": "2024-10-10T16:40:07.977283Z",
     "iopub.status.busy": "2024-10-10T16:40:07.976613Z",
     "iopub.status.idle": "2024-10-10T16:40:07.984280Z",
     "shell.execute_reply": "2024-10-10T16:40:07.982969Z",
     "shell.execute_reply.started": "2024-10-10T16:40:07.977232Z"
    }
   },
   "outputs": [
    {
     "name": "stdout",
     "output_type": "stream",
     "text": [
      "Helo\n"
     ]
    }
   ],
   "source": [
    "print('Helo')"
   ]
  },
  {
   "cell_type": "code",
   "execution_count": 55,
   "metadata": {
    "execution": {
     "iopub.execute_input": "2024-10-10T16:52:49.776012Z",
     "iopub.status.busy": "2024-10-10T16:52:49.774512Z",
     "iopub.status.idle": "2024-10-10T16:53:23.588453Z",
     "shell.execute_reply": "2024-10-10T16:53:23.586701Z",
     "shell.execute_reply.started": "2024-10-10T16:52:49.775944Z"
    }
   },
   "outputs": [
    {
     "name": "stdout",
     "output_type": "stream",
     "text": [
      "Collecting xgboost==2.1.1\n",
      "  Downloading xgboost-2.1.1-py3-none-manylinux_2_28_x86_64.whl.metadata (2.1 kB)\n",
      "Requirement already satisfied: numpy in /opt/conda/lib/python3.10/site-packages (from xgboost==2.1.1) (1.26.4)\n",
      "Collecting nvidia-nccl-cu12 (from xgboost==2.1.1)\n",
      "  Downloading nvidia_nccl_cu12-2.23.4-py3-none-manylinux2014_x86_64.whl.metadata (1.8 kB)\n",
      "Requirement already satisfied: scipy in /opt/conda/lib/python3.10/site-packages (from xgboost==2.1.1) (1.14.1)\n",
      "Downloading xgboost-2.1.1-py3-none-manylinux_2_28_x86_64.whl (153.9 MB)\n",
      "\u001b[2K   \u001b[90m━━━━━━━━━━━━━━━━━━━━━━━━━━━━━━━━━━━━━━━━\u001b[0m \u001b[32m153.9/153.9 MB\u001b[0m \u001b[31m8.5 MB/s\u001b[0m eta \u001b[36m0:00:00\u001b[0m:00:01\u001b[0m00:01\u001b[0m\n",
      "\u001b[?25hDownloading nvidia_nccl_cu12-2.23.4-py3-none-manylinux2014_x86_64.whl (199.0 MB)\n",
      "\u001b[2K   \u001b[90m━━━━━━━━━━━━━━━━━━━━━━━━━━━━━━━━━━━━━━━━\u001b[0m \u001b[32m199.0/199.0 MB\u001b[0m \u001b[31m6.3 MB/s\u001b[0m eta \u001b[36m0:00:00\u001b[0m:00:01\u001b[0m00:01\u001b[0m\n",
      "\u001b[?25hInstalling collected packages: nvidia-nccl-cu12, xgboost\n",
      "  Attempting uninstall: xgboost\n",
      "    Found existing installation: xgboost 2.0.3\n",
      "    Uninstalling xgboost-2.0.3:\n",
      "      Successfully uninstalled xgboost-2.0.3\n",
      "Successfully installed nvidia-nccl-cu12-2.23.4 xgboost-2.1.1\n",
      "Note: you may need to restart the kernel to use updated packages.\n"
     ]
    }
   ],
   "source": [
    "pip install xgboost==2.1.1"
   ]
  },
  {
   "cell_type": "code",
   "execution_count": 56,
   "metadata": {
    "execution": {
     "iopub.execute_input": "2024-10-10T16:54:11.640350Z",
     "iopub.status.busy": "2024-10-10T16:54:11.639775Z",
     "iopub.status.idle": "2024-10-10T16:54:26.358372Z",
     "shell.execute_reply": "2024-10-10T16:54:26.356468Z",
     "shell.execute_reply.started": "2024-10-10T16:54:11.640290Z"
    }
   },
   "outputs": [
    {
     "name": "stdout",
     "output_type": "stream",
     "text": [
      "Name: xgboost\n",
      "Version: 2.1.1\n",
      "Summary: XGBoost Python Package\n",
      "Home-page: \n",
      "Author: \n",
      "Author-email: Hyunsu Cho <chohyu01@cs.washington.edu>, Jiaming Yuan <jm.yuan@outlook.com>\n",
      "License: Apache-2.0\n",
      "Location: /opt/conda/lib/python3.10/site-packages\n",
      "Requires: numpy, nvidia-nccl-cu12, scipy\n",
      "Required-by: TPOT\n",
      "Note: you may need to restart the kernel to use updated packages.\n"
     ]
    }
   ],
   "source": [
    "pip show xgboost"
   ]
  },
  {
   "cell_type": "code",
   "execution_count": 53,
   "metadata": {
    "execution": {
     "iopub.execute_input": "2024-10-10T16:41:33.171144Z",
     "iopub.status.busy": "2024-10-10T16:41:33.170677Z",
     "iopub.status.idle": "2024-10-10T16:41:33.178763Z",
     "shell.execute_reply": "2024-10-10T16:41:33.177190Z",
     "shell.execute_reply.started": "2024-10-10T16:41:33.171103Z"
    }
   },
   "outputs": [
    {
     "name": "stdout",
     "output_type": "stream",
     "text": [
      "['floor_area_sqm', 'nearest_supermarket_distance', 'nearest_school_distance', 'nearest_mrt_distance', 'nearest_hawkers_distance', 'cbd_distance', 'year_of_sale', 'calculated_remaining_lease', 'storey_median', 'town_BEDOK', 'town_BISHAN', 'town_BUKIT BATOK', 'town_BUKIT MERAH', 'town_BUKIT PANJANG', 'town_BUKIT TIMAH', 'town_CENTRAL AREA', 'town_CHOA CHU KANG', 'town_CLEMENTI', 'town_GEYLANG', 'town_HOUGANG', 'town_JURONG EAST', 'town_JURONG WEST', 'town_KALLANG/WHAMPOA', 'town_LIM CHU KANG', 'town_MARINE PARADE', 'town_PASIR RIS', 'town_PUNGGOL', 'town_QUEENSTOWN', 'town_SEMBAWANG', 'town_SENGKANG', 'town_SERANGOON', 'town_TAMPINES', 'town_TOA PAYOH', 'town_WOODLANDS', 'town_YISHUN', 'flat_model_3Gen', 'flat_model_Adjoined flat', 'flat_model_Apartment', 'flat_model_DBSS', 'flat_model_Improved', 'flat_model_Improved-Maisonette', 'flat_model_Maisonette', 'flat_model_Model A', 'flat_model_Model A-Maisonette', 'flat_model_Model A2', 'flat_model_Multi Generation', 'flat_model_New Generation', 'flat_model_Premium Apartment', 'flat_model_Premium Apartment Loft', 'flat_model_Premium Maisonette', 'flat_model_Simplified', 'flat_model_Standard', 'flat_model_Terrace', 'flat_model_Type S1', 'flat_model_Type S2', 'flat_type_2 ROOM', 'flat_type_3 ROOM', 'flat_type_4 ROOM', 'flat_type_5 ROOM', 'flat_type_EXECUTIVE', 'flat_type_MULTI GENERATION']\n"
     ]
    }
   ],
   "source": [
    "train_feature_names = X_train.columns.tolist()\n",
    "print(train_feature_names)"
   ]
  }
 ],
 "metadata": {
  "kaggle": {
   "accelerator": "none",
   "dataSources": [
    {
     "datasetId": 5717326,
     "sourceId": 9540329,
     "sourceType": "datasetVersion"
    }
   ],
   "dockerImageVersionId": 30787,
   "isGpuEnabled": false,
   "isInternetEnabled": true,
   "language": "python",
   "sourceType": "notebook"
  },
  "kernelspec": {
   "display_name": "Python 3 (ipykernel)",
   "language": "python",
   "name": "python3"
  },
  "language_info": {
   "codemirror_mode": {
    "name": "ipython",
    "version": 3
   },
   "file_extension": ".py",
   "mimetype": "text/x-python",
   "name": "python",
   "nbconvert_exporter": "python",
   "pygments_lexer": "ipython3",
   "version": "3.9.12"
  }
 },
 "nbformat": 4,
 "nbformat_minor": 4
}
