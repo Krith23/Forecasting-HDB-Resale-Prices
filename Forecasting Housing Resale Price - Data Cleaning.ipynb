{
 "cells": [
  {
   "cell_type": "code",
   "execution_count": 1,
   "id": "74af092f",
   "metadata": {},
   "outputs": [],
   "source": [
    "import pandas as pd\n",
    "import numpy as np\n",
    "import matplotlib.pyplot as plt\n",
    "import seaborn as sns\n",
    "import json\n",
    "import statistics"
   ]
  },
  {
   "cell_type": "code",
   "execution_count": 2,
   "id": "5e041f3f",
   "metadata": {},
   "outputs": [],
   "source": [
    "hdb_df = pd.read_csv('data/hdb_df_min_dist.csv', low_memory=False)"
   ]
  },
  {
   "cell_type": "code",
   "execution_count": 3,
   "id": "2e480b8f",
   "metadata": {},
   "outputs": [
    {
     "name": "stdout",
     "output_type": "stream",
     "text": [
      "<class 'pandas.core.frame.DataFrame'>\n",
      "RangeIndex: 919408 entries, 0 to 919407\n",
      "Data columns (total 19 columns):\n",
      " #   Column                        Non-Null Count   Dtype  \n",
      "---  ------                        --------------   -----  \n",
      " 0   month                         919408 non-null  object \n",
      " 1   town                          919408 non-null  object \n",
      " 2   flat_type                     919408 non-null  object \n",
      " 3   block                         919408 non-null  object \n",
      " 4   street_name                   919408 non-null  object \n",
      " 5   storey_range                  919408 non-null  object \n",
      " 6   floor_area_sqm                919408 non-null  float64\n",
      " 7   flat_model                    919408 non-null  object \n",
      " 8   lease_commence_date           919408 non-null  int64  \n",
      " 9   resale_price                  919408 non-null  float64\n",
      " 10  remaining_lease               210358 non-null  object \n",
      " 11  address                       919408 non-null  object \n",
      " 12  latitude                      919408 non-null  float64\n",
      " 13  longitude                     919408 non-null  float64\n",
      " 14  nearest_supermarket_distance  919408 non-null  float64\n",
      " 15  nearest_school_distance       919408 non-null  float64\n",
      " 16  nearest_mrt_distance          919408 non-null  float64\n",
      " 17  nearest_hawkers_distance      919408 non-null  float64\n",
      " 18  cbd_distance                  919408 non-null  float64\n",
      "dtypes: float64(9), int64(1), object(9)\n",
      "memory usage: 133.3+ MB\n"
     ]
    }
   ],
   "source": [
    "hdb_df.info()"
   ]
  },
  {
   "cell_type": "code",
   "execution_count": 4,
   "id": "4c0456db",
   "metadata": {},
   "outputs": [
    {
     "data": {
      "text/html": [
       "<div>\n",
       "<style scoped>\n",
       "    .dataframe tbody tr th:only-of-type {\n",
       "        vertical-align: middle;\n",
       "    }\n",
       "\n",
       "    .dataframe tbody tr th {\n",
       "        vertical-align: top;\n",
       "    }\n",
       "\n",
       "    .dataframe thead th {\n",
       "        text-align: right;\n",
       "    }\n",
       "</style>\n",
       "<table border=\"1\" class=\"dataframe\">\n",
       "  <thead>\n",
       "    <tr style=\"text-align: right;\">\n",
       "      <th></th>\n",
       "      <th>month</th>\n",
       "      <th>town</th>\n",
       "      <th>flat_type</th>\n",
       "      <th>block</th>\n",
       "      <th>street_name</th>\n",
       "      <th>storey_range</th>\n",
       "      <th>floor_area_sqm</th>\n",
       "      <th>flat_model</th>\n",
       "      <th>lease_commence_date</th>\n",
       "      <th>resale_price</th>\n",
       "      <th>remaining_lease</th>\n",
       "      <th>address</th>\n",
       "      <th>latitude</th>\n",
       "      <th>longitude</th>\n",
       "      <th>nearest_supermarket_distance</th>\n",
       "      <th>nearest_school_distance</th>\n",
       "      <th>nearest_mrt_distance</th>\n",
       "      <th>nearest_hawkers_distance</th>\n",
       "      <th>cbd_distance</th>\n",
       "    </tr>\n",
       "  </thead>\n",
       "  <tbody>\n",
       "    <tr>\n",
       "      <th>0</th>\n",
       "      <td>1990-01</td>\n",
       "      <td>ANG MO KIO</td>\n",
       "      <td>1 ROOM</td>\n",
       "      <td>309</td>\n",
       "      <td>ANG MO KIO AVE 1</td>\n",
       "      <td>10 TO 12</td>\n",
       "      <td>31.0</td>\n",
       "      <td>IMPROVED</td>\n",
       "      <td>1977</td>\n",
       "      <td>9000.0</td>\n",
       "      <td>NaN</td>\n",
       "      <td>309 ANG MO KIO AVE 1</td>\n",
       "      <td>1.366558</td>\n",
       "      <td>103.841624</td>\n",
       "      <td>0.000000</td>\n",
       "      <td>104.434561</td>\n",
       "      <td>781.530960</td>\n",
       "      <td>0.000000</td>\n",
       "      <td>8765.007560</td>\n",
       "    </tr>\n",
       "    <tr>\n",
       "      <th>1</th>\n",
       "      <td>1990-01</td>\n",
       "      <td>ANG MO KIO</td>\n",
       "      <td>1 ROOM</td>\n",
       "      <td>309</td>\n",
       "      <td>ANG MO KIO AVE 1</td>\n",
       "      <td>04 TO 06</td>\n",
       "      <td>31.0</td>\n",
       "      <td>IMPROVED</td>\n",
       "      <td>1977</td>\n",
       "      <td>6000.0</td>\n",
       "      <td>NaN</td>\n",
       "      <td>309 ANG MO KIO AVE 1</td>\n",
       "      <td>1.366558</td>\n",
       "      <td>103.841624</td>\n",
       "      <td>0.000000</td>\n",
       "      <td>104.434561</td>\n",
       "      <td>781.530960</td>\n",
       "      <td>0.000000</td>\n",
       "      <td>8765.007560</td>\n",
       "    </tr>\n",
       "    <tr>\n",
       "      <th>2</th>\n",
       "      <td>1990-01</td>\n",
       "      <td>ANG MO KIO</td>\n",
       "      <td>1 ROOM</td>\n",
       "      <td>309</td>\n",
       "      <td>ANG MO KIO AVE 1</td>\n",
       "      <td>10 TO 12</td>\n",
       "      <td>31.0</td>\n",
       "      <td>IMPROVED</td>\n",
       "      <td>1977</td>\n",
       "      <td>8000.0</td>\n",
       "      <td>NaN</td>\n",
       "      <td>309 ANG MO KIO AVE 1</td>\n",
       "      <td>1.366558</td>\n",
       "      <td>103.841624</td>\n",
       "      <td>0.000000</td>\n",
       "      <td>104.434561</td>\n",
       "      <td>781.530960</td>\n",
       "      <td>0.000000</td>\n",
       "      <td>8765.007560</td>\n",
       "    </tr>\n",
       "    <tr>\n",
       "      <th>3</th>\n",
       "      <td>1990-01</td>\n",
       "      <td>ANG MO KIO</td>\n",
       "      <td>1 ROOM</td>\n",
       "      <td>309</td>\n",
       "      <td>ANG MO KIO AVE 1</td>\n",
       "      <td>07 TO 09</td>\n",
       "      <td>31.0</td>\n",
       "      <td>IMPROVED</td>\n",
       "      <td>1977</td>\n",
       "      <td>6000.0</td>\n",
       "      <td>NaN</td>\n",
       "      <td>309 ANG MO KIO AVE 1</td>\n",
       "      <td>1.366558</td>\n",
       "      <td>103.841624</td>\n",
       "      <td>0.000000</td>\n",
       "      <td>104.434561</td>\n",
       "      <td>781.530960</td>\n",
       "      <td>0.000000</td>\n",
       "      <td>8765.007560</td>\n",
       "    </tr>\n",
       "    <tr>\n",
       "      <th>4</th>\n",
       "      <td>1990-01</td>\n",
       "      <td>ANG MO KIO</td>\n",
       "      <td>3 ROOM</td>\n",
       "      <td>216</td>\n",
       "      <td>ANG MO KIO AVE 1</td>\n",
       "      <td>04 TO 06</td>\n",
       "      <td>73.0</td>\n",
       "      <td>NEW GENERATION</td>\n",
       "      <td>1976</td>\n",
       "      <td>47200.0</td>\n",
       "      <td>NaN</td>\n",
       "      <td>216 ANG MO KIO AVE 1</td>\n",
       "      <td>1.366197</td>\n",
       "      <td>103.841505</td>\n",
       "      <td>42.113407</td>\n",
       "      <td>145.364227</td>\n",
       "      <td>800.632183</td>\n",
       "      <td>42.113407</td>\n",
       "      <td>8727.095898</td>\n",
       "    </tr>\n",
       "  </tbody>\n",
       "</table>\n",
       "</div>"
      ],
      "text/plain": [
       "     month        town flat_type block       street_name storey_range  \\\n",
       "0  1990-01  ANG MO KIO    1 ROOM   309  ANG MO KIO AVE 1     10 TO 12   \n",
       "1  1990-01  ANG MO KIO    1 ROOM   309  ANG MO KIO AVE 1     04 TO 06   \n",
       "2  1990-01  ANG MO KIO    1 ROOM   309  ANG MO KIO AVE 1     10 TO 12   \n",
       "3  1990-01  ANG MO KIO    1 ROOM   309  ANG MO KIO AVE 1     07 TO 09   \n",
       "4  1990-01  ANG MO KIO    3 ROOM   216  ANG MO KIO AVE 1     04 TO 06   \n",
       "\n",
       "   floor_area_sqm      flat_model  lease_commence_date  resale_price  \\\n",
       "0            31.0        IMPROVED                 1977        9000.0   \n",
       "1            31.0        IMPROVED                 1977        6000.0   \n",
       "2            31.0        IMPROVED                 1977        8000.0   \n",
       "3            31.0        IMPROVED                 1977        6000.0   \n",
       "4            73.0  NEW GENERATION                 1976       47200.0   \n",
       "\n",
       "  remaining_lease               address  latitude   longitude  \\\n",
       "0             NaN  309 ANG MO KIO AVE 1  1.366558  103.841624   \n",
       "1             NaN  309 ANG MO KIO AVE 1  1.366558  103.841624   \n",
       "2             NaN  309 ANG MO KIO AVE 1  1.366558  103.841624   \n",
       "3             NaN  309 ANG MO KIO AVE 1  1.366558  103.841624   \n",
       "4             NaN  216 ANG MO KIO AVE 1  1.366197  103.841505   \n",
       "\n",
       "   nearest_supermarket_distance  nearest_school_distance  \\\n",
       "0                      0.000000               104.434561   \n",
       "1                      0.000000               104.434561   \n",
       "2                      0.000000               104.434561   \n",
       "3                      0.000000               104.434561   \n",
       "4                     42.113407               145.364227   \n",
       "\n",
       "   nearest_mrt_distance  nearest_hawkers_distance  cbd_distance  \n",
       "0            781.530960                  0.000000   8765.007560  \n",
       "1            781.530960                  0.000000   8765.007560  \n",
       "2            781.530960                  0.000000   8765.007560  \n",
       "3            781.530960                  0.000000   8765.007560  \n",
       "4            800.632183                 42.113407   8727.095898  "
      ]
     },
     "execution_count": 4,
     "metadata": {},
     "output_type": "execute_result"
    }
   ],
   "source": [
    "hdb_df.head()"
   ]
  },
  {
   "cell_type": "markdown",
   "id": "9429ed43",
   "metadata": {},
   "source": [
    "# Data Cleaning"
   ]
  },
  {
   "cell_type": "markdown",
   "id": "5b7f4860",
   "metadata": {},
   "source": [
    "### remaining lease years calculation"
   ]
  },
  {
   "cell_type": "code",
   "execution_count": 5,
   "id": "c927c395",
   "metadata": {},
   "outputs": [],
   "source": [
    "# convert year of sale to int\n",
    "hdb_df['year_of_sale'] = hdb_df['month'].str[:4].astype('int64')"
   ]
  },
  {
   "cell_type": "code",
   "execution_count": 6,
   "id": "6ec0ed63",
   "metadata": {},
   "outputs": [
    {
     "name": "stdout",
     "output_type": "stream",
     "text": [
      "<class 'pandas.core.frame.DataFrame'>\n",
      "Int64Index: 51 entries, 23271 to 634577\n",
      "Data columns (total 20 columns):\n",
      " #   Column                        Non-Null Count  Dtype  \n",
      "---  ------                        --------------  -----  \n",
      " 0   month                         51 non-null     object \n",
      " 1   town                          51 non-null     object \n",
      " 2   flat_type                     51 non-null     object \n",
      " 3   block                         51 non-null     object \n",
      " 4   street_name                   51 non-null     object \n",
      " 5   storey_range                  51 non-null     object \n",
      " 6   floor_area_sqm                51 non-null     float64\n",
      " 7   flat_model                    51 non-null     object \n",
      " 8   lease_commence_date           51 non-null     int64  \n",
      " 9   resale_price                  51 non-null     float64\n",
      " 10  remaining_lease               0 non-null      object \n",
      " 11  address                       51 non-null     object \n",
      " 12  latitude                      51 non-null     float64\n",
      " 13  longitude                     51 non-null     float64\n",
      " 14  nearest_supermarket_distance  51 non-null     float64\n",
      " 15  nearest_school_distance       51 non-null     float64\n",
      " 16  nearest_mrt_distance          51 non-null     float64\n",
      " 17  nearest_hawkers_distance      51 non-null     float64\n",
      " 18  cbd_distance                  51 non-null     float64\n",
      " 19  year_of_sale                  51 non-null     int64  \n",
      "dtypes: float64(9), int64(2), object(9)\n",
      "memory usage: 8.4+ KB\n"
     ]
    }
   ],
   "source": [
    "hdb_df[hdb_df['lease_commence_date'] > hdb_df['year_of_sale']].info()"
   ]
  },
  {
   "cell_type": "code",
   "execution_count": 106,
   "id": "94e295bb",
   "metadata": {},
   "outputs": [],
   "source": [
    "# drop rows were lease commencement date is later than the year of sale\n",
    "hdb_df = hdb_df[hdb_df['lease_commence_date'] <= hdb_df['year_of_sale']]"
   ]
  },
  {
   "cell_type": "code",
   "execution_count": 107,
   "id": "0c1e83bb",
   "metadata": {},
   "outputs": [],
   "source": [
    "# calculate remaining lease\n",
    "hdb_df['calculated_remaining_lease'] = 99 - (hdb_df['year_of_sale'] - hdb_df['lease_commence_date'])\n",
    "hdb_df['calculated_remaining_lease'] = hdb_df['calculated_remaining_lease'].astype(float)"
   ]
  },
  {
   "cell_type": "markdown",
   "id": "33b9daaf",
   "metadata": {},
   "source": [
    "### flat model"
   ]
  },
  {
   "cell_type": "code",
   "execution_count": 108,
   "id": "a2cf94c1",
   "metadata": {},
   "outputs": [
    {
     "data": {
      "text/plain": [
       "array(['IMPROVED', 'NEW GENERATION', 'MODEL A', 'STANDARD', 'SIMPLIFIED',\n",
       "       'MODEL A-MAISONETTE', 'APARTMENT', 'MAISONETTE', 'TERRACE',\n",
       "       '2-ROOM', 'IMPROVED-MAISONETTE', 'MULTI GENERATION',\n",
       "       'PREMIUM APARTMENT', 'Improved', 'New Generation', 'Model A',\n",
       "       'Standard', 'Apartment', 'Simplified', 'Model A-Maisonette',\n",
       "       'Maisonette', 'Multi Generation', 'Adjoined flat',\n",
       "       'Premium Apartment', 'Terrace', 'Improved-Maisonette',\n",
       "       'Premium Maisonette', '2-room', 'Model A2', 'DBSS', 'Type S1',\n",
       "       'Type S2', 'Premium Apartment Loft', '3Gen'], dtype=object)"
      ]
     },
     "execution_count": 108,
     "metadata": {},
     "output_type": "execute_result"
    }
   ],
   "source": [
    "hdb_df['flat_model'].unique()"
   ]
  },
  {
   "cell_type": "code",
   "execution_count": 109,
   "id": "5efd1a46",
   "metadata": {},
   "outputs": [],
   "source": [
    "flat_model_dict = {\n",
    "    'MODEL A': 'Model A',\n",
    "    'IMPROVED': 'Improved',\n",
    "    'NEW GENERATION': 'New Generation',\n",
    "    'STANDARD': 'Standard',\n",
    "    'SIMPLIFIED': 'Simplified',\n",
    "    'MODEL A-MAISONETTE': 'Model A-Maisonette',\n",
    "    'APARTMENT': 'Apartment',\n",
    "    'MAISONETTE': 'Maisonette',\n",
    "    'TERRACE': 'Terrace',\n",
    "    '2-ROOM': '2-Room',\n",
    "    '2-room': '2-Room',\n",
    "    'IMPROVED-MAISONETTE': 'Improved-Maisonette',\n",
    "    'MULTI GENERATION': 'Multi Generation',\n",
    "    'PREMIUM APARTMENT': 'Premium Apartment'    \n",
    "}"
   ]
  },
  {
   "cell_type": "code",
   "execution_count": 110,
   "id": "8fad70d7",
   "metadata": {},
   "outputs": [],
   "source": [
    "hdb_df['flat_model'] = hdb_df['flat_model'].replace(flat_model_dict)"
   ]
  },
  {
   "cell_type": "code",
   "execution_count": 111,
   "id": "19f20c29",
   "metadata": {},
   "outputs": [
    {
     "data": {
      "text/plain": [
       "array(['Improved', 'New Generation', 'Model A', 'Standard', 'Simplified',\n",
       "       'Model A-Maisonette', 'Apartment', 'Maisonette', 'Terrace',\n",
       "       '2-Room', 'Improved-Maisonette', 'Multi Generation',\n",
       "       'Premium Apartment', 'Adjoined flat', 'Premium Maisonette',\n",
       "       'Model A2', 'DBSS', 'Type S1', 'Type S2', 'Premium Apartment Loft',\n",
       "       '3Gen'], dtype=object)"
      ]
     },
     "execution_count": 111,
     "metadata": {},
     "output_type": "execute_result"
    }
   ],
   "source": [
    "hdb_df['flat_model'].unique()"
   ]
  },
  {
   "cell_type": "markdown",
   "id": "84538056",
   "metadata": {},
   "source": [
    "### flat_type"
   ]
  },
  {
   "cell_type": "code",
   "execution_count": 112,
   "id": "ebf4bad1",
   "metadata": {},
   "outputs": [
    {
     "data": {
      "text/plain": [
       "array(['1 ROOM', '3 ROOM', '4 ROOM', '5 ROOM', '2 ROOM', 'EXECUTIVE',\n",
       "       'MULTI GENERATION', 'MULTI-GENERATION'], dtype=object)"
      ]
     },
     "execution_count": 112,
     "metadata": {},
     "output_type": "execute_result"
    }
   ],
   "source": [
    "hdb_df['flat_type'].unique()"
   ]
  },
  {
   "cell_type": "code",
   "execution_count": 113,
   "id": "fed2da8c",
   "metadata": {},
   "outputs": [],
   "source": [
    "# combine the MULTI-GENERATION and MULTI GENERATION labels into a single category\n",
    "hdb_df['flat_type'] = hdb_df['flat_type'].replace('MULTI-GENERATION', 'MULTI GENERATION')"
   ]
  },
  {
   "cell_type": "code",
   "execution_count": 114,
   "id": "19f39609",
   "metadata": {},
   "outputs": [
    {
     "data": {
      "text/plain": [
       "array(['1 ROOM', '3 ROOM', '4 ROOM', '5 ROOM', '2 ROOM', 'EXECUTIVE',\n",
       "       'MULTI GENERATION'], dtype=object)"
      ]
     },
     "execution_count": 114,
     "metadata": {},
     "output_type": "execute_result"
    }
   ],
   "source": [
    "hdb_df['flat_type'].unique()"
   ]
  },
  {
   "cell_type": "markdown",
   "id": "d088885c",
   "metadata": {},
   "source": [
    "### Storey range"
   ]
  },
  {
   "cell_type": "code",
   "execution_count": 115,
   "id": "7a021cdc",
   "metadata": {},
   "outputs": [
    {
     "data": {
      "text/plain": [
       "array(['10 TO 12', '04 TO 06', '07 TO 09', '01 TO 03', '13 TO 15',\n",
       "       '19 TO 21', '16 TO 18', '25 TO 27', '22 TO 24', '28 TO 30',\n",
       "       '31 TO 33', '40 TO 42', '37 TO 39', '34 TO 36', '06 TO 10',\n",
       "       '01 TO 05', '11 TO 15', '16 TO 20', '21 TO 25', '26 TO 30',\n",
       "       '36 TO 40', '31 TO 35', '46 TO 48', '43 TO 45', '49 TO 51'],\n",
       "      dtype=object)"
      ]
     },
     "execution_count": 115,
     "metadata": {},
     "output_type": "execute_result"
    }
   ],
   "source": [
    "hdb_df['storey_range'].unique()"
   ]
  },
  {
   "cell_type": "code",
   "execution_count": 116,
   "id": "281a1ff6",
   "metadata": {},
   "outputs": [],
   "source": [
    "# get median of storey range\n",
    "def get_median(x):\n",
    "    split_list = x.split(' TO ')\n",
    "    float_list = [float(i) for i in split_list]\n",
    "    median = statistics.median(float_list)\n",
    "    return median\n",
    "\n",
    "hdb_df['storey_median'] = hdb_df['storey_range'].apply(lambda x: get_median(x)).astype('int64')"
   ]
  },
  {
   "cell_type": "code",
   "execution_count": 117,
   "id": "210a56c2",
   "metadata": {},
   "outputs": [
    {
     "data": {
      "text/plain": [
       "array([11,  5,  8,  2, 14, 20, 17, 26, 23, 29, 32, 41, 38, 35,  3, 13, 18,\n",
       "       28, 33, 47, 44, 50], dtype=int64)"
      ]
     },
     "execution_count": 117,
     "metadata": {},
     "output_type": "execute_result"
    }
   ],
   "source": [
    "hdb_df['storey_median'].unique()"
   ]
  },
  {
   "cell_type": "code",
   "execution_count": 118,
   "id": "0e65c43f",
   "metadata": {},
   "outputs": [],
   "source": [
    "# calculate price per sqm\n",
    "hdb_df['price_per_sqm'] = hdb_df['resale_price']/hdb_df['floor_area_sqm']"
   ]
  },
  {
   "cell_type": "code",
   "execution_count": 119,
   "id": "f5c3b681",
   "metadata": {},
   "outputs": [],
   "source": [
    "# renaming date columns\n",
    "hdb_df.rename(columns={'month': 'month_of_sale'}, inplace=True)"
   ]
  },
  {
   "cell_type": "code",
   "execution_count": 120,
   "id": "781aa888",
   "metadata": {},
   "outputs": [],
   "source": [
    "# drop remaining_lease column\n",
    "hdb_df.drop(columns=['remaining_lease'], inplace=True)"
   ]
  },
  {
   "cell_type": "code",
   "execution_count": 121,
   "id": "94b405c0",
   "metadata": {},
   "outputs": [],
   "source": [
    "# drop duplicate rows\n",
    "hdb_df = hdb_df.drop_duplicates()"
   ]
  },
  {
   "cell_type": "code",
   "execution_count": 122,
   "id": "afa0a7b2",
   "metadata": {},
   "outputs": [
    {
     "name": "stdout",
     "output_type": "stream",
     "text": [
      "<class 'pandas.core.frame.DataFrame'>\n",
      "Int64Index: 917393 entries, 0 to 919407\n",
      "Data columns (total 22 columns):\n",
      " #   Column                        Non-Null Count   Dtype  \n",
      "---  ------                        --------------   -----  \n",
      " 0   month_of_sale                 917393 non-null  object \n",
      " 1   town                          917393 non-null  object \n",
      " 2   flat_type                     917393 non-null  object \n",
      " 3   block                         917393 non-null  object \n",
      " 4   street_name                   917393 non-null  object \n",
      " 5   storey_range                  917393 non-null  object \n",
      " 6   floor_area_sqm                917393 non-null  float64\n",
      " 7   flat_model                    917393 non-null  object \n",
      " 8   lease_commence_date           917393 non-null  int64  \n",
      " 9   resale_price                  917393 non-null  float64\n",
      " 10  address                       917393 non-null  object \n",
      " 11  latitude                      917393 non-null  float64\n",
      " 12  longitude                     917393 non-null  float64\n",
      " 13  nearest_supermarket_distance  917393 non-null  float64\n",
      " 14  nearest_school_distance       917393 non-null  float64\n",
      " 15  nearest_mrt_distance          917393 non-null  float64\n",
      " 16  nearest_hawkers_distance      917393 non-null  float64\n",
      " 17  cbd_distance                  917393 non-null  float64\n",
      " 18  year_of_sale                  917393 non-null  int64  \n",
      " 19  calculated_remaining_lease    917393 non-null  float64\n",
      " 20  storey_median                 917393 non-null  int64  \n",
      " 21  price_per_sqm                 917393 non-null  float64\n",
      "dtypes: float64(11), int64(3), object(8)\n",
      "memory usage: 161.0+ MB\n"
     ]
    }
   ],
   "source": [
    "hdb_df.info()"
   ]
  },
  {
   "cell_type": "code",
   "execution_count": 123,
   "id": "44010b48",
   "metadata": {},
   "outputs": [],
   "source": [
    "hdb_df.to_csv('data/hdb_combined_clean.csv', index=False)"
   ]
  },
  {
   "cell_type": "code",
   "execution_count": null,
   "id": "c5c22171",
   "metadata": {},
   "outputs": [],
   "source": []
  },
  {
   "cell_type": "code",
   "execution_count": null,
   "id": "fe1a8928",
   "metadata": {},
   "outputs": [],
   "source": []
  }
 ],
 "metadata": {
  "kernelspec": {
   "display_name": "Python 3 (ipykernel)",
   "language": "python",
   "name": "python3"
  },
  "language_info": {
   "codemirror_mode": {
    "name": "ipython",
    "version": 3
   },
   "file_extension": ".py",
   "mimetype": "text/x-python",
   "name": "python",
   "nbconvert_exporter": "python",
   "pygments_lexer": "ipython3",
   "version": "3.9.12"
  }
 },
 "nbformat": 4,
 "nbformat_minor": 5
}
