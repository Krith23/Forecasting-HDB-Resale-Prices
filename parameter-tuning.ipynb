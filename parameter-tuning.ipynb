{
 "cells": [
  {
   "cell_type": "code",
   "execution_count": 8,
   "metadata": {
    "execution": {
     "iopub.execute_input": "2024-10-20T19:17:04.719101Z",
     "iopub.status.busy": "2024-10-20T19:17:04.718126Z",
     "iopub.status.idle": "2024-10-20T19:17:16.298614Z",
     "shell.execute_reply": "2024-10-20T19:17:16.297492Z",
     "shell.execute_reply.started": "2024-10-20T19:17:04.719057Z"
    }
   },
   "outputs": [
    {
     "name": "stdout",
     "output_type": "stream",
     "text": [
      "Requirement already satisfied: scikit-learn==1.5.2 in /opt/conda/lib/python3.10/site-packages (1.5.2)\n",
      "Requirement already satisfied: numpy>=1.19.5 in /opt/conda/lib/python3.10/site-packages (from scikit-learn==1.5.2) (1.26.4)\n",
      "Requirement already satisfied: scipy>=1.6.0 in /opt/conda/lib/python3.10/site-packages (from scikit-learn==1.5.2) (1.14.1)\n",
      "Requirement already satisfied: joblib>=1.2.0 in /opt/conda/lib/python3.10/site-packages (from scikit-learn==1.5.2) (1.4.2)\n",
      "Requirement already satisfied: threadpoolctl>=3.1.0 in /opt/conda/lib/python3.10/site-packages (from scikit-learn==1.5.2) (3.5.0)\n",
      "Note: you may need to restart the kernel to use updated packages.\n"
     ]
    }
   ],
   "source": [
    "pip install scikit-learn==1.5.2"
   ]
  },
  {
   "cell_type": "code",
   "execution_count": 2,
   "metadata": {
    "execution": {
     "iopub.execute_input": "2024-10-20T18:42:31.217376Z",
     "iopub.status.busy": "2024-10-20T18:42:31.216968Z",
     "iopub.status.idle": "2024-10-20T18:42:42.722767Z",
     "shell.execute_reply": "2024-10-20T18:42:42.721457Z",
     "shell.execute_reply.started": "2024-10-20T18:42:31.217340Z"
    }
   },
   "outputs": [
    {
     "name": "stdout",
     "output_type": "stream",
     "text": [
      "Requirement already satisfied: xgboost==2.1.1 in /opt/conda/lib/python3.10/site-packages (2.1.1)\n",
      "Requirement already satisfied: numpy in /opt/conda/lib/python3.10/site-packages (from xgboost==2.1.1) (1.26.4)\n",
      "Requirement already satisfied: nvidia-nccl-cu12 in /opt/conda/lib/python3.10/site-packages (from xgboost==2.1.1) (2.23.4)\n",
      "Requirement already satisfied: scipy in /opt/conda/lib/python3.10/site-packages (from xgboost==2.1.1) (1.14.1)\n",
      "Note: you may need to restart the kernel to use updated packages.\n"
     ]
    }
   ],
   "source": [
    "pip install xgboost==2.1.1"
   ]
  },
  {
   "cell_type": "code",
   "execution_count": 9,
   "metadata": {
    "execution": {
     "iopub.execute_input": "2024-10-20T19:17:19.824587Z",
     "iopub.status.busy": "2024-10-20T19:17:19.823788Z",
     "iopub.status.idle": "2024-10-20T19:17:19.831822Z",
     "shell.execute_reply": "2024-10-20T19:17:19.830703Z",
     "shell.execute_reply.started": "2024-10-20T19:17:19.824537Z"
    }
   },
   "outputs": [],
   "source": [
    "import pandas as pd\n",
    "import numpy as np\n",
    "import joblib\n",
    "import matplotlib.pyplot as plt\n",
    "from sklearn.linear_model import LinearRegression\n",
    "from sklearn.model_selection import train_test_split\n",
    "from sklearn.preprocessing import StandardScaler, LabelEncoder\n",
    "from sklearn.metrics import mean_absolute_error, mean_squared_error, r2_score\n",
    "from sklearn.model_selection import GridSearchCV\n",
    "\n",
    "\n",
    "from sklearn.tree import DecisionTreeRegressor\n",
    "from sklearn.ensemble import RandomForestRegressor, GradientBoostingRegressor\n",
    "from xgboost import XGBRegressor\n",
    "from sklearn.neighbors import KNeighborsRegressor\n",
    "from sklearn.linear_model import LinearRegression, Lasso, Ridge\n",
    "from sklearn.metrics import mean_squared_error, r2_score, mean_absolute_error"
   ]
  },
  {
   "cell_type": "code",
   "execution_count": 10,
   "metadata": {
    "execution": {
     "iopub.execute_input": "2024-10-20T19:17:22.195027Z",
     "iopub.status.busy": "2024-10-20T19:17:22.194637Z",
     "iopub.status.idle": "2024-10-20T19:17:29.743553Z",
     "shell.execute_reply": "2024-10-20T19:17:29.742745Z",
     "shell.execute_reply.started": "2024-10-20T19:17:22.194990Z"
    }
   },
   "outputs": [],
   "source": [
    "hdb_df = pd.read_csv('/kaggle/input/hdb-dataset/hdb_combined_clean.csv', low_memory=False)"
   ]
  },
  {
   "cell_type": "code",
   "execution_count": 34,
   "metadata": {
    "execution": {
     "iopub.execute_input": "2024-10-20T20:15:41.166254Z",
     "iopub.status.busy": "2024-10-20T20:15:41.165230Z",
     "iopub.status.idle": "2024-10-20T20:15:41.265366Z",
     "shell.execute_reply": "2024-10-20T20:15:41.264401Z",
     "shell.execute_reply.started": "2024-10-20T20:15:41.166174Z"
    }
   },
   "outputs": [
    {
     "data": {
      "text/plain": [
       "(90679, 62)"
      ]
     },
     "execution_count": 34,
     "metadata": {},
     "output_type": "execute_result"
    }
   ],
   "source": [
    "sample_df = hdb_df.sample(frac=0.1, random_state=42)\n",
    "sample_df.shape"
   ]
  },
  {
   "cell_type": "code",
   "execution_count": 35,
   "metadata": {
    "execution": {
     "iopub.execute_input": "2024-10-20T20:15:44.834623Z",
     "iopub.status.busy": "2024-10-20T20:15:44.834146Z",
     "iopub.status.idle": "2024-10-20T20:15:44.965408Z",
     "shell.execute_reply": "2024-10-20T20:15:44.964417Z",
     "shell.execute_reply.started": "2024-10-20T20:15:44.834581Z"
    }
   },
   "outputs": [],
   "source": [
    "# Split features and target (assuming 'resale_price' is the target)\n",
    "X = sample_df.drop(columns=['resale_price'])\n",
    "y = sample_df['resale_price']\n",
    "\n",
    "# Train-test split (80-20)\n",
    "X_train, X_test, y_train, y_test = train_test_split(X, y, test_size=0.2, random_state=42)\n",
    "\n",
    "# Scaling features (only for models sensitive to scale like linear regression or neural networks)\n",
    "scaler = StandardScaler()\n",
    "X_train_scaled = scaler.fit_transform(X_train)\n",
    "X_test_scaled = scaler.transform(X_test)\n",
    "\n",
    "# To calculate adjusted r2 later\n",
    "n = len(y_test)  \n",
    "p = X_train_scaled.shape[1]\n"
   ]
  },
  {
   "cell_type": "code",
   "execution_count": 47,
   "metadata": {
    "execution": {
     "iopub.execute_input": "2024-10-20T20:47:09.848357Z",
     "iopub.status.busy": "2024-10-20T20:47:09.847923Z",
     "iopub.status.idle": "2024-10-20T20:47:09.853816Z",
     "shell.execute_reply": "2024-10-20T20:47:09.852926Z",
     "shell.execute_reply.started": "2024-10-20T20:47:09.848318Z"
    }
   },
   "outputs": [
    {
     "name": "stdout",
     "output_type": "stream",
     "text": [
      "hello\n"
     ]
    }
   ],
   "source": [
    "print('hello')"
   ]
  },
  {
   "cell_type": "markdown",
   "metadata": {},
   "source": [
    "### Decision Tree"
   ]
  },
  {
   "cell_type": "code",
   "execution_count": 18,
   "metadata": {
    "execution": {
     "iopub.execute_input": "2024-10-20T19:22:53.425531Z",
     "iopub.status.busy": "2024-10-20T19:22:53.425080Z",
     "iopub.status.idle": "2024-10-20T19:23:30.935867Z",
     "shell.execute_reply": "2024-10-20T19:23:30.934543Z",
     "shell.execute_reply.started": "2024-10-20T19:22:53.425489Z"
    }
   },
   "outputs": [
    {
     "name": "stdout",
     "output_type": "stream",
     "text": [
      "Fitting 5 folds for each of 27 candidates, totalling 135 fits\n",
      "[CV] END max_depth=10, min_samples_leaf=1, min_samples_split=2; total time=   0.7s\n",
      "[CV] END max_depth=10, min_samples_leaf=1, min_samples_split=2; total time=   0.7s\n",
      "[CV] END max_depth=10, min_samples_leaf=1, min_samples_split=2; total time=   0.7s\n",
      "[CV] END max_depth=10, min_samples_leaf=1, min_samples_split=2; total time=   0.7s\n",
      "[CV] END max_depth=10, min_samples_leaf=1, min_samples_split=2; total time=   0.7s\n",
      "[CV] END max_depth=10, min_samples_leaf=1, min_samples_split=5; total time=   0.7s\n",
      "[CV] END max_depth=10, min_samples_leaf=1, min_samples_split=5; total time=   0.7s\n",
      "[CV] END max_depth=10, min_samples_leaf=1, min_samples_split=5; total time=   0.7s\n",
      "[CV] END max_depth=10, min_samples_leaf=1, min_samples_split=5; total time=   0.7s\n",
      "[CV] END max_depth=10, min_samples_leaf=1, min_samples_split=10; total time=   0.7s\n",
      "[CV] END max_depth=10, min_samples_leaf=1, min_samples_split=5; total time=   0.7s\n",
      "[CV] END max_depth=10, min_samples_leaf=1, min_samples_split=10; total time=   0.7s\n",
      "[CV] END max_depth=10, min_samples_leaf=1, min_samples_split=10; total time=   0.7s\n",
      "[CV] END max_depth=10, min_samples_leaf=1, min_samples_split=10; total time=   0.7s\n",
      "[CV] END max_depth=10, min_samples_leaf=1, min_samples_split=10; total time=   0.7s\n",
      "[CV] END max_depth=10, min_samples_leaf=2, min_samples_split=2; total time=   0.7s\n",
      "[CV] END max_depth=10, min_samples_leaf=2, min_samples_split=2; total time=   0.7s\n",
      "[CV] END max_depth=10, min_samples_leaf=2, min_samples_split=2; total time=   0.7s\n",
      "[CV] END max_depth=10, min_samples_leaf=2, min_samples_split=2; total time=   0.7s\n",
      "[CV] END max_depth=10, min_samples_leaf=2, min_samples_split=2; total time=   0.7s\n",
      "[CV] END max_depth=10, min_samples_leaf=2, min_samples_split=5; total time=   0.7s\n",
      "[CV] END max_depth=10, min_samples_leaf=2, min_samples_split=5; total time=   0.7s\n",
      "[CV] END max_depth=10, min_samples_leaf=2, min_samples_split=5; total time=   0.7s\n",
      "[CV] END max_depth=10, min_samples_leaf=2, min_samples_split=5; total time=   0.7s\n",
      "[CV] END max_depth=10, min_samples_leaf=2, min_samples_split=5; total time=   0.7s\n",
      "[CV] END max_depth=10, min_samples_leaf=2, min_samples_split=10; total time=   0.7s\n",
      "[CV] END max_depth=10, min_samples_leaf=2, min_samples_split=10; total time=   0.7s\n",
      "[CV] END max_depth=10, min_samples_leaf=2, min_samples_split=10; total time=   0.8s\n",
      "[CV] END max_depth=10, min_samples_leaf=2, min_samples_split=10; total time=   0.8s\n",
      "[CV] END max_depth=10, min_samples_leaf=4, min_samples_split=2; total time=   0.9s\n",
      "[CV] END max_depth=10, min_samples_leaf=2, min_samples_split=10; total time=   1.0s\n",
      "[CV] END max_depth=10, min_samples_leaf=4, min_samples_split=2; total time=   1.0s\n",
      "[CV] END max_depth=10, min_samples_leaf=4, min_samples_split=2; total time=   0.9s\n",
      "[CV] END max_depth=10, min_samples_leaf=4, min_samples_split=2; total time=   0.9s\n",
      "[CV] END max_depth=10, min_samples_leaf=4, min_samples_split=5; total time=   1.0s\n",
      "[CV] END max_depth=10, min_samples_leaf=4, min_samples_split=2; total time=   1.2s\n",
      "[CV] END max_depth=10, min_samples_leaf=4, min_samples_split=5; total time=   0.7s\n",
      "[CV] END max_depth=10, min_samples_leaf=4, min_samples_split=5; total time=   0.8s\n",
      "[CV] END max_depth=10, min_samples_leaf=4, min_samples_split=5; total time=   0.7s\n",
      "[CV] END max_depth=10, min_samples_leaf=4, min_samples_split=5; total time=   0.7s\n",
      "[CV] END max_depth=10, min_samples_leaf=4, min_samples_split=10; total time=   0.7s\n",
      "[CV] END max_depth=10, min_samples_leaf=4, min_samples_split=10; total time=   0.7s\n",
      "[CV] END max_depth=10, min_samples_leaf=4, min_samples_split=10; total time=   0.7s\n",
      "[CV] END max_depth=10, min_samples_leaf=4, min_samples_split=10; total time=   0.7s\n",
      "[CV] END max_depth=10, min_samples_leaf=4, min_samples_split=10; total time=   0.7s\n",
      "[CV] END max_depth=20, min_samples_leaf=1, min_samples_split=2; total time=   1.2s\n",
      "[CV] END max_depth=20, min_samples_leaf=1, min_samples_split=2; total time=   1.2s\n",
      "[CV] END max_depth=20, min_samples_leaf=1, min_samples_split=2; total time=   1.2s\n",
      "[CV] END max_depth=20, min_samples_leaf=1, min_samples_split=2; total time=   1.2s\n",
      "[CV] END max_depth=20, min_samples_leaf=1, min_samples_split=2; total time=   1.2s\n",
      "[CV] END max_depth=20, min_samples_leaf=1, min_samples_split=5; total time=   1.1s\n",
      "[CV] END max_depth=20, min_samples_leaf=1, min_samples_split=5; total time=   1.1s\n",
      "[CV] END max_depth=20, min_samples_leaf=1, min_samples_split=5; total time=   1.1s\n",
      "[CV] END max_depth=20, min_samples_leaf=1, min_samples_split=5; total time=   1.1s\n",
      "[CV] END max_depth=20, min_samples_leaf=1, min_samples_split=5; total time=   1.1s\n",
      "[CV] END max_depth=20, min_samples_leaf=1, min_samples_split=10; total time=   1.1s\n",
      "[CV] END max_depth=20, min_samples_leaf=1, min_samples_split=10; total time=   1.1s\n",
      "[CV] END max_depth=20, min_samples_leaf=1, min_samples_split=10; total time=   1.1s\n",
      "[CV] END max_depth=20, min_samples_leaf=1, min_samples_split=10; total time=   1.1s\n",
      "[CV] END max_depth=20, min_samples_leaf=1, min_samples_split=10; total time=   1.1s\n",
      "[CV] END max_depth=20, min_samples_leaf=2, min_samples_split=2; total time=   1.1s\n",
      "[CV] END max_depth=20, min_samples_leaf=2, min_samples_split=2; total time=   1.1s\n",
      "[CV] END max_depth=20, min_samples_leaf=2, min_samples_split=2; total time=   1.1s\n",
      "[CV] END max_depth=20, min_samples_leaf=2, min_samples_split=2; total time=   1.1s\n",
      "[CV] END max_depth=20, min_samples_leaf=2, min_samples_split=2; total time=   1.1s\n",
      "[CV] END max_depth=20, min_samples_leaf=2, min_samples_split=5; total time=   1.1s\n",
      "[CV] END max_depth=20, min_samples_leaf=2, min_samples_split=5; total time=   1.1s\n",
      "[CV] END max_depth=20, min_samples_leaf=2, min_samples_split=5; total time=   1.1s\n",
      "[CV] END max_depth=20, min_samples_leaf=2, min_samples_split=5; total time=   1.1s\n",
      "[CV] END max_depth=20, min_samples_leaf=2, min_samples_split=10; total time=   1.1s\n",
      "[CV] END max_depth=20, min_samples_leaf=2, min_samples_split=5; total time=   1.2s\n",
      "[CV] END max_depth=20, min_samples_leaf=2, min_samples_split=10; total time=   1.1s\n",
      "[CV] END max_depth=20, min_samples_leaf=2, min_samples_split=10; total time=   1.1s\n",
      "[CV] END max_depth=20, min_samples_leaf=2, min_samples_split=10; total time=   1.0s\n",
      "[CV] END max_depth=20, min_samples_leaf=4, min_samples_split=2; total time=   1.0s\n",
      "[CV] END max_depth=20, min_samples_leaf=2, min_samples_split=10; total time=   1.1s\n",
      "[CV] END max_depth=20, min_samples_leaf=4, min_samples_split=2; total time=   1.0s\n",
      "[CV] END max_depth=20, min_samples_leaf=4, min_samples_split=2; total time=   1.0s\n",
      "[CV] END max_depth=20, min_samples_leaf=4, min_samples_split=2; total time=   1.1s\n",
      "[CV] END max_depth=20, min_samples_leaf=4, min_samples_split=2; total time=   1.1s\n",
      "[CV] END max_depth=20, min_samples_leaf=4, min_samples_split=5; total time=   1.0s\n",
      "[CV] END max_depth=20, min_samples_leaf=4, min_samples_split=5; total time=   1.0s\n",
      "[CV] END max_depth=20, min_samples_leaf=4, min_samples_split=5; total time=   1.0s\n",
      "[CV] END max_depth=20, min_samples_leaf=4, min_samples_split=5; total time=   1.0s\n",
      "[CV] END max_depth=20, min_samples_leaf=4, min_samples_split=5; total time=   1.0s\n",
      "[CV] END max_depth=20, min_samples_leaf=4, min_samples_split=10; total time=   1.0s\n",
      "[CV] END max_depth=20, min_samples_leaf=4, min_samples_split=10; total time=   1.0s\n",
      "[CV] END max_depth=20, min_samples_leaf=4, min_samples_split=10; total time=   1.0s\n",
      "[CV] END max_depth=20, min_samples_leaf=4, min_samples_split=10; total time=   1.0s\n",
      "[CV] END max_depth=20, min_samples_leaf=4, min_samples_split=10; total time=   1.0s\n",
      "[CV] END max_depth=30, min_samples_leaf=1, min_samples_split=2; total time=   1.4s\n",
      "[CV] END max_depth=30, min_samples_leaf=1, min_samples_split=2; total time=   1.4s\n",
      "[CV] END max_depth=30, min_samples_leaf=1, min_samples_split=2; total time=   1.4s\n",
      "[CV] END max_depth=30, min_samples_leaf=1, min_samples_split=2; total time=   1.4s\n",
      "[CV] END max_depth=30, min_samples_leaf=1, min_samples_split=5; total time=   1.3s\n",
      "[CV] END max_depth=30, min_samples_leaf=1, min_samples_split=2; total time=   1.5s\n",
      "[CV] END max_depth=30, min_samples_leaf=1, min_samples_split=5; total time=   1.3s\n",
      "[CV] END max_depth=30, min_samples_leaf=1, min_samples_split=5; total time=   1.3s\n",
      "[CV] END max_depth=30, min_samples_leaf=1, min_samples_split=5; total time=   1.3s\n",
      "[CV] END max_depth=30, min_samples_leaf=1, min_samples_split=10; total time=   1.2s\n",
      "[CV] END max_depth=30, min_samples_leaf=1, min_samples_split=5; total time=   1.3s\n",
      "[CV] END max_depth=30, min_samples_leaf=1, min_samples_split=10; total time=   1.1s\n",
      "[CV] END max_depth=30, min_samples_leaf=1, min_samples_split=10; total time=   1.2s\n",
      "[CV] END max_depth=30, min_samples_leaf=1, min_samples_split=10; total time=   1.2s\n",
      "[CV] END max_depth=30, min_samples_leaf=1, min_samples_split=10; total time=   1.2s\n",
      "[CV] END max_depth=30, min_samples_leaf=2, min_samples_split=2; total time=   1.3s\n",
      "[CV] END max_depth=30, min_samples_leaf=2, min_samples_split=2; total time=   1.3s\n",
      "[CV] END max_depth=30, min_samples_leaf=2, min_samples_split=2; total time=   1.3s\n",
      "[CV] END max_depth=30, min_samples_leaf=2, min_samples_split=2; total time=   1.2s\n",
      "[CV] END max_depth=30, min_samples_leaf=2, min_samples_split=2; total time=   1.3s\n",
      "[CV] END max_depth=30, min_samples_leaf=2, min_samples_split=5; total time=   1.2s\n",
      "[CV] END max_depth=30, min_samples_leaf=2, min_samples_split=5; total time=   1.2s\n",
      "[CV] END max_depth=30, min_samples_leaf=2, min_samples_split=5; total time=   1.2s\n",
      "[CV] END max_depth=30, min_samples_leaf=2, min_samples_split=5; total time=   1.2s\n",
      "[CV] END max_depth=30, min_samples_leaf=2, min_samples_split=5; total time=   1.2s\n",
      "[CV] END max_depth=30, min_samples_leaf=2, min_samples_split=10; total time=   1.1s\n",
      "[CV] END max_depth=30, min_samples_leaf=2, min_samples_split=10; total time=   1.1s\n",
      "[CV] END max_depth=30, min_samples_leaf=2, min_samples_split=10; total time=   1.1s\n",
      "[CV] END max_depth=30, min_samples_leaf=2, min_samples_split=10; total time=   1.1s\n",
      "[CV] END max_depth=30, min_samples_leaf=2, min_samples_split=10; total time=   1.1s\n",
      "[CV] END max_depth=30, min_samples_leaf=4, min_samples_split=2; total time=   1.1s\n",
      "[CV] END max_depth=30, min_samples_leaf=4, min_samples_split=2; total time=   1.1s\n",
      "[CV] END max_depth=30, min_samples_leaf=4, min_samples_split=2; total time=   1.1s\n",
      "[CV] END max_depth=30, min_samples_leaf=4, min_samples_split=2; total time=   1.1s\n",
      "[CV] END max_depth=30, min_samples_leaf=4, min_samples_split=2; total time=   1.1s\n",
      "[CV] END max_depth=30, min_samples_leaf=4, min_samples_split=5; total time=   1.1s\n",
      "[CV] END max_depth=30, min_samples_leaf=4, min_samples_split=5; total time=   1.1s\n",
      "[CV] END max_depth=30, min_samples_leaf=4, min_samples_split=5; total time=   1.1s\n",
      "[CV] END max_depth=30, min_samples_leaf=4, min_samples_split=5; total time=   1.1s\n",
      "[CV] END max_depth=30, min_samples_leaf=4, min_samples_split=5; total time=   1.1s\n",
      "[CV] END max_depth=30, min_samples_leaf=4, min_samples_split=10; total time=   1.1s\n",
      "[CV] END max_depth=30, min_samples_leaf=4, min_samples_split=10; total time=   1.1s\n",
      "[CV] END max_depth=30, min_samples_leaf=4, min_samples_split=10; total time=   1.1s\n",
      "[CV] END max_depth=30, min_samples_leaf=4, min_samples_split=10; total time=   0.9s\n",
      "[CV] END max_depth=30, min_samples_leaf=4, min_samples_split=10; total time=   0.8s\n",
      "Best parameters: {'max_depth': 20, 'min_samples_leaf': 2, 'min_samples_split': 10}\n",
      "Test RMSE: 37536.875336777724\n",
      "Test R²: 0.9502\n"
     ]
    }
   ],
   "source": [
    "# Define the parameter grid to tune the hyperparameters\n",
    "param_grid = {\n",
    "    'max_depth': [10, 20, 30],\n",
    "    'min_samples_split': [2, 5, 10],\n",
    "    'min_samples_leaf': [1, 2, 4]\n",
    "}\n",
    "dtree_reg = DecisionTreeRegressor(random_state=42) # Initialize a decision tree regressor\n",
    "grid_search = GridSearchCV(estimator=dtree_reg, param_grid=param_grid, \n",
    "                           cv=5, n_jobs=-1, verbose=2, scoring='neg_mean_squared_error')\n",
    "grid_search.fit(X_train_scaled, y_train)\n",
    "best_dtree_reg = grid_search.best_estimator_ # Get the best estimator from the grid search\n",
    "y_pred = best_dtree_reg.predict(X_test_scaled)\n",
    "mse = mean_squared_error(y_test, y_pred)\n",
    "rmse = mse ** 0.5\n",
    "best_params = grid_search.best_params_\n",
    "print(f\"Best parameters: {best_params}\")\n",
    "print(f\"Test RMSE: {rmse}\")\n",
    "print(f\"Test R²: {r2_score(y_test, y_pred):.4f}\")\n"
   ]
  },
  {
   "cell_type": "code",
   "execution_count": 31,
   "metadata": {
    "execution": {
     "iopub.execute_input": "2024-10-20T20:13:11.934694Z",
     "iopub.status.busy": "2024-10-20T20:13:11.934027Z",
     "iopub.status.idle": "2024-10-20T20:13:12.785266Z",
     "shell.execute_reply": "2024-10-20T20:13:12.784080Z",
     "shell.execute_reply.started": "2024-10-20T20:13:11.934651Z"
    }
   },
   "outputs": [
    {
     "name": "stdout",
     "output_type": "stream",
     "text": [
      "Decision Tree:\n",
      "  R²: 0.9507\n",
      "  RMSE: 37371.2321\n",
      "  MAE: 24869.3571\n"
     ]
    }
   ],
   "source": [
    "# Decision Tree Regressor\n",
    "dt = DecisionTreeRegressor(max_depth= 20, min_samples_leaf=2, min_samples_split=10)\n",
    "dt.fit(X_train_scaled, y_train)\n",
    "dt_pred = dt.predict(X_test_scaled)\n",
    "\n",
    "r_squared = r2_score(y_test, dt_pred)\n",
    "adjusted_r_squared = 1 - ((1 - r_squared) * (n - 1) / (n - p - 1))\n",
    "rmse = np.sqrt(mean_squared_error(y_test, dt_pred))\n",
    "mae = mean_absolute_error(y_test, dt_pred)\n",
    "\n",
    "print(\"Decision Tree:\")\n",
    "print(f\"  R²: {r_squared:.4f}\")\n",
    "print(f\"  RMSE: {rmse:.4f}\")\n",
    "print(f\"  MAE: {mae:.4f}\")"
   ]
  },
  {
   "cell_type": "markdown",
   "metadata": {},
   "source": [
    "### Random Forest"
   ]
  },
  {
   "cell_type": "code",
   "execution_count": 23,
   "metadata": {
    "execution": {
     "iopub.execute_input": "2024-10-20T19:38:18.312907Z",
     "iopub.status.busy": "2024-10-20T19:38:18.312295Z",
     "iopub.status.idle": "2024-10-20T19:39:29.394174Z",
     "shell.execute_reply": "2024-10-20T19:39:29.393254Z",
     "shell.execute_reply.started": "2024-10-20T19:38:18.312866Z"
    }
   },
   "outputs": [
    {
     "name": "stdout",
     "output_type": "stream",
     "text": [
      "Random Forest:\n",
      "  R²: 0.9445\n",
      "  RMSE: 39655.1124\n",
      "  MAE: 28129.3877\n"
     ]
    }
   ],
   "source": [
    "# Random Forest Regressor\n",
    "rf = RandomForestRegressor(n_estimators=200, max_depth=10, random_state=42)\n",
    "rf.fit(X_train_scaled, y_train)\n",
    "rf_pred = rf.predict(X_test_scaled)\n",
    "\n",
    "r_squared = r2_score(y_test, rf_pred)\n",
    "rmse = np.sqrt(mean_squared_error(y_test, rf_pred))\n",
    "mae = mean_absolute_error(y_test, rf_pred)\n",
    "\n",
    "print(\"Random Forest:\")\n",
    "print(f\"  R²: {r_squared:.4f}\")\n",
    "print(f\"  RMSE: {rmse:.4f}\")\n",
    "print(f\"  MAE: {mae:.4f}\")"
   ]
  },
  {
   "cell_type": "code",
   "execution_count": 19,
   "metadata": {
    "execution": {
     "iopub.execute_input": "2024-10-20T19:23:48.471224Z",
     "iopub.status.busy": "2024-10-20T19:23:48.470822Z",
     "iopub.status.idle": "2024-10-20T19:34:15.159808Z",
     "shell.execute_reply": "2024-10-20T19:34:15.158523Z",
     "shell.execute_reply.started": "2024-10-20T19:23:48.471167Z"
    }
   },
   "outputs": [
    {
     "name": "stderr",
     "output_type": "stream",
     "text": [
      "/opt/conda/lib/python3.10/site-packages/sklearn/model_selection/_search.py:320: UserWarning: The total space of parameters 8 is smaller than n_iter=10. Running 8 iterations. For exhaustive searches, use GridSearchCV.\n",
      "  warnings.warn(\n"
     ]
    },
    {
     "name": "stdout",
     "output_type": "stream",
     "text": [
      "Fitting 3 folds for each of 8 candidates, totalling 24 fits\n",
      "[CV] END max_depth=10, min_samples_split=2, n_estimators=100; total time=  38.9s\n",
      "[CV] END max_depth=10, min_samples_split=2, n_estimators=100; total time=  39.1s\n",
      "[CV] END max_depth=10, min_samples_split=2, n_estimators=100; total time=  39.5s\n",
      "[CV] END max_depth=10, min_samples_split=2, n_estimators=200; total time= 1.3min\n",
      "[CV] END max_depth=10, min_samples_split=5, n_estimators=100; total time=  37.9s\n",
      "[CV] END max_depth=10, min_samples_split=2, n_estimators=200; total time= 1.3min\n",
      "[CV] END max_depth=10, min_samples_split=5, n_estimators=100; total time=  38.5s\n",
      "[CV] END max_depth=10, min_samples_split=5, n_estimators=100; total time=  38.5s\n",
      "[CV] END max_depth=10, min_samples_split=2, n_estimators=200; total time= 1.3min\n",
      "[CV] END max_depth=20, min_samples_split=2, n_estimators=100; total time= 1.1min\n",
      "[CV] END max_depth=10, min_samples_split=5, n_estimators=200; total time= 1.3min\n",
      "[CV] END max_depth=10, min_samples_split=5, n_estimators=200; total time= 1.2min\n",
      "[CV] END max_depth=10, min_samples_split=5, n_estimators=200; total time= 1.3min\n",
      "[CV] END max_depth=20, min_samples_split=2, n_estimators=100; total time= 1.1min\n",
      "[CV] END max_depth=20, min_samples_split=2, n_estimators=100; total time= 1.1min\n",
      "[CV] END max_depth=20, min_samples_split=5, n_estimators=100; total time= 1.0min\n",
      "[CV] END max_depth=20, min_samples_split=2, n_estimators=200; total time= 2.3min\n"
     ]
    },
    {
     "name": "stderr",
     "output_type": "stream",
     "text": [
      "/opt/conda/lib/python3.10/site-packages/joblib/externals/loky/process_executor.py:752: UserWarning: A worker stopped while some jobs were given to the executor. This can be caused by a too short worker timeout or by a memory leak.\n",
      "  warnings.warn(\n"
     ]
    },
    {
     "name": "stdout",
     "output_type": "stream",
     "text": [
      "[CV] END max_depth=20, min_samples_split=2, n_estimators=200; total time= 2.3min\n",
      "[CV] END max_depth=20, min_samples_split=5, n_estimators=100; total time= 1.1min\n",
      "[CV] END max_depth=20, min_samples_split=2, n_estimators=200; total time= 2.3min\n",
      "[CV] END max_depth=20, min_samples_split=5, n_estimators=100; total time= 1.1min\n",
      "[CV] END max_depth=20, min_samples_split=5, n_estimators=200; total time= 2.0min\n",
      "[CV] END max_depth=20, min_samples_split=5, n_estimators=200; total time= 1.6min\n",
      "[CV] END max_depth=20, min_samples_split=5, n_estimators=200; total time= 1.7min\n",
      "Mean Squared Error: 848090436.7709485\n",
      "Best Parameters: {'n_estimators': 200, 'min_samples_split': 2, 'max_depth': 20}\n",
      "Best Cross-Validation Score: -919940650.0316023\n"
     ]
    }
   ],
   "source": [
    "from sklearn.ensemble import RandomForestRegressor\n",
    "from sklearn.model_selection import RandomizedSearchCV\n",
    "from sklearn.metrics import mean_squared_error\n",
    "from tqdm import tqdm\n",
    "\n",
    "# Define a reduced parameter grid\n",
    "param_grid = {\n",
    "    'n_estimators': [100, 200],\n",
    "    'max_depth': [10, 20],\n",
    "    'min_samples_split': [2, 5],\n",
    "}\n",
    "\n",
    "# Initialize Random Forest model\n",
    "rf_model = RandomForestRegressor(random_state=42)\n",
    "\n",
    "# Set up randomized search\n",
    "random_search = RandomizedSearchCV(estimator=rf_model, param_distributions=param_grid, \n",
    "                                   n_iter=10, scoring='neg_mean_squared_error', \n",
    "                                   cv=3, n_jobs=-1, verbose=2, random_state=42)\n",
    "\n",
    "# Fit randomized search\n",
    "random_search.fit(X_train_scaled, y_train)\n",
    "\n",
    "# Evaluate the best model\n",
    "best_rf_model = random_search.best_estimator_\n",
    "y_pred = best_rf_model.predict(X_test_scaled)\n",
    "mse = mean_squared_error(y_test, y_pred)\n",
    "print(f'Mean Squared Error: {mse}')\n",
    "print(\"Best Parameters:\", random_search.best_params_)\n",
    "print(\"Best Cross-Validation Score:\", random_search.best_score_)"
   ]
  },
  {
   "cell_type": "code",
   "execution_count": 20,
   "metadata": {
    "execution": {
     "iopub.execute_input": "2024-10-20T19:35:11.724712Z",
     "iopub.status.busy": "2024-10-20T19:35:11.724287Z",
     "iopub.status.idle": "2024-10-20T19:35:11.734022Z",
     "shell.execute_reply": "2024-10-20T19:35:11.733267Z",
     "shell.execute_reply.started": "2024-10-20T19:35:11.724668Z"
    }
   },
   "outputs": [
    {
     "name": "stdout",
     "output_type": "stream",
     "text": [
      "Best Parameters: {'n_estimators': 200, 'min_samples_split': 2, 'max_depth': 20}\n",
      "Mean Squared Error: 848090436.7709\n",
      "Root Mean Squared Error: 29121.9923\n",
      "R² Score: 0.9700\n"
     ]
    }
   ],
   "source": [
    "mse = mean_squared_error(y_test, y_pred)\n",
    "rmse = np.sqrt(mse) \n",
    "r_squared = r2_score(y_test, y_pred)\n",
    "\n",
    "# Print results\n",
    "print(f\"Best Parameters: {random_search.best_params_}\")\n",
    "print(f\"Mean Squared Error: {mse:.4f}\")\n",
    "print(f\"Root Mean Squared Error: {rmse:.4f}\")\n",
    "print(f\"R² Score: {r_squared:.4f}\")"
   ]
  },
  {
   "cell_type": "markdown",
   "metadata": {},
   "source": [
    "### Gradient Boosting"
   ]
  },
  {
   "cell_type": "code",
   "execution_count": 24,
   "metadata": {
    "execution": {
     "iopub.execute_input": "2024-10-20T19:40:24.257546Z",
     "iopub.status.busy": "2024-10-20T19:40:24.256731Z",
     "iopub.status.idle": "2024-10-20T19:40:40.353614Z",
     "shell.execute_reply": "2024-10-20T19:40:40.352639Z",
     "shell.execute_reply.started": "2024-10-20T19:40:24.257501Z"
    }
   },
   "outputs": [
    {
     "name": "stdout",
     "output_type": "stream",
     "text": [
      "Gradient Boosting:\n",
      "  R²: 0.9424\n",
      "  RMSE: 40372.9122\n",
      "  MAE: 28750.9431\n"
     ]
    }
   ],
   "source": [
    "# Gradient Boosting Regressor\n",
    "gb = GradientBoostingRegressor(random_state=42)\n",
    "gb.fit(X_train_scaled, y_train)\n",
    "gb_pred = gb.predict(X_test_scaled)\n",
    "\n",
    "r_squared = r2_score(y_test, gb_pred)\n",
    "rmse = np.sqrt(mean_squared_error(y_test, gb_pred))\n",
    "mae = mean_absolute_error(y_test, gb_pred)\n",
    "\n",
    "print(\"Gradient Boosting:\")\n",
    "print(f\"  R²: {r_squared:.4f}\")\n",
    "print(f\"  RMSE: {rmse:.4f}\")\n",
    "print(f\"  MAE: {mae:.4f}\")"
   ]
  },
  {
   "cell_type": "code",
   "execution_count": 36,
   "metadata": {
    "execution": {
     "iopub.execute_input": "2024-10-20T20:16:30.740601Z",
     "iopub.status.busy": "2024-10-20T20:16:30.739935Z",
     "iopub.status.idle": "2024-10-20T20:22:28.944765Z",
     "shell.execute_reply": "2024-10-20T20:22:28.943537Z",
     "shell.execute_reply.started": "2024-10-20T20:16:30.740557Z"
    }
   },
   "outputs": [
    {
     "name": "stdout",
     "output_type": "stream",
     "text": [
      "Fitting 3 folds for each of 9 candidates, totalling 27 fits\n",
      "[CV] END ...............learning_rate=0.01, n_estimators=100; total time=  21.7s\n",
      "[CV] END ...............learning_rate=0.01, n_estimators=100; total time=  21.8s\n",
      "[CV] END ...............learning_rate=0.01, n_estimators=100; total time=  22.2s\n",
      "[CV] END ...............learning_rate=0.01, n_estimators=200; total time=  43.5s\n",
      "[CV] END ...............learning_rate=0.01, n_estimators=200; total time=  44.8s\n",
      "[CV] END ...............learning_rate=0.01, n_estimators=200; total time=  45.6s\n",
      "[CV] END ...............learning_rate=0.01, n_estimators=300; total time= 1.1min\n",
      "[CV] END ...............learning_rate=0.05, n_estimators=100; total time=  23.9s\n",
      "[CV] END ...............learning_rate=0.01, n_estimators=300; total time= 1.1min\n",
      "[CV] END ...............learning_rate=0.05, n_estimators=100; total time=  22.1s\n",
      "[CV] END ...............learning_rate=0.05, n_estimators=100; total time=  22.1s\n",
      "[CV] END ...............learning_rate=0.01, n_estimators=300; total time= 1.1min\n",
      "[CV] END ...............learning_rate=0.05, n_estimators=200; total time=  44.5s\n",
      "[CV] END ...............learning_rate=0.05, n_estimators=200; total time=  43.6s\n",
      "[CV] END ...............learning_rate=0.05, n_estimators=200; total time=  43.6s\n",
      "[CV] END ................learning_rate=0.1, n_estimators=100; total time=  22.0s\n",
      "[CV] END ...............learning_rate=0.05, n_estimators=300; total time= 1.1min\n",
      "[CV] END ................learning_rate=0.1, n_estimators=100; total time=  22.5s\n",
      "[CV] END ................learning_rate=0.1, n_estimators=100; total time=  22.5s\n",
      "[CV] END ...............learning_rate=0.05, n_estimators=300; total time= 1.1min\n",
      "[CV] END ...............learning_rate=0.05, n_estimators=300; total time= 1.1min\n",
      "[CV] END ................learning_rate=0.1, n_estimators=200; total time=  43.9s\n",
      "[CV] END ................learning_rate=0.1, n_estimators=200; total time=  43.9s\n",
      "[CV] END ................learning_rate=0.1, n_estimators=200; total time=  44.1s\n",
      "[CV] END ................learning_rate=0.1, n_estimators=300; total time=  58.5s\n",
      "[CV] END ................learning_rate=0.1, n_estimators=300; total time=  51.9s\n",
      "[CV] END ................learning_rate=0.1, n_estimators=300; total time=  44.2s\n",
      "Best Parameters: {'learning_rate': 0.1, 'n_estimators': 300}\n",
      "Mean Squared Error: 1081442074.8446\n",
      "Root Mean Squared Error: 32885.2866\n",
      "R² Score: 0.9618\n"
     ]
    }
   ],
   "source": [
    "gb = GradientBoostingRegressor()\n",
    "\n",
    "# Define the parameter grid for Grid Search\n",
    "param_grid = {\n",
    "    'n_estimators': [100, 200, 300],\n",
    "    'learning_rate': [0.01, 0.05, 0.1],\n",
    "}\n",
    "\n",
    "grid_search = GridSearchCV(estimator=gb, param_grid=param_grid, \n",
    "                           scoring='neg_mean_squared_error', cv=3, n_jobs=-1, verbose=2)\n",
    "grid_search.fit(X_train_scaled, y_train)\n",
    "\n",
    "y_pred = grid_search.best_estimator_.predict(X_test_scaled)\n",
    "\n",
    "mse = mean_squared_error(y_test, y_pred)\n",
    "rmse = np.sqrt(mse)\n",
    "r_squared = r2_score(y_test, y_pred)\n",
    "\n",
    "# Print results\n",
    "print(f\"Best Parameters: {grid_search.best_params_}\")\n",
    "print(f\"Mean Squared Error: {mse:.4f}\")\n",
    "print(f\"Root Mean Squared Error: {rmse:.4f}\")\n",
    "print(f\"R² Score: {r_squared:.4f}\")\n"
   ]
  },
  {
   "cell_type": "markdown",
   "metadata": {},
   "source": [
    "### XGBoost"
   ]
  },
  {
   "cell_type": "code",
   "execution_count": 40,
   "metadata": {
    "execution": {
     "iopub.execute_input": "2024-10-20T20:27:58.269501Z",
     "iopub.status.busy": "2024-10-20T20:27:58.269075Z",
     "iopub.status.idle": "2024-10-20T20:27:59.495571Z",
     "shell.execute_reply": "2024-10-20T20:27:59.494660Z",
     "shell.execute_reply.started": "2024-10-20T20:27:58.269456Z"
    }
   },
   "outputs": [
    {
     "name": "stdout",
     "output_type": "stream",
     "text": [
      "XGBoost:\n",
      "  R²: 0.9735\n",
      "  RMSE: 27388.1836\n",
      "  MAE: 19549.3749\n"
     ]
    }
   ],
   "source": [
    "# XGBoost Regressor\n",
    "xgb = XGBRegressor(n_estimators=200, max_depth=10, random_state=42)\n",
    "xgb.fit(X_train_scaled, y_train)\n",
    "xgb_pred = xgb.predict(X_test_scaled)\n",
    "\n",
    "r_squared = r2_score(y_test, xgb_pred)\n",
    "rmse = np.sqrt(mean_squared_error(y_test, xgb_pred))\n",
    "mae = mean_absolute_error(y_test, xgb_pred)\n",
    "\n",
    "print(\"XGBoost:\")\n",
    "print(f\"  R²: {r_squared:.4f}\")\n",
    "print(f\"  RMSE: {rmse:.4f}\")\n",
    "print(f\"  MAE: {mae:.4f}\")"
   ]
  },
  {
   "cell_type": "code",
   "execution_count": 43,
   "metadata": {
    "execution": {
     "iopub.execute_input": "2024-10-20T20:29:11.507477Z",
     "iopub.status.busy": "2024-10-20T20:29:11.506574Z",
     "iopub.status.idle": "2024-10-20T20:34:57.781458Z",
     "shell.execute_reply": "2024-10-20T20:34:57.780563Z",
     "shell.execute_reply.started": "2024-10-20T20:29:11.507432Z"
    }
   },
   "outputs": [
    {
     "name": "stdout",
     "output_type": "stream",
     "text": [
      "Fitting 3 folds for each of 12 candidates, totalling 36 fits\n",
      "[CV] END .learning_rate=0.01, max_depth=10, n_estimators=100; total time=   9.8s\n",
      "[CV] END .learning_rate=0.01, max_depth=10, n_estimators=100; total time=   9.8s\n",
      "[CV] END .learning_rate=0.01, max_depth=10, n_estimators=100; total time=  10.0s\n",
      "[CV] END .learning_rate=0.01, max_depth=10, n_estimators=200; total time=  20.0s\n",
      "[CV] END .learning_rate=0.01, max_depth=10, n_estimators=200; total time=  19.2s\n",
      "[CV] END .learning_rate=0.01, max_depth=10, n_estimators=200; total time=  19.8s\n",
      "[CV] END .learning_rate=0.01, max_depth=10, n_estimators=300; total time=  29.1s\n",
      "[CV] END .learning_rate=0.01, max_depth=10, n_estimators=300; total time=  29.0s\n",
      "[CV] END .learning_rate=0.01, max_depth=10, n_estimators=300; total time=  29.3s\n",
      "[CV] END .learning_rate=0.01, max_depth=15, n_estimators=100; total time=  29.4s\n",
      "[CV] END .learning_rate=0.01, max_depth=15, n_estimators=100; total time=  29.1s\n",
      "[CV] END .learning_rate=0.01, max_depth=15, n_estimators=100; total time=  27.7s\n",
      "[CV] END .learning_rate=0.01, max_depth=15, n_estimators=200; total time= 1.1min\n"
     ]
    },
    {
     "name": "stderr",
     "output_type": "stream",
     "text": [
      "/opt/conda/lib/python3.10/site-packages/joblib/externals/loky/process_executor.py:752: UserWarning: A worker stopped while some jobs were given to the executor. This can be caused by a too short worker timeout or by a memory leak.\n",
      "  warnings.warn(\n"
     ]
    },
    {
     "name": "stdout",
     "output_type": "stream",
     "text": [
      "[CV] END .learning_rate=0.01, max_depth=15, n_estimators=200; total time= 1.1min\n",
      "[CV] END .learning_rate=0.01, max_depth=15, n_estimators=200; total time= 1.0min\n",
      "[CV] END ..learning_rate=0.1, max_depth=10, n_estimators=100; total time=   8.1s\n",
      "[CV] END ..learning_rate=0.1, max_depth=10, n_estimators=100; total time=   8.4s\n",
      "[CV] END ..learning_rate=0.1, max_depth=10, n_estimators=100; total time=   7.4s\n",
      "[CV] END ..learning_rate=0.1, max_depth=10, n_estimators=200; total time=  12.8s\n",
      "[CV] END ..learning_rate=0.1, max_depth=10, n_estimators=200; total time=  12.2s\n",
      "[CV] END .learning_rate=0.01, max_depth=15, n_estimators=300; total time= 1.8min\n",
      "[CV] END ..learning_rate=0.1, max_depth=10, n_estimators=200; total time=  12.0s\n",
      "[CV] END ..learning_rate=0.1, max_depth=10, n_estimators=300; total time=  16.9s\n",
      "[CV] END ..learning_rate=0.1, max_depth=10, n_estimators=300; total time=  17.5s\n",
      "[CV] END ..learning_rate=0.1, max_depth=10, n_estimators=300; total time=  17.0s\n",
      "[CV] END .learning_rate=0.01, max_depth=15, n_estimators=300; total time= 1.7min\n",
      "[CV] END .learning_rate=0.01, max_depth=15, n_estimators=300; total time= 1.8min\n",
      "[CV] END ..learning_rate=0.1, max_depth=15, n_estimators=100; total time=  27.5s\n",
      "[CV] END ..learning_rate=0.1, max_depth=15, n_estimators=100; total time=  28.5s\n",
      "[CV] END ..learning_rate=0.1, max_depth=15, n_estimators=100; total time=  27.9s\n",
      "[CV] END ..learning_rate=0.1, max_depth=15, n_estimators=200; total time=  44.0s\n",
      "[CV] END ..learning_rate=0.1, max_depth=15, n_estimators=200; total time=  46.8s\n",
      "[CV] END ..learning_rate=0.1, max_depth=15, n_estimators=200; total time=  44.5s\n",
      "[CV] END ..learning_rate=0.1, max_depth=15, n_estimators=300; total time=  57.5s\n",
      "[CV] END ..learning_rate=0.1, max_depth=15, n_estimators=300; total time=  50.7s\n",
      "[CV] END ..learning_rate=0.1, max_depth=15, n_estimators=300; total time=  48.4s\n",
      "Best Parameters: {'learning_rate': 0.1, 'max_depth': 10, 'n_estimators': 300}\n",
      "Mean Squared Error: 644366399.2931\n",
      "Root Mean Squared Error: 25384.3731\n",
      "R² Score: 0.9772\n"
     ]
    }
   ],
   "source": [
    "xgb = XGBRegressor()\n",
    "\n",
    "# Define the parameter grid\n",
    "param_grid = {\n",
    "    'n_estimators': [100, 200, 300],         \n",
    "    'learning_rate': [0.01, 0.1],       \n",
    "    'max_depth': [10, 15]              \n",
    "}\n",
    "\n",
    "grid_search = GridSearchCV(estimator=xgb, param_grid=param_grid, scoring='neg_mean_squared_error', cv=3, n_jobs=-1, verbose=2)\n",
    "grid_search.fit(X_train_scaled, y_train)\n",
    "\n",
    "best_xgb_model = grid_search.best_estimator_\n",
    "\n",
    "y_pred = best_xgb_model.predict(X_test_scaled)\n",
    "\n",
    "mse = mean_squared_error(y_test, y_pred)\n",
    "rmse = np.sqrt(mse)  \n",
    "r_squared = r2_score(y_test, y_pred)\n",
    "\n",
    "print(f\"Best Parameters: {grid_search.best_params_}\")\n",
    "print(f\"Mean Squared Error: {mse:.4f}\")\n",
    "print(f\"Root Mean Squared Error: {rmse:.4f}\")\n",
    "print(f\"R² Score: {r_squared:.4f}\")\n"
   ]
  },
  {
   "cell_type": "markdown",
   "metadata": {},
   "source": [
    "### Stacking"
   ]
  },
  {
   "cell_type": "code",
   "execution_count": null,
   "metadata": {},
   "outputs": [],
   "source": [
    "dt_pred = dt.predict(X_test_scaled)\n",
    "rf_pred = rf.predict(X_test_scaled)\n",
    "gb_pred = gb.predict(X_test_scaled)\n",
    "xgb_pred = xgb.predict(X_test_scaled)"
   ]
  },
  {
   "cell_type": "code",
   "execution_count": null,
   "metadata": {},
   "outputs": [],
   "source": [
    "# Combine the predictions of the base models into a single feature matrix\n",
    "X_test_meta = np.column_stack((dt_pred, rf_pred, gb_pred, xgb_pred, knn_pred))\n",
    "\n",
    "meta_model = LinearRegression()\n",
    "meta_model.fit(X_test_meta, y_test)"
   ]
  },
  {
   "cell_type": "code",
   "execution_count": null,
   "metadata": {},
   "outputs": [],
   "source": [
    "# Make predictions on new data\n",
    "dt_pred_new = dt.predict(X_test_scaled)\n",
    "rf_pred_new = rf.predict(X_test_scaled)\n",
    "gb_pred_new = gb.predict(X_test_scaled)\n",
    "xgb_pred_new = xgb.predict(X_test_scaled)\n",
    "knn_pred_new = knn.predict(X_test_scaled)\n",
    "\n",
    "X_new_meta = np.column_stack((dt_pred_new, rf_pred_new, gb_pred_new, xgb_pred_new, knn_pred_new))\n",
    "\n",
    "y_new_pred = meta_model.predict(X_new_meta)\n",
    "\n",
    "r_squared = r2_score(y_test, y_new_pred)\n",
    "adjusted_r_squared = 1 - ((1 - r_squared) * (n - 1) / (n - p - 1))\n",
    "rmse = np.sqrt(mean_squared_error(y_test, y_new_pred))\n",
    "mae = mean_absolute_error(y_test, y_new_pred)\n",
    "\n",
    "print(f\"  R²: {r_squared:.4f}\")\n",
    "print(f\"  RMSE: {rmse:.4f}\")\n",
    "print(f\"  MAE: {mae:.4f}\")"
   ]
  },
  {
   "cell_type": "code",
   "execution_count": null,
   "metadata": {},
   "outputs": [],
   "source": [
    "import joblib\n",
    "\n",
    "# Save the meta-model\n",
    "joblib.dump(meta_model, 'meta_model.pkl')\n",
    "\n",
    "# Save the base models \n",
    "joblib.dump(dt, 'decision_tree_model.pkl')\n",
    "joblib.dump(rf, 'random_forest_model.pkl')\n",
    "joblib.dump(gb, 'gradient_boosting_model.pkl')\n",
    "joblib.dump(xgb, 'xgboost_model.pkl')\n",
    "joblib.dump(lr, 'linear_regression_model.pkl')\n",
    "joblib.dump(knn, 'knn_model.pkl')\n"
   ]
  }
 ],
 "metadata": {
  "kaggle": {
   "accelerator": "nvidiaTeslaT4",
   "dataSources": [
    {
     "datasetId": 5717326,
     "sourceId": 9676234,
     "sourceType": "datasetVersion"
    }
   ],
   "dockerImageVersionId": 30786,
   "isGpuEnabled": true,
   "isInternetEnabled": true,
   "language": "python",
   "sourceType": "notebook"
  },
  "kernelspec": {
   "display_name": "Python 3 (ipykernel)",
   "language": "python",
   "name": "python3"
  },
  "language_info": {
   "codemirror_mode": {
    "name": "ipython",
    "version": 3
   },
   "file_extension": ".py",
   "mimetype": "text/x-python",
   "name": "python",
   "nbconvert_exporter": "python",
   "pygments_lexer": "ipython3",
   "version": "3.9.12"
  }
 },
 "nbformat": 4,
 "nbformat_minor": 4
}
